{
  "nbformat": 4,
  "nbformat_minor": 0,
  "metadata": {
    "colab": {
      "provenance": [],
      "collapsed_sections": [
        "6M35KkIoVe4q"
      ],
      "include_colab_link": true
    },
    "kernelspec": {
      "name": "python3",
      "display_name": "Python 3"
    },
    "language_info": {
      "name": "python"
    }
  },
  "cells": [
    {
      "cell_type": "markdown",
      "metadata": {
        "id": "view-in-github",
        "colab_type": "text"
      },
      "source": [
        "<a href=\"https://colab.research.google.com/github/InsightfulSantosh/Maths-for-Machine-Learning/blob/main/Hypothesis_Testing.ipynb\" target=\"_parent\"><img src=\"https://colab.research.google.com/assets/colab-badge.svg\" alt=\"Open In Colab\"/></a>"
      ]
    },
    {
      "cell_type": "markdown",
      "source": [
        "## **Session Flow:**\n",
        "\n",
        "###**👨🏻‍🎓 Learning Objective:**\n",
        "\n",
        "* Introduction\n",
        "* Theme\n",
        "* Primary Goals\n",
        "\n",
        "###**🔍 Hypothesis**\n",
        "\n",
        "* Understanding the concept of a hypothesis in statistics.📚\n",
        "* Formulating clear and testable research hypotheses.📝\n",
        "* Differentiating between null and alternative hypotheses.🚀\n",
        "\n",
        "###**📉 Null and Alternative Hypotheses**\n",
        "\n",
        "* Defining the null hypothesis (H0) and the alternative hypothesis (Ha).📈\n",
        "* Grasping the relationship between null and alternative hypotheses.🔗\n",
        "* Real-world examples to illustrate the application of null and alternative hypotheses.🌐\n",
        "\n",
        "###**🚫 Type I and Type II Errors**\n",
        "\n",
        "* Identifying Type I and Type II errors in hypothesis testing.❌\n",
        "* Understanding the impact of alpha (α) and beta (β) on these errors.🔬\n",
        "* Mitigating Type I and Type II errors in hypothesis testing.🎯\n",
        "\n",
        "###**👉 One-Tailed and Two-Tailed Tests**\n",
        "\n",
        "* Differentiating between one-tailed and two-tailed hypothesis tests.👣\n",
        "* When to use each type of test and their implications.📊\n",
        "* Examples to solidify the understanding of one-tailed and two-tailed tests.📚\n",
        "* Activity 1\n",
        "\n",
        "###**🔢 P-Values**\n",
        "\n",
        "* Introduction to p-values and their significance in hypothesis testing.🎲\n",
        "* Interpreting p-values to make decisions about hypotheses.🔍\n",
        "* Relation between p-values and significance levels (alpha).📝\n",
        "* Activity 2\n",
        "\n",
        "📝 Summary\n",
        "\n",
        "* What did we learn?\n",
        "* Shortcomings & Challenges\n",
        "* Best Practices & Tips\n",
        "\n",
        "🔗 Enhance your Knowledge\n",
        "\n",
        "* Mnemonic\n",
        "* Additional Resources\n",
        "\n",
        "🔍 Try it Yourself\n",
        "\n",
        "* Activities\n",
        "* Social Engagement"
      ],
      "metadata": {
        "id": "cd-QLkttV8KG"
      }
    },
    {
      "cell_type": "markdown",
      "source": [
        "# **👨🏻‍🎓 Learning Objective 👨🏻‍🎓**"
      ],
      "metadata": {
        "id": "hNQgvBFkvpa8"
      }
    },
    {
      "cell_type": "markdown",
      "source": [
        "### **Introduction**\n",
        "\n",
        "\n",
        "📣 Attention students! Get ready to dive into the world of Hypothesis Testing! 🧐\n",
        "\n",
        "In statistics, Hypothesis Testing is a way to make decisions based on data analysis. This technique is used to determine if there is enough evidence to support or reject a claim about a population parameter.\n",
        "\n",
        "🔍 The primary topics you'll be covering in this course include:\n",
        "\n",
        "🔍 Hypothesis\n",
        "📉 Null and Alternative Hypotheses\n",
        "🚫 Type I and Type II Errors\n",
        "👉 One-Tailed and Two-Tailed Tests\n",
        "🔢 P-Values.\n",
        "\n",
        "By the end of this course, you'll have a solid understanding of Hypothesis Testing and its various components. Get ready to put your critical thinking skills to the test! 💪\n",
        "\n",
        "##**Theme**\n",
        "\n",
        "🧐📊 Dive into the world of Hypothesis Testing!\n",
        "\n",
        "🌐 In this course, you'll learn the art of making informed decisions through data analysis.\n",
        "\n",
        "📈 Hypothesis Testing empowers you to separate truth from speculation, with topics like 📝 formulating hypotheses, ❌ avoiding errors, 👉 choosing the right tests, and interpreting 🔍 p-values.\n",
        "\n",
        "By the end, you'll be equipped with the tools to navigate through data complexities, ensuring you can confidently make evidence-based choices in any field! 🚀💪\n",
        "\n",
        "###**Primary Goals**\n",
        "🎯 Goal 1: Understand the basics of hypothesis testing and its importance in data analysis.\n",
        "\n",
        "🎯 Goal 2: Learn how to formulate null and alternative hypotheses.\n",
        "\n",
        "🎯 Goal 3: Be able to distinguish between Type I and Type II errors, and how to minimize their occurrence.\n",
        "\n",
        "🎯 Goal 4: Understand the concept of one-tailed and two-tailed tests, and how to choose between them based on the research question.\n",
        "\n",
        "🎯 Goal 5: Master the concept of p-values and how they are used to draw conclusions in hypothesis testing.\n",
        "\n",
        "🎯 Goal 6: Apply the concepts learned to real-world scenarios through hands-on practice.\n",
        "\n",
        "By the end of this lesson, 👩‍🎓students will have a strong foundation in Hypothesis testing and the skills to apply this concept in real-world scenarios.\n",
        "\n"
      ],
      "metadata": {
        "id": "6S7vgswjvu53"
      }
    },
    {
      "cell_type": "markdown",
      "source": [
        "# **📖Learning Material 📖**"
      ],
      "metadata": {
        "id": "Ukthvx7tFu-v"
      }
    },
    {
      "cell_type": "markdown",
      "source": [
        "## 🤔**Hypothesis**🤔\n",
        "\n",
        "\n",
        "\n"
      ],
      "metadata": {
        "id": "bF57R_BmRECe"
      }
    },
    {
      "cell_type": "markdown",
      "source": [
        "A hypothesis 🤔 can be defined as a proposed explanation for a phenomenon🌱. It is not the absolute truth but a provisional working assumption. In statistics📈 , a hypothesis is considered to be a particular assumption about a set of parameters of a population distribution. It is called a hypothesis because it is not known whether or not it is true."
      ],
      "metadata": {
        "id": "rldGo9RuREOk"
      }
    },
    {
      "cell_type": "markdown",
      "source": [
        "⏩For example, imagine💭  you notice that your plants🌱 are growing taller when you play classical music🎶 for them. You might come up with a hypothesis that the music helps the plants grow🌱. This is just an initial idea 🤔that you can test by playing different genres of music🎶 for different groups of plants🌱, measuring their growth📈, and comparing the results. If you find that the plants do indeed grow better with classical music, you can refine your hypothesis and test it further with more experiments🧪.\n",
        "\n",
        "In statistics,📊 a hypothesis is similar in that it's an assumption🧐 that we make about a population based on a sample of data. We can use statistical tests to evaluate the likelihood that our hypothesis is true, or to identify other possible explanations for our observations🔬."
      ],
      "metadata": {
        "id": "mfV_vWzVREal"
      }
    },
    {
      "cell_type": "markdown",
      "source": [
        "## ✍ **Hypothesis Test**✍\n",
        "\n",
        "A hypothesis test is a standard procedure for testing 🔬 a claim about a property of a population.\n"
      ],
      "metadata": {
        "id": "AHTo5rCEQBMS"
      }
    },
    {
      "cell_type": "markdown",
      "source": [
        "## 📈***Rare Event Rule for Inferential Statistics***📈\n",
        "\n",
        "If, under a given assumption, the probability of a\n",
        "particular observed event is exceptionally small, we\n",
        "conclude that the assumption is probably not correct.\n",
        "\n",
        "⏩***For Example***\n",
        "\n",
        "ProCare Industries, Ltd., once provided a product called “Gender Choice,”  👥 which, according to advertising claims, allowed couples to “increase your chances of having a\n",
        "boy 🧑 up to 85%, a girl 🙍 up to 80%.” Gender Choice was available in blue packages for couples wanting a baby boy and (you guessed it) pink packages for couples wanting a\n",
        "baby girl.\n",
        "\n",
        "Suppose we conduct an experiment 🧪 with 100 couples who want to have baby girls, and they all follow the Gender Choice “easy-to-use in-home system” described in\n",
        "the pink package. For the purpose of testing the claim of an increased likelihood for girls, we will assume that Gender Choice has no effect.\n",
        "\n",
        "<br>\n",
        "\n",
        "---\n",
        "\n",
        "<br>\n",
        "\n",
        "Using common sense and no formal statistical methods, what should we conclude about\n",
        "the assumption of no effect from Gender Choice if 100 couples using Gender Choice have\n",
        "100 babies 🧒 consisting of a) 52 girls?🙍; b) 97 girls?🙍\n",
        "\n",
        "<br>\n",
        "\n",
        "\n",
        "\n",
        "🤔We normally expect around 50 girls🙍 in 100 births. The result of 52 girls is close to 50, so we should not conclude that the Gender Choice product is effective.\n",
        "\n",
        "If the 100 couples used no special method of gender selection, the result of 52 girls could easily occur by\n",
        "chance. The assumption of no effect from Gender Choice appears to be correct. There\n",
        "isn’t sufficient evidence to say that Gender Choice is effective.\n",
        "\n",
        "The result of 97 girls in 100 births is extremely unlikely to occur by chance. We could\n",
        "explain the occurrence of 97 girls in one of two ways : Either an extremely rare event has\n",
        "occurred by chance, or Gender Choice is effective. The extremely low probability of\n",
        "getting 97 girls is strong evidence against the assumption that Gender Choice has no\n",
        "effect. It does appear to be effective."
      ],
      "metadata": {
        "id": "DKYYPa-jQBrN"
      }
    },
    {
      "cell_type": "markdown",
      "source": [
        "## **Components of a formal hypothesis test**\n",
        "\n",
        "❏ Given a claim, identify the null hypothesis and the alternative\n",
        "hypothesis, and express them both in symbolic form.\n",
        "\n",
        "❏ Given a claim and sample data, calculate the value of the test statistic.\n",
        "\n",
        "❏ Given a significance level, identify the critical value(s).\n",
        "\n",
        "❏ Given a value of the test statistic, identify the P-value.\n",
        "\n",
        "❏ State the conclusion of a hypothesis test in simple, non-technical\n",
        "terms."
      ],
      "metadata": {
        "id": "_Lu4LnBFggo-"
      }
    },
    {
      "cell_type": "markdown",
      "source": [
        "## **Null and Alternative Hypotheses**\n",
        "\n"
      ],
      "metadata": {
        "id": "bUFhPrFYQCN-"
      }
    },
    {
      "cell_type": "markdown",
      "source": [
        "### ***Null Hypothesis : $H_o$***\n",
        "\n",
        "**What is a null hypothesis?**\n",
        "\n",
        "❏ The null hypothesis ( denoted by $H_o$) is a statement that the value of a population parameter (such as proportion, mean, or standard deviation) is equal to some claimed value.\n",
        "\n",
        "❏ We test the null hypothesis directly.\n",
        "\n",
        "❏ Either reject $H_o$ or fail to reject $H_o$.\n",
        "\n",
        "❏ The null hypothesis is what we are willing to assume is the case until proven otherwise. We can never claim that the null hypothesis has been actually proved.\n",
        "\n",
        "\n",
        "---\n",
        "\n",
        "\n",
        "\n",
        "**Based on the questions/examples we listed, the null hypotheses might be :**\n",
        "\n",
        "❏ The daily number of homicides in India do follow a Poisson\n",
        "distribution.\n",
        "\n",
        "❏ The unemployment rate in India has remained unchanged over the last quarter.\n",
        "\n",
        "❏ Moderna’s COVID-19 vaccine does not reduce the chances of\n",
        "contracting COVID-19\n",
        "\n",
        "❏ The Higgs Boson does not exist.\n"
      ],
      "metadata": {
        "id": "gXU1jwszQCg_"
      }
    },
    {
      "cell_type": "markdown",
      "source": [
        "### ***Alternative Hypothesis : $H_A$***\n",
        "\n",
        "**What is an alternative hypothesis?**\n",
        "\n",
        "❏ The alternative hypothesis (denoted by $H_1 or H_a or H_A$) is the statement that the statistic has a value that somehow differs from the null hypothesis.\n",
        "\n",
        "❏ The symbolic form of the alternative hypothesis must use one of these symbols: ≠, <, >.\n",
        "\n",
        "❏  The alternative hypothesis is typically what researchers are hoping to find evidence for, as it represents a new theory or idea that could advance our understanding of the world.\n",
        "\n",
        "\n",
        "\n",
        "---\n",
        "\n",
        "\n",
        "<br>\n",
        "\n",
        "There are **three types** of alternative hypotheses:\n",
        "\n",
        "<br>\n",
        "\n",
        "1️⃣ ***One-tailed alternative hypothesis:*** This type of alternative hypothesis proposes that there is a difference between two groups 👥  in a specific direction.\n",
        "\n",
        "For example, if we wanted to test the hypothesis that a new medication 💊 reduces pain better than a placebo, we might use a one-tailed alternative hypothesis that says the medication reduces pain more than the placebo.\n",
        "\n",
        "2️⃣ ***Two-tailed alternative hypothesis:*** This type of alternative hypothesis proposes that there is a difference between two groups, but does not specify a particular direction.\n",
        "\n",
        "For example, if we wanted to test the hypothesis that a new medication 💊 has a different effect on pain 🤕than a placebo, we might use a two-tailed alternative hypothesis that says the medication has a different effect on pain 🤕 than the placebo.\n",
        "\n",
        "3️⃣ ***Non-inferiority or equivalence alternative hypothesis:*** This type of alternative hypothesis proposes that there is no significant difference between two groups or treatments🩺, or that the difference is not clinically 🩺 meaningful.\n",
        "\n",
        "For example, if we wanted to test the hypothesis that a new medication is no worse than an existing medication for treating a certain condition, we might use a non-inferiority alternative hypothesis.\n",
        "\n",
        "\n",
        "\n",
        "---\n",
        "\n",
        "\n",
        "\n",
        "**For example:** suppose we want to test the hypothesis📊 that a new pain medication💊 is more effective than an existing medication. We could set up our hypotheses 📈as follows:\n",
        "\n",
        "🩺**Null hypothesis:** The new pain medication is no more effective than the existing medication💊.\n",
        "\n",
        "🩺**One-tailed alternative hypothesis:** The new pain medication is more effective than the existing medication💊.\n",
        "\n",
        "🩺**Two-tailed alternative hypothesis:** The new pain medication has a different effect on pain than the existing medication.\n",
        "Non-inferiority or equivalence alternative hypothesis: The new pain medication is not significantly worse than the existing medication💊.\n",
        "\n",
        "\n",
        "We could then conduct a statistical 📊 test to determine whether the data supports one of these hypotheses over the others. By carefully choosing our hypotheses and analyzing the data, we can draw conclusions about the effectiveness of the new medication and potentially make improvements to patient care.\n"
      ],
      "metadata": {
        "id": "OhJxYBEbQCtw"
      }
    },
    {
      "cell_type": "markdown",
      "source": [
        "## 🤔***How to form your claim or hypothesis?***🤔\n",
        "\n",
        "\n",
        "❏ If you are conducting a study and want to use a\n",
        "hypothesis test to support your claim, the claim must be\n",
        "worded so that it becomes the alternative hypothesis.\n",
        "\n",
        "<br>\n",
        "\n",
        "---\n",
        "\n",
        "<br>\n",
        "\n",
        "**Step 1 :** Identify the specific claim or hypothesis to be tested and express it in symbolic form\n",
        "\n",
        "**Step 2 :** Give the symbolic form that must be true when the original claim is false\n",
        "\n",
        "**Step 3 :** Of the two symbolic expressions obtained so far, let the alternative hypothesis $H_A$ be the one not containing equality so that $H_A$ uses the symbol < or > or ≠. Let the null hypothesis $H_o$ be the symbolic expression that the statistic equals the fixed value being considered"
      ],
      "metadata": {
        "id": "xHO3CHwOg2tA"
      }
    },
    {
      "cell_type": "markdown",
      "source": [
        "## 🔍***Identify the null and alternative hypothesis*** 🔍\n",
        "\n",
        "The proportion of drivers who admit to running red lights is\n",
        "greater than 0.5.\n",
        "\n",
        "**Step 1 :** We express the given claim as p > 0.5.\n",
        "\n",
        "**Step 2 :** We see that if p > 0.5 is false, then p ≤ 0.5 must be true.\n",
        "\n",
        "**Step 3 :** We let the alternative hypothesis $H_A$ be p > 0.5, and we let $H_o$ be p = 0.5.\n",
        "\n",
        "<br>\n",
        "\n",
        "\n",
        "---\n",
        "\n",
        "<br>\n",
        "\n",
        "The mean height of professional basketball players is at most 7 ft.\n",
        "\n",
        "**Step 1 :** We express “a mean of at most 7 ft” in symbols as $μ$ ≤ 7.\n",
        "\n",
        "**Step 2 :** We see that if $μ$ ≤ 7 is false, then $μ$ > 7 must be true.\n",
        "\n",
        "**Step 3 :** We let the alternative hypothesis $H_A$ be $μ$ > 7, and we let $H_0$ be $μ$ = 7.\n",
        "\n",
        "<br>\n",
        "\n",
        "\n",
        "\n",
        "---\n",
        "\n",
        "<br>\n",
        "\n",
        "The standard deviation of IQ scores of actors is equal to 15.\n",
        "\n",
        "**Step 1 :** We express the given claim as = 15.\n",
        "\n",
        "**Step 2 :** We see that if $σ$ = 15 is false, then $σ$ ≠ 15 must be true.\n",
        "\n",
        "**Step 3 :** We let the alternative hypothesis $H_A$ be $σ$ ≠ 15 and we let $H_0$ be $σ$ = 15."
      ],
      "metadata": {
        "id": "zkr3OKlng2wu"
      }
    },
    {
      "cell_type": "markdown",
      "source": [
        "## **Type I and Type II Errors**"
      ],
      "metadata": {
        "id": "TtsO0g8AHqBs"
      }
    },
    {
      "cell_type": "markdown",
      "source": [
        "### ***Type - I error***\n",
        "\n",
        "A Type I error is the mistake of rejecting the null hypothesis when it is true.\n",
        "\n",
        "The symbol $α$ (alpha) is used to represent the probability of a type I error."
      ],
      "metadata": {
        "id": "5qHP2LRDH12t"
      }
    },
    {
      "cell_type": "markdown",
      "source": [
        "### ***Type - II error***\n",
        "\n",
        "A Type II error is the mistake of failing to reject the null hypothesis when it is\n",
        "false.\n",
        "\n",
        "The symbol $β$ (beta) is used to represent the probability of a type II error."
      ],
      "metadata": {
        "id": "ZPa9MjVxKhsK"
      }
    },
    {
      "cell_type": "markdown",
      "source": [
        "### ***Type I and Type II errors***"
      ],
      "metadata": {
        "id": "-9q_b3atKhvk"
      }
    },
    {
      "cell_type": "markdown",
      "source": [
        "![image.png](data:image/png;base64,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)"
      ],
      "metadata": {
        "id": "0i80vomlLCnN"
      }
    },
    {
      "cell_type": "markdown",
      "source": [
        "## ***Test Statistic***\n",
        "\n",
        "The test statistic is a value used in making a decision\n",
        "about the null hypothesis, and is found by converting the\n",
        "sample statistic to a score with the assumption that the\n",
        "null hypothesis is true.\n"
      ],
      "metadata": {
        "id": "5ZQIs4pDg2zG"
      }
    },
    {
      "cell_type": "markdown",
      "source": [
        "### ***Test Statistic - Formula***\n",
        "<br>\n",
        "\n",
        "***Test statistics for proportions:***\n",
        "\n",
        "## ${z=\\frac{\\hat{p}-p}{\\sqrt{\\frac{pq}{n}}}}$\n",
        "\n",
        "\n",
        "---\n",
        "\n",
        "\n",
        "\n",
        "***Test statistic for mean***\n",
        "\n",
        "## ${z=\\frac{\\bar{X}-μ_{\\bar{X}}}{\\frac{σ}{\\sqrt{n}}}}$\n",
        "\n",
        "\n",
        "\n",
        "---\n",
        "\n",
        "***Test statistics for variance***\n",
        "\n",
        "## ${X^2=\\frac{(n-1)S^2}{σ^2}}$"
      ],
      "metadata": {
        "id": "Uc4lIhIbg21n"
      }
    },
    {
      "cell_type": "markdown",
      "source": [
        "### ***Test Statistic - Example***\n",
        "\n",
        "\n",
        "***Problem :***\n",
        "\n",
        "A survey of n = 880 randomly selected adult drivers showed that 56% (or $p$ = 0.56) of those respondents admitted to running red lights. Find the value of the test\n",
        "statistic for the claim that the majority of all adult drivers admit to running red lights.\n",
        "\n",
        "The preceding example showed that the given claim results in the following null and alternative hypotheses: $H_0$ : $p$ = 0.5 and $H_A$ : $p$ > 0.5. Because we work under the assumption that the null hypothesis is true with $p$ = 0.5, we get the following test statistic:\n",
        "\n",
        "<br>\n",
        "\n",
        "## ${z=\\frac{\\hat{p}-p}{\\sqrt{\\frac{pq}{n}}}=>\\frac{0.56-0.5}{\\sqrt{\\frac{(0.5)(0.5)}{880}}}=3.56}$\n",
        "\n"
      ],
      "metadata": {
        "id": "CqYc67TVkiMY"
      }
    },
    {
      "cell_type": "markdown",
      "source": [
        "## ***Significance Level***\n",
        "\n",
        "The significance level (denoted by $α$) defines how much evidence we require to reject $H_0$ in favor of $H_A$"
      ],
      "metadata": {
        "id": "FGA_Ql-Xna4b"
      }
    },
    {
      "cell_type": "markdown",
      "source": [
        "## ***Critical Region***\n",
        "\n",
        "The critical region (or rejection region) is the set of all values of the test\n",
        "statistic that cause us to reject the null hypothesis."
      ],
      "metadata": {
        "id": "jPFlPosxn2Kz"
      }
    },
    {
      "cell_type": "markdown",
      "source": [
        "## ***Critical Value***\n",
        "\n",
        "A critical value is any value that separates the critical region (where we\n",
        "reject the null hypothesis) from the values of the test statistic that do\n",
        "not lead to rejection of the null hypothesis. The critical values depend\n",
        "on the nature of the null hypothesis, the sampling distribution that\n",
        "applies, and the significance level α."
      ],
      "metadata": {
        "id": "rvbLX2Zvn_fN"
      }
    },
    {
      "cell_type": "markdown",
      "source": [
        "Finding Critical Value for $α = 0.01$ (Two-tailed test)"
      ],
      "metadata": {
        "id": "zhZE3Xftcwt-"
      }
    },
    {
      "cell_type": "markdown",
      "source": [
        "![image.png](data:image/png;base64,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)"
      ],
      "metadata": {
        "id": "SYcG8lKjdUH1"
      }
    },
    {
      "cell_type": "markdown",
      "source": [
        "## 🕵️‍♀️ ***One-Tailed and Two-Tailed Tests***🕵️‍♀️"
      ],
      "metadata": {
        "id": "vs5qu1ocoG-F"
      }
    },
    {
      "cell_type": "markdown",
      "source": [
        "In hypothesis testing, a null hypothesis (H₀) is tested against an alternative hypothesis (H₁). The alternative hypothesis can be one-tailed or two-tailed, which determines the direction of the test."
      ],
      "metadata": {
        "id": "lO6YGBx4Pcoo"
      }
    },
    {
      "cell_type": "markdown",
      "source": [
        "**👉 One-tailed test 👈**\n",
        "\n",
        "* A one-tailed test is when the alternative hypothesis is directional, meaning it specifies a particular direction of difference between the sample mean and the population mean.\n",
        "* The critical region is located entirely in one tail of the distribution.\n",
        "* For example, if we want to test whether a new drug increases blood pressure, the one-tailed alternative hypothesis would be that the drug increases blood pressure."
      ],
      "metadata": {
        "id": "48aT9FoyPgZj"
      }
    },
    {
      "cell_type": "markdown",
      "source": [
        "A one-tailed test, showing the p-value as the size of one tail."
      ],
      "metadata": {
        "id": "b0gUfl5x4Edi"
      }
    },
    {
      "cell_type": "markdown",
      "source": [
        "![image.png](data:image/png;base64,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)"
      ],
      "metadata": {
        "id": "uFV4Y3t24Nv-"
      }
    },
    {
      "cell_type": "markdown",
      "source": [
        "**👉 Two-tailed test 👈**\n",
        "\n",
        "* A two-tailed test is when the alternative hypothesis is non-directional, meaning it specifies a difference between the sample mean and the population mean without specifying a particular direction.\n",
        "* The critical region is located in both tails of the distribution.\n",
        "* For example, if we want to test whether a coin is biased, the two-tailed alternative hypothesis would be that the coin is not fair."
      ],
      "metadata": {
        "id": "0ZdCNErSPgfV"
      }
    },
    {
      "cell_type": "markdown",
      "source": [
        "A two-tailed test applied to the normal distribution."
      ],
      "metadata": {
        "id": "vTvDAi1j4fts"
      }
    },
    {
      "cell_type": "markdown",
      "source": [
        "![image.png](data:image/png;base64,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)"
      ],
      "metadata": {
        "id": "ynlF9NR-4T03"
      }
    },
    {
      "cell_type": "markdown",
      "source": [
        "Let's consider the following scenario,\n",
        "\n",
        "A teacher 🧑 claims that the average score of his students in a test📃 is 80. A researcher 👨‍🔬 wants to test this claim using a sample of 30 students. The null hypothesis is that the mean score is $80 (H_0: μ = 80)$. The alternative hypothesis can be either one-tailed or two-tailed.\n",
        "\n",
        "👉 One-tailed test: The alternative hypothesis is that the average score is greater than $80(H_1: μ > 80)$. In this case, the researcher is interested in only one direction of difference, and the critical region is located in the upper tail of the distribution.\n",
        "\n",
        "👉 Two-tailed test: The alternative hypothesis is that the average score is not equal to $80(H_1: μ ≠ 80)$. In this case, the researcher is interested in any direction of difference, and the critical region is located in both tails of the distribution."
      ],
      "metadata": {
        "id": "R_aPqY98RELd"
      }
    },
    {
      "cell_type": "markdown",
      "source": [
        "##**One-Tailed Test:**\n",
        "\n",
        "* **<u>Null Hypothesis $(H_0)$: </u>**        \n",
        "  \n",
        "###  $μ ≤ X$\n",
        "\n",
        "* **<u>Alternative Hypothesis $(H_a)$:</u>**\n",
        "\n",
        "###$μ > X$\n",
        "\n",
        "* **<u>Test Statistic:</u>**\n",
        "###${z = \\frac{(\\bar{X}- μ)}{(\\frac{σ}{\\sqrt{n})}}}$\n",
        "\n",
        "where,\n",
        "\n",
        "$\\bar{X}$ is the sample mean,\n",
        "\n",
        "$μ$ is the hypothesized population mean,\n",
        "\n",
        "$σ$ is the population standard deviation,\n",
        "\n",
        "$n$ is the sample size.\n",
        "\n",
        "**<u>Critical Value:</u>**\n",
        "\n",
        "### $zα$\n",
        "\n",
        "where,\n",
        "\n",
        "$α$ is the significance level and can be found in a z-table or calculated using a calculator.\n",
        "\n",
        "* **<u>Rejection Region:</u>**\n",
        "\n",
        "If,\n",
        "\n",
        "### $z > zα$\n",
        "\n",
        "reject the null hypothesis."
      ],
      "metadata": {
        "id": "v0BJ8vB3Q00q"
      }
    },
    {
      "cell_type": "markdown",
      "source": [
        "### ⏩**Example:**\n",
        "\n",
        "A shoe manufacturer claims that their shoes have an average lifespan of 12 months. You take a random sample of 100 shoes and find that the average lifespan is 13 months with a standard deviation of 2 months. Test the manufacturer's claim at a 5% level of significance.\n",
        "\n",
        "$H_0: μ ≤ 12$\n",
        "\n",
        "$H_a: μ > 12$\n",
        "\n",
        "Test Statistic: ${z = \\frac{(13 - 12)}{(\\frac{2}{\\sqrt{100}})} = 5}$\n",
        "\n",
        "Critical Value: $z_{0.05} = 1.645$\n",
        "\n",
        "Rejection Region: If $z > 1.645$, reject the null hypothesis.\n",
        "\n",
        "Since the calculated test statistic $(z = 5)$ is greater than the critical value $(z_{0.05} = 1.645)$, we reject the null hypothesis and conclude that the shoe manufacturer's claim is not supported by the data."
      ],
      "metadata": {
        "id": "h0EFXnkkm-Fa"
      }
    },
    {
      "cell_type": "markdown",
      "source": [
        "##**Two-Tailed Test**\n",
        "\n",
        "* **<u>Null Hypothesis $(H_0)$:</u>**\n",
        "\n",
        "$μ = X$\n",
        "\n",
        "* **<u>Alternative Hypothesis $(H_a)$:</u>**\n",
        "\n",
        "$μ ≠ X$\n",
        "\n",
        "* **<u>Test Statistic:</u>**\n",
        "\n",
        "##${t = \\frac{(\\bar{X} - μ)}{(\\frac{s}{\\sqrt{n}})}}$\n",
        "\n",
        "where,\n",
        "\n",
        "$X̄$ is the sample mean, μ is the hypothesized population mean,\n",
        "\n",
        "$s$ is the sample standard deviation, and n is the sample size.\n",
        "\n",
        "* **<u>Degrees of Freedom:</u>**\n",
        "\n",
        "### $n - 1$\n",
        "\n",
        "* **<u>Critical Value:</u>**\n",
        "\n",
        "### $t_{\\frac{α}{2}}$\n",
        "\n",
        "where,\n",
        "\n",
        "$α$ is the significance level and can be found in a t-table or calculated using a calculator.\n",
        "\n",
        "* **<u>Rejection Region:</u>**\n",
        "\n",
        "If,\n",
        "\n",
        "### ${t < -t_{\\frac{α}{2}}}$ $or$ ${t > t_{\\frac{α}{2}}}$\n",
        "\n",
        "reject the null hypothesis."
      ],
      "metadata": {
        "id": "G9jLamoHQ082"
      }
    },
    {
      "cell_type": "markdown",
      "source": [
        "### ⏩**Example:**\n",
        "\n",
        "A grocery store claims that their organic apples weigh an average of 150 grams. You take a random sample of 30 organic apples and find that the average weight is 155 grams with a standard deviation of 10 grams. Test the grocery store's claim at a 5% level of significance.\n",
        "\n",
        "${H_0: μ = 150}$\n",
        "\n",
        "$H_a: μ ≠ 150$\n",
        "\n",
        "Test Statistic: ${t = \\frac{(155 - 150)}{(\\frac{10}{\\sqrt{30}})} = 3.07}$\n",
        "\n",
        "Degrees of Freedom: ${30 - 1 = 29}$\n",
        "\n",
        "Critical Value: ${t_{0.025} = ±2.045}$\n",
        "\n",
        "Rejection Region: If ${t < -2.045}$ or ${t > 2.045}$, reject the null hypothesis.\n",
        "\n",
        "Since the calculated test statistic ${(t = 3.07)}$ falls outside of the rejection region (±2.045), we reject the null hypothesis and conclude that the grocery store's claim is not supported by the data."
      ],
      "metadata": {
        "id": "J1_fmpsxnVRO"
      }
    },
    {
      "cell_type": "markdown",
      "source": [
        "Right and left-tailed tests are two types of hypothesis tests that are commonly used in statistical analysis."
      ],
      "metadata": {
        "id": "c1-VhaIOwkc_"
      }
    },
    {
      "cell_type": "markdown",
      "source": [
        "###👉 **Right-tailed test**"
      ],
      "metadata": {
        "id": "hus2uv4xwq0S"
      }
    },
    {
      "cell_type": "markdown",
      "source": [
        "A right-tailed test is used to determine if a sample mean is significantly greater than a hypothesized population mean. The null hypothesis assumes that the sample mean is less than or equal to the hypothesized population mean. The alternative hypothesis assumes that the sample mean is greater than the hypothesized population mean.\n",
        "\n",
        "📊 Formula:\n",
        "\n",
        "* **<u>Null Hypothesis $(H_0)$:</u>**\n",
        "\n",
        "### ${μ ≤ X}$\n",
        "\n",
        "* <u>**Alternative Hypothesis $(H_a)$:**</u>\n",
        "\n",
        "### ${μ > X}$\n",
        "\n",
        "* <u>**Test Statistic:**</u>\n",
        "\n",
        "### ${z = \\frac{(\\bar{X} - μ)}{(\\frac{s}{\\sqrt{n}})}}$\n",
        "\n",
        "where,\n",
        "\n",
        "$\\bar{X}$ is the sample mean,\n",
        "\n",
        "$μ$ is the hypothesized population mean,\n",
        "\n",
        "${s}$ is the sample standard deviation,\n",
        "\n",
        "${n}$ is the sample size.\n",
        "\n",
        "* <u>**Critical Value:**</u>\n",
        "\n",
        "### ${z_α}$\n",
        "\n",
        "where,\n",
        "\n",
        "$α$ is the significance level and can be found in a z-table or calculated using a calculator.\n",
        "\n",
        "* <u>**Rejection Region:**</u>\n",
        "\n",
        "If,\n",
        "\n",
        "### ${z > z_α}$\n",
        "\n",
        "reject the null hypothesis.\n",
        "\n"
      ],
      "metadata": {
        "id": "y1F6--Rkw1Ba"
      }
    },
    {
      "cell_type": "markdown",
      "source": [
        "🔍 **Example:**\n",
        "\n",
        "A car manufacturer claims that a new engine design can achieve an average fuel efficiency of 30 miles per gallon (MPG) or more. You take a random sample of 50 cars with the new engine and find that the average fuel efficiency is 31 MPG with a standard deviation of 2 MPG. Test the manufacturer's claim at a 5% level of significance.\n",
        "\n",
        "${H_0: μ ≤ 30}$\n",
        "\n",
        "${H_a: μ > 30}$\n",
        "\n",
        "Test Statistic: ${z = \\frac{(31 - 30)}{(\\frac{2}{\\sqrt{50}})} = 5}$\n",
        "\n",
        "Critical Value: ${z_{0.05} = 1.645}$\n",
        "\n",
        "Rejection Region: If ${z > 1.645}$, reject the null hypothesis.\n",
        "\n",
        "Since the calculated test statistic (z = 5) is greater than the critical value ${(z_{0.05} = 1.645)}$, we reject the null hypothesis and conclude that the car manufacturer's claim is supported by the data.\n"
      ],
      "metadata": {
        "id": "4nahYTYQ4pK5"
      }
    },
    {
      "cell_type": "markdown",
      "source": [
        "##**Activity : Fill in the Blanks**\n",
        "\n",
        "* **Q1:** Hypothesis testing is a standard procedure for testing a claim about a property of a _____\n",
        "* **Q2:** The _____ is the mistake of rejecting the null hypothesis when it is true\n",
        "* **Q3:** The critical region (or rejection region) is the set of all values of the test statistic that cause us to ___ the null hypothesis.\n",
        "* **Q4:** The __ is the mistake of failing to reject the null hypothesis when it is _____"
      ],
      "metadata": {
        "id": "PWEiAkugesED"
      }
    },
    {
      "cell_type": "markdown",
      "source": [
        "###**Answers**"
      ],
      "metadata": {
        "id": "nw2NeMjYf0t1"
      }
    },
    {
      "cell_type": "markdown",
      "source": [
        "* **Q1:** Population\n",
        "* **Q2:** Type I error\n",
        "* **Q3:** reject\n",
        "* **Q4:** Type-II Error , False"
      ],
      "metadata": {
        "id": "PEn8-2Ppf37Y"
      }
    },
    {
      "cell_type": "markdown",
      "source": [
        "###👉 **Left-tailed test**"
      ],
      "metadata": {
        "id": "t3N42r0Dw4Nd"
      }
    },
    {
      "cell_type": "markdown",
      "source": [
        "A left-tailed test is used to determine if a sample mean is significantly less than a hypothesized population mean. The null hypothesis assumes that the sample mean is greater than or equal to the hypothesized population mean. The alternative hypothesis assumes that the sample mean is less than the hypothesized population mean.\n",
        "\n",
        "📊 Formula:\n",
        "\n",
        "* **<u>Null Hypothesis ${(H_0)}$:</u>**\n",
        "\n",
        "### ${μ ≥ X}$\n",
        "\n",
        "* **<u>Alternative Hypothesis $(H_a)$:</u>**\n",
        "\n",
        "### ${μ < X}$\n",
        "\n",
        "* **<u>Test Statistic:</u>**\n",
        "\n",
        "## ${z = \\frac{(\\bar{X} - μ)}{(\\frac{s}{\\sqrt{n}})}}$\n",
        "\n",
        "where,\n",
        "\n",
        "$\\bar{X}$ is the sample mean,\n",
        "\n",
        "$μ$ is the hypothesized population mean,\n",
        "\n",
        "$s$ is the sample standard deviation,\n",
        "\n",
        "$n$ is the sample size.\n",
        "\n",
        "* **<u>Critical Value:</u>**\n",
        "\n",
        "### $-z_α$\n",
        "\n",
        "where $α$ is the significance level and can be found in a z-table or calculated using a calculator.\n",
        "\n",
        "* **<u>Rejection Region:</u>**\n",
        "\n",
        "If,\n",
        "\n",
        "### ${z < -z_α}$\n",
        "\n",
        "reject the null hypothesis.\n",
        "\n",
        "🔍 **Example:**\n",
        "\n",
        "A bakery claims that their new recipe for muffins contains no more than 10 grams of sugar. You take a random sample of 25 muffins and find that the average sugar content is 9 grams with a standard deviation of 1 gram. Test the bakery's claim at a 1% level of significance.\n",
        "\n",
        "${H_0: μ ≥ 10}$\n",
        "\n",
        "${H_a: μ < 10}$\n",
        "\n",
        "Test Statistic: ${z = \\frac{(9 - 10)}{(\\frac{1}{\\sqrt{25}})} = -5}$\n",
        "\n",
        "Critical Value: ${-z_{0.01} = -2.326}$\n",
        "\n",
        "Rejection Region: If ${z < -2.326}$, reject the null hypothesis.\n",
        "\n",
        "Since -5 is less than -2.326, we reject the null hypothesis and conclude that the bakery's claim of no more than 10 grams of sugar per muffin is supported by the data."
      ],
      "metadata": {
        "id": "1akFpb9Xw7Uz"
      }
    },
    {
      "cell_type": "markdown",
      "source": [
        "## ***Two-tailed, Right-tailed, Left-tailed Tests***\n",
        "\n",
        "The tails in a distribution are the extreme regions bounded by critical values.\n",
        "\n",
        "❏ Two-tailed test : $H_0$: = , $H_A$: ≠\n",
        "\n",
        "❏ Right tailed test : $H_0$: = , $H_A$: >\n",
        "\n",
        "❏ Left tailed test : $H_0$: = , $H_A$: <"
      ],
      "metadata": {
        "id": "X0VmwoaXoO1L"
      }
    },
    {
      "cell_type": "markdown",
      "source": [
        "## Difference between one and two tailed test and right and left tailed test"
      ],
      "metadata": {
        "id": "N-jkLPse5VMQ"
      }
    },
    {
      "cell_type": "markdown",
      "source": [
        "🔬🧪 In hypothesis testing, ⬅️one-tailed and ➡️two-tailed tests refer to the direction of the alternative hypothesis, while ⬅️left-tailed and ➡️right-tailed tests refer to the direction of the critical region.\n",
        "\n",
        "👉A one-tailed test is used when the alternative hypothesis specifies a direction, either an increase or a decrease, in the parameter being tested. A two-tailed test is used when the alternative hypothesis does not specify a direction, but only that the parameter is not equal to the hypothesized value.\n",
        "\n",
        "👉In a ➡️right-tailed test, the critical region is in the right tail of the distribution and the null hypothesis is rejected if the test statistic falls in the critical region to the right of the mean. In a ⬅️left-tailed test, the critical region is in the left tail of the distribution and the null hypothesis is rejected if the test statistic falls in the critical region to the left of the mean.\n",
        "\n",
        "📊In summary, one-tailed and two-tailed tests are concerned with the directionality of the alternative hypothesis, while left-tailed and right-tailed tests are concerned with the location of the critical region."
      ],
      "metadata": {
        "id": "WpyQKodn5YTy"
      }
    },
    {
      "cell_type": "markdown",
      "source": [
        "## ***P-Values***"
      ],
      "metadata": {
        "id": "807I7fGzox8-"
      }
    },
    {
      "cell_type": "markdown",
      "source": [
        "The P-value (or p-value or probability value) is the probability of getting a value of the test statistic that is at least as extreme as the one representing the sample data, assuming that the null hypothesis is true. The null hypothesis is rejected if the P-value is very small, such as 0.05 or less.\n",
        "\n",
        "If a P-value is small enough, then we say the results are statistically significant."
      ],
      "metadata": {
        "id": "x7NoG815o6lM"
      }
    },
    {
      "cell_type": "markdown",
      "source": [
        "![image.png](data:image/png;base64,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)"
      ],
      "metadata": {
        "id": "hCnMgIwedukF"
      }
    },
    {
      "cell_type": "markdown",
      "source": [
        "### **Conclusions in Hypothesis Testing based on P-value**"
      ],
      "metadata": {
        "id": "Ylql6UCNpCd5"
      }
    },
    {
      "cell_type": "markdown",
      "source": [
        "We always test the null hypothesis. The initial conclusion will always be one of the following:\n",
        "\n",
        "❏ Reject the null hypothesis - if the P-value ≤ $α$ (where $α$ is the significance level, such as 0.05).\n",
        "\n",
        "❏ Fail to reject the null hypothesis - if the P-value > $α$"
      ],
      "metadata": {
        "id": "qQrYf9c1pNNp"
      }
    },
    {
      "cell_type": "markdown",
      "source": [
        "#### **Example 1**\n",
        "\n",
        "An article distributed by the Associated Press included these results from a nationwide survey: Of 880 randomly selected drivers, 56% admitted that they run red lights. The claim is that the majority of all Americans run red lights. That is, $p$ > 0.5. The sample data are n = 880, and $p$ = 0.56."
      ],
      "metadata": {
        "id": "UWuSxZ8SpZUv"
      }
    },
    {
      "cell_type": "markdown",
      "source": [
        "$H_0$ : $p$ = 0.5 , $H_A$ : $p$ > 0.5 , $α$ = 0.05\n",
        "\n",
        "<br>\n",
        "\n",
        "### ${z=\\frac{\\hat{p}-p}{\\sqrt{\\frac{pq}{n}}}=> \\frac{0.56-0.5}{\\sqrt{\\frac{(0.5)(0.5)}{880}}}=3.56}$\n",
        "\n",
        "<br>\n",
        "\n",
        "We see that for values of z = 3.50 and higher, we use 0.9999 for the cumulative area to the left of the test statistic.\n",
        "\n",
        "The P-value is 1 – 0.9999 = 0.0001. Since the P-value of 0.0001 is less than the significance level of = 0.05, we reject the null hypothesis. There is sufficient evidence to support the claim.\n",
        "\n"
      ],
      "metadata": {
        "id": "7jKTTvKB2xrY"
      }
    },
    {
      "cell_type": "markdown",
      "source": [
        "#### **Example 2**\n",
        "\n",
        "We have a sample of 106 body temperatures having a mean of 98.20°F. Assume that the sample is a simple random sample and that the population standard deviation is known to be 0.62°F. Use a 0.05 significance level to test the common\n",
        "belief that the mean body temperature of healthy adults is equal to 98.6°F."
      ],
      "metadata": {
        "id": "ymiumUu25R98"
      }
    },
    {
      "cell_type": "markdown",
      "source": [
        "$H_0$ : $μ$ = 98.6 , $H_A$ : $μ$ ≠ 98.6, $α$ = 0.05 , $\\bar{X}$ = 98.2 , $σ$ = 0.62\n",
        "\n",
        "<br>\n",
        "\n",
        "## ${z=\\frac{\\bar{X}-μ_{\\bar{X}}}{\\frac{σ}{\\sqrt{n}}}=>\\frac{98.2-98.6}{\\frac{0.62}{\\sqrt{106}}}= -6.64}$\n",
        "\n",
        "<br>\n",
        "\n",
        "This is a two-tailed test and the test statistic is to the left of the center, so the P-value is twice the area to the left of $z$ = –6.64.\n",
        "\n",
        "Using norm.cdf , the area to the left of $z$ = –6.64 is 0.0001, so the P-value is 2(0.0001) = 0.0002.\n",
        "\n",
        "Because the P-value of 0.0002 is less than the significance level of = 0.05, we reject the null hypothesis. There is sufficient evidence to conclude that the mean body temperature of healthy adults differs from 98.6°F."
      ],
      "metadata": {
        "id": "U99WOZ3l5cKj"
      }
    },
    {
      "cell_type": "markdown",
      "source": [
        "##**Activity : True or Fasle**\n",
        "\n",
        "* **Q1:** A significance level of 0.05 means that we are willing to accept a 5% chance of making a Type II error.\n",
        "* **Q2:**  A hypothesis test is a standard procedure for testing a claim about a property of a population.\n",
        "* **Q3:** Type I error is the mistake of failing to reject the null hypothesis when it is true.\n",
        "* **Q4:** A left-tailed test is used to determine if a sample mean is significantly less than a hypothesized population mean."
      ],
      "metadata": {
        "id": "Z7MUsN-ghf37"
      }
    },
    {
      "cell_type": "markdown",
      "source": [
        "##**Answers**\n"
      ],
      "metadata": {
        "id": "cg3HZILThsIL"
      }
    },
    {
      "cell_type": "markdown",
      "source": [
        "\n",
        "\n",
        "* **Q1:** False\n",
        "* **Q2:**  True\n",
        "* **Q3:** False\n",
        "* **Q4:** True"
      ],
      "metadata": {
        "id": "9fRDxUHthvKa"
      }
    },
    {
      "cell_type": "markdown",
      "source": [
        "# **✅ Summary ✅**"
      ],
      "metadata": {
        "id": "PFHe8d36YrVt"
      }
    },
    {
      "cell_type": "markdown",
      "source": [
        "## **What Did You Learn?**"
      ],
      "metadata": {
        "id": "aHkZmMbVZV81"
      }
    },
    {
      "cell_type": "markdown",
      "source": [
        "In this lesson on Hypothesis Testing, you learned about the following key concepts:\n",
        "\n",
        "🔍 Hypothesis: A tentative statement about the relationship between two or more variables.\n",
        "\n",
        "🔍 Null and Alternative Hypotheses: The null hypothesis states that there is no significant difference between the observed data and the expected data, while the alternative hypothesis suggests that there is a significant difference.\n",
        "\n",
        "🔍 Type I and Type II Errors: Type I error occurs when you reject a null hypothesis that is actually true, while Type II error occurs when you accept a null hypothesis that is actually false.\n",
        "\n",
        "🔍 One-Tailed and Two-Tailed Tests: One-tailed tests are used when you want to determine if a parameter is either greater than or less than a certain value, while two-tailed tests are used when you want to determine if a parameter is simply different from a certain value.\n",
        "\n",
        "🔍 P-Values: A p-value is a probability value that tells you how likely it is that your data occurred by chance. The smaller the p-value, the more significant your results are.\n",
        "\n",
        "By mastering these concepts, you will be able to apply hypothesis testing in various scenarios and make informed decisions based on your findings. Keep practising! 🧐\n",
        "\n"
      ],
      "metadata": {
        "id": "4X3JQP6wPLX2"
      }
    },
    {
      "cell_type": "markdown",
      "source": [
        "## **Shortcomings**"
      ],
      "metadata": {
        "id": "xl8yz3i96eQQ"
      }
    },
    {
      "cell_type": "markdown",
      "source": [
        "* Hypothesis testing is often subject to assumptions and simplifications, which may not always hold in reality. 🤔\n",
        "* It can be challenging to determine the appropriate level of significance and power for a given study. 💭\n",
        "* It's essential to keep in mind that statistical significance does not necessarily equate to practical significance. 🙅‍♂️\n",
        "* Hypothesis testing is just one tool in the statistical toolbox, and it's essential to consider other approaches depending on the research question and data available. 🔧\n",
        "* Misinterpretation of p-values can lead to false conclusions, so it's crucial to understand the concept fully and use it appropriately. 🤓\n"
      ],
      "metadata": {
        "id": "m9phMR_cP0ZS"
      }
    },
    {
      "cell_type": "markdown",
      "source": [
        "## **Best Practices /Tips**"
      ],
      "metadata": {
        "id": "4Zegs50saRux"
      }
    },
    {
      "cell_type": "markdown",
      "source": [
        "1️⃣ Start by understanding the Hypothesis and the types of hypotheses - Null and Alternative.\n",
        "\n",
        "2️⃣ Remember the difference between Type I and Type II errors.\n",
        "\n",
        "3️⃣ Know when to use one-tailed and two-tailed tests.\n",
        "\n",
        "4️⃣ Master the concept of p-values and their significance.\n",
        "\n",
        "5️⃣ Practice, practice, practice! Solving problems and exercises is the key to mastering the concepts. 🤓\n",
        "\n",
        "6️⃣ Seek help when needed, don't hesitate to ask your instructor or peers for assistance.\n",
        "\n",
        "7️⃣ Finally, stay motivated and confident. You got this! 💪\n"
      ],
      "metadata": {
        "id": "Ic2R3ySzPtqp"
      }
    },
    {
      "cell_type": "markdown",
      "source": [
        "# **➕ Additional Reading ➕**"
      ],
      "metadata": {
        "id": "GSx8_9PuVXKA"
      }
    },
    {
      "cell_type": "markdown",
      "source": [
        "Here we are going to take a look at how hypothesis testing can be used to Plan the Marketing Strategies in industries.\n",
        "\n",
        "🎯 Hypothesis testing is a powerful tool that can help businesses plan their marketing strategies by testing various hypotheses about their target audience and marketing campaigns. Let's take a look at a practical example to see how this works in the real world.\n",
        "\n",
        "🏢 Imagine that you work for a company that sells athletic shoes. Your marketing team has just launched a new ad campaign, and you want to know whether it's effective in driving sales. To do this, you can use hypothesis testing.\n",
        "\n",
        "🔍 First, you'll need to define your null and alternative hypotheses. The null hypothesis might be that the new ad campaign has no effect on sales, while the alternative hypothesis might be that the new ad campaign increases sales.\n",
        "\n",
        "📊 Next, you'll need to collect data on sales before and after the campaign launch. You can then use statistical software to perform a hypothesis test and calculate a p-value.\n",
        "\n",
        "🤔 If the p-value is less than your significance level (usually 0.05), you can reject the null hypothesis and conclude that the new ad campaign is effective in increasing sales. This means you can confidently allocate more resources towards this marketing campaign.\n",
        "\n",
        "💡 However, if the p-value is greater than your significance level, you'll fail to reject the null hypothesis, meaning that the new ad campaign has no significant effect on sales. In this case, you might need to revisit your marketing strategies and consider other approaches.\n",
        "\n",
        "📈 By using hypothesis testing in marketing, businesses can gain valuable insights into their target audience and make data-driven decisions to improve their marketing strategies. This can help increase sales, improve customer engagement, and ultimately grow the business.\n",
        "\n",
        "👨‍💼👩‍💼 So, next time you're involved in marketing planning, consider using hypothesis testing to guide your decisions and measure the effectiveness of your campaigns!\n",
        "\n",
        "\n",
        "\n"
      ],
      "metadata": {
        "id": "ZOHcKe2HZoQO"
      }
    },
    {
      "cell_type": "markdown",
      "source": [
        "##**Additional References**\n",
        "\n",
        "* https://www.investopedia.com/terms/h/hypothesistesting.asp\n",
        "* https://www.simplilearn.com/tutorials/statistics-tutorial/hypothesis-testing-in-statistics\n",
        "* https://en.wikipedia.org/wiki/Statistical_hypothesis_testing"
      ],
      "metadata": {
        "id": "gNgmj5kkeK7W"
      }
    },
    {
      "cell_type": "markdown",
      "source": [
        "## 🏃**Task 1** 🏃\n",
        "\n"
      ],
      "metadata": {
        "id": "JqqPp2ddQ2-z"
      }
    },
    {
      "cell_type": "markdown",
      "source": [
        "### **Activity 1**"
      ],
      "metadata": {
        "id": "-HOXJTEOLr2x"
      }
    },
    {
      "cell_type": "markdown",
      "source": [
        "A researcher wants to investigate whether the average IQ of university students is greater than 100. A sample of 50 university students was selected, and their average IQ was found to be 105. The researcher assumes that IQs are normally distributed, and previous studies suggest that the standard deviation of IQs among students is approximately 20.\n",
        "\n",
        "\n",
        "Is there sufficient evidence to conclude that the average IQ of university students is greater than 100, using a significance level of 0.05?\n",
        "\n"
      ],
      "metadata": {
        "id": "plw6O5RICpBL"
      }
    },
    {
      "cell_type": "markdown",
      "source": [
        "### **Activity 2**"
      ],
      "metadata": {
        "id": "GOJXM7W6to87"
      }
    },
    {
      "cell_type": "markdown",
      "source": [
        "A researcher wants to assess whether the standard deviation of the heights of 10-year-old children is equal to 3cm. The researcher randomly selects a sample of 5 heights (in cm): 124, 122, 130, 125, and 132. What statistical test can be conducted to determine if the standard deviation of heights is equal to 3cm?"
      ],
      "metadata": {
        "id": "LGyosmVBx-fV"
      }
    },
    {
      "cell_type": "markdown",
      "source": [
        "### **Activity 3**"
      ],
      "metadata": {
        "id": "DRZ8TMA9tsW4"
      }
    },
    {
      "cell_type": "markdown",
      "source": [
        "In a one-year mortality investigation, 60 out of 300 ninety-year-olds present at the start of the investigation died before the end of the year. The investigation assumes that the number of deaths follows a binomial distribution with parameters N = 300 and q = 0.25. What conclusion can be drawn from this data regarding the mortality rate for this age?"
      ],
      "metadata": {
        "id": "nyokZiXFWAVj"
      }
    },
    {
      "cell_type": "markdown",
      "source": [
        "### **Activity 4**"
      ],
      "metadata": {
        "id": "LN3Pa5R9tuXt"
      }
    },
    {
      "cell_type": "markdown",
      "source": [
        "A new gene has been identified that makes individuals particularly susceptible to a specific food allergy. In a random sample of 100 children from a certain region, 15 were found to be carriers of the gene. Test whether the proportion of children in that region carrying the gene is greater than 20%.\n",
        "\n",
        "Null Hypothesis (H0): The proportion of children carrying the gene in the region is equal to or less than 20%.\n",
        "Alternative Hypothesis (Ha): The proportion of children carrying the gene in the region is greater than 20%.\n",
        "\n",
        "You are conducting a hypothesis test using the provided information with a significance level of 0.05. What can you conclude based on the test results regarding the alternative hypothesis?\n"
      ],
      "metadata": {
        "id": "B_AQRtJBZCZ5"
      }
    },
    {
      "cell_type": "markdown",
      "source": [
        "-------------\n",
        "-------------\n",
        "### **Important Interview Questions on Hypothesis Testing with Answers**\n",
        "\n",
        "#### **1. What is Hypothesis Testing? Explain its importance.**\n",
        "\n",
        "**Answer**:  \n",
        "Hypothesis testing is a statistical method used to make decisions or inferences about a population based on sample data. It involves making an assumption (the hypothesis) about a population parameter and then using sample data to test that assumption.\n",
        "\n",
        "**Importance**:\n",
        "- **Decision-Making**: It helps in making data-driven decisions in uncertain situations.\n",
        "- **Validation**: It validates assumptions about the population, allowing for reliable predictions and conclusions.\n",
        "- **Scientific Research**: It’s widely used in scientific research to test theories and models.\n",
        "\n",
        "#### **2. What are the null and alternative hypotheses?**\n",
        "\n",
        "**Answer**:  \n",
        "- **Null Hypothesis (H₀)**: It is a statement that there is no effect or no difference, and it represents the status quo. It is assumed true until evidence suggests otherwise.\n",
        "  - Example: \"The mean income of two different regions is the same.\"\n",
        "  \n",
        "- **Alternative Hypothesis (H₁ or Ha)**: It is a statement that contradicts the null hypothesis, indicating that there is an effect or a difference.\n",
        "  - Example: \"The mean income of two different regions is different.\"\n",
        "\n",
        "#### **3. What is a p-value, and how is it interpreted in hypothesis testing?**\n",
        "\n",
        "**Answer**:  \n",
        "The **p-value** is the probability of obtaining a test statistic as extreme as, or more extreme than, the observed result, under the assumption that the null hypothesis is true. It quantifies the evidence against the null hypothesis.\n",
        "\n",
        "**Interpretation**:\n",
        "- **Low p-value (≤ 0.05)**: Strong evidence against the null hypothesis, leading to its rejection (typically).\n",
        "- **High p-value (> 0.05)**: Weak evidence against the null hypothesis, leading to its acceptance or failure to reject.\n",
        "\n",
        "#### **4. What is the difference between Type I and Type II errors?**\n",
        "\n",
        "**Answer**:  \n",
        "- **Type I Error (False Positive)**: Occurs when the null hypothesis is rejected when it is actually true.\n",
        "  - **Example**: Concluding that a drug is effective when it’s not.\n",
        "  \n",
        "- **Type II Error (False Negative)**: Occurs when the null hypothesis is not rejected when it is actually false.\n",
        "  - **Example**: Concluding that a drug is not effective when it actually is.\n",
        "\n",
        "**Trade-off**: There's usually a trade-off between Type I and Type II errors, controlled by the significance level (α).\n",
        "\n",
        "#### **5. What is the significance level (α) in hypothesis testing?**\n",
        "\n",
        "**Answer**:  \n",
        "The significance level (α) is the threshold probability for rejecting the null hypothesis. It represents the maximum risk of committing a Type I error (false positive) that the researcher is willing to accept.\n",
        "\n",
        "- **Common Significance Levels**:\n",
        "  - **0.05**: 5% risk of Type I error (common in many fields).\n",
        "  - **0.01**: 1% risk (used in more stringent tests).\n",
        "  \n",
        "**Example**: If α = 0.05, there is a 5% chance of rejecting the null hypothesis when it is actually true.\n",
        "\n",
        "#### **6. What are one-tailed and two-tailed tests in hypothesis testing?**\n",
        "\n",
        "**Answer**:  \n",
        "- **One-Tailed Test**: Tests if the sample mean is significantly greater than or less than a population mean. It is used when the direction of the effect is known or hypothesized.\n",
        "  - **Example**: Testing if a new drug increases recovery rates (one direction).\n",
        "\n",
        "- **Two-Tailed Test**: Tests if the sample mean is significantly different (either higher or lower) from the population mean. It is used when the direction of the effect is not known.\n",
        "  - **Example**: Testing if a new drug has any effect (positive or negative) on recovery rates.\n",
        "\n",
        "**Selection**: The choice between one-tailed and two-tailed tests depends on the research question and the hypothesis.\n",
        "\n",
        "#### **7. What is a confidence interval, and how is it related to hypothesis testing?**\n",
        "\n",
        "**Answer**:  \n",
        "A **confidence interval** is a range of values derived from sample data that is likely to contain the population parameter with a certain level of confidence (e.g., 95% confidence).\n",
        "\n",
        "**Relation to Hypothesis Testing**:\n",
        "- If the confidence interval does not contain the value of the null hypothesis parameter, the null hypothesis can be rejected.\n",
        "- **Example**: If the null hypothesis states that the mean weight is 70kg, and the 95% confidence interval for the mean is (72kg, 75kg), the null hypothesis would be rejected at the 0.05 significance level.\n",
        "\n",
        "#### **8. Can you explain the concept of power in hypothesis testing?**\n",
        "\n",
        "**Answer**:  \n",
        "**Power** of a test is the probability that it correctly rejects a false null hypothesis (i.e., the probability of not committing a Type II error).\n",
        "\n",
        "- **Formula**: Power = 1 - β (where β is the probability of a Type II error).\n",
        "  \n",
        "**High Power**: Indicates a greater ability to detect an effect when it exists. Power depends on several factors, including sample size, effect size, and significance level.\n",
        "\n",
        "**Example**: A study with 80% power has an 80% chance of detecting a true effect, if it exists.\n",
        "\n",
        "#### **9. What is the difference between parametric and non-parametric tests?**\n",
        "\n",
        "**Answer**:  \n",
        "- **Parametric Tests**: Assume underlying statistical distributions for the data (e.g., normal distribution). They are used when assumptions about the data can be justified.\n",
        "  - **Examples**: t-tests, ANOVA.\n",
        "  \n",
        "- **Non-Parametric Tests**: Do not assume a specific distribution and are used when data does not meet the assumptions required for parametric tests.\n",
        "  - **Examples**: Mann-Whitney U test, Wilcoxon signed-rank test.\n",
        "\n",
        "**Usage**: Non-parametric tests are typically used with ordinal data or non-normal distributions.\n",
        "\n",
        "#### **10. What is the Central Limit Theorem, and why is it important in hypothesis testing?**\n",
        "\n",
        "**Answer**:  \n",
        "The **Central Limit Theorem (CLT)** states that, for a large enough sample size, the sampling distribution of the sample mean approaches a normal distribution, regardless of the shape of the population distribution.\n",
        "\n",
        "**Importance in Hypothesis Testing**:\n",
        "- **Foundation**: CLT allows hypothesis testing to be applied to sample means, using normal distribution approximations even when the population is not normally distributed.\n",
        "- **Justification**: It justifies the use of parametric tests for large samples, as the sampling distribution will be approximately normal.\n",
        "\n",
        "**Example**: In hypothesis testing for the mean, the CLT ensures that the t-test can be applied to non-normal data if the sample size is large.\n",
        "\n",
        "---\n"
      ],
      "metadata": {
        "id": "rQ62IBCSteaJ"
      }
    }
  ]
}