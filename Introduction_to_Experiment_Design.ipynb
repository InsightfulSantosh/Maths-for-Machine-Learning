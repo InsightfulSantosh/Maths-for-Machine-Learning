{
  "nbformat": 4,
  "nbformat_minor": 0,
  "metadata": {
    "colab": {
      "provenance": [],
      "collapsed_sections": [
        "60V5b0Oa3lWN",
        "F6I0yX_Qa_JL",
        "AtP0QOQdVPBu"
      ],
      "include_colab_link": true
    },
    "kernelspec": {
      "name": "python3",
      "display_name": "Python 3"
    },
    "language_info": {
      "name": "python"
    }
  },
  "cells": [
    {
      "cell_type": "markdown",
      "metadata": {
        "id": "view-in-github",
        "colab_type": "text"
      },
      "source": [
        "<a href=\"https://colab.research.google.com/github/InsightfulSantosh/Maths-for-Machine-Learning/blob/main/Introduction_to_Experiment_Design.ipynb\" target=\"_parent\"><img src=\"https://colab.research.google.com/assets/colab-badge.svg\" alt=\"Open In Colab\"/></a>"
      ]
    },
    {
      "cell_type": "markdown",
      "source": [
        "## **Session Flow:**\n",
        "\n",
        "###**👨🏻‍🎓 Learning Objective:**\n",
        "\n",
        "* Introduction\n",
        "* Theme\n",
        "* Primary Goals\n",
        "\n",
        "###**Experiment Design**\n",
        "\n",
        "* Definition and Purpose of Experimental Design in Statistics.🔬\n",
        "* Elements of Experimental Design: Control Group, Random Assignment, Dependent and Independent Variables.🔍\n",
        "* Steps to Conduct an Experiment: Hypothesis Formulation, Sample Selection, Data Collection, and Analysis.📝\n",
        "\n",
        "###**🧪Types of Experimental Design**\n",
        "\n",
        "* Randomized Designs: Post-test Only Design, Pretest-post-test Only Design, Solomon Four Group Design, Factorial Design.🎲\n",
        "* Quasi-experimental Designs: Non-equivalent Control Group Designs, Time Series Design.⏲️\n",
        "* Pre-experimental Designs: One Shot Case Design, One Group Pretest Posttest Design.📈\n",
        "\n",
        "###**Hypothesis Testing**\n",
        "\n",
        "* Understanding Hypothesis Testing in Experimental Design.🧐\n",
        "* Formulating Null and Alternative Hypotheses.🔑\n",
        "* Statistical Tests for Hypothesis Testing: t-test, ANOVA, Chi-Square Test.📊\n",
        "\n",
        "###**📑 Power Analysis**\n",
        "\n",
        "* Definition and Importance of Power Analysis in Experimental Design.📚\n",
        "* Calculating Statistical Power for a Study.🔢\n",
        "* Pros and Cons of Power Analysis in Research.👍👎\n",
        "* Activity 1\n",
        "\n",
        "###**Ethical Considerations**\n",
        "\n",
        "* Importance of Ethical Considerations in Experimental Design.🔒\n",
        "* Informed Consent and Privacy Protection.📝🔐\n",
        "* Addressing Sampling Bias and Ensuring Participant Well-being.🎯\n",
        "* Activity 2\n",
        "\n"
      ],
      "metadata": {
        "id": "cd-QLkttV8KG"
      }
    },
    {
      "cell_type": "markdown",
      "source": [
        "##**👨🏻‍🎓 Learning Objective:**\n",
        "\n",
        "###**Introduction**\n",
        "\n",
        "\n",
        "\n",
        "Welcome to the exciting world of \"Experimental Design\"! 🧪🔬 In this learning journey, we will delve into the process of planning and conducting experiments to answer research questions and test hypotheses. Experimental design in statistics is a crucial step in obtaining meaningful and reliable results. 📚📊\n",
        "\n",
        "Imagine being a scientist studying the effects of a new fertilizer on tomato plant growth 🌱. By carefully designing your experiment and controlling for variables, you can draw accurate conclusions about the fertilizer's impact. 👨‍🔬🌱\n",
        "\n",
        "Throughout this exploration, we will encounter different types of experimental designs, such as randomized designs and quasi-experimental designs, represented by 🔬🔬. We will also discover the power of hypothesis testing to make informed decisions based on statistical evidence. 📈🧪\n",
        "\n",
        "Moreover, ethical considerations, such as informed consent and privacy protection, are paramount in ensuring the well-being of participants in the research process. 👥🔒\n",
        "\n",
        "So, let's embark on this scientific journey together, unraveling the mysteries of experimental design and unlocking new insights to shape our understanding of the world! 🚀🌟\n",
        "\n",
        "\n",
        "\n",
        "###**🔬 Theme: Unlocking the Secrets of Statistical Experimentation**\n",
        "\n",
        "\n",
        "In this data-driven era, mastering experimental design is a superpower 🦸‍♂️🦸‍♀️ that unlocks insights and discoveries. 🚪🔓 From accurate conclusions to ethical considerations, embrace statistical tools 🔧🔍 and unravel complex relationships 🔍🕵️‍♂️ in diverse experimental designs 🎲🎯🎭. Empower yourself as a critical thinker 🌌✨, ready to make informed decisions and predictions in various domains. Join us on this thrilling quest to uncover the secrets of statistical experimentation! 🗺️🔓🔭\n",
        "\n",
        "###**🎯Primary Goals:**\n",
        "\n",
        "\n",
        "* Understand the fundamentals of experimental design and its role in statistical analysis 📈\n",
        "* Learn different types of experimental designs and their applications 🔬\n",
        "* Explore hypothesis testing and its significance in drawing meaningful conclusions 📊\n",
        "* Master power analysis to determine the sample size needed for reliable results 🔍\n",
        "* Embrace ethical considerations in experimental design to ensure participant rights and confidentiality 🔒\n",
        "* Gain proficiency in statistical tools and techniques to analyze and interpret data accurately 📊\n",
        "* Develop critical thinking skills to make data-driven decisions in various fields 🤔\n",
        "\n",
        "\n",
        "\n"
      ],
      "metadata": {
        "id": "8Wre5unsGsCO"
      }
    },
    {
      "cell_type": "markdown",
      "source": [
        "##**📖 Learning Material 📖**"
      ],
      "metadata": {
        "id": "nZDjJ5ZomDc1"
      }
    },
    {
      "cell_type": "markdown",
      "source": [
        "## 🤔***Experiment Design***🤔"
      ],
      "metadata": {
        "id": "i5rN6bZJBnoO"
      }
    },
    {
      "cell_type": "markdown",
      "source": [
        "\n",
        "🔬 Experimental design in statistics refers to the process of planning and conducting experiments to answer research questions or test hypotheses."
      ],
      "metadata": {
        "id": "3d6Mwvf4Bnva"
      }
    },
    {
      "cell_type": "markdown",
      "source": [
        "🧪 Let's say you're a scientist studying the effects of a new fertilizer on the growth of tomato plants. To conduct your experiment, you need to design a plan that controls for variables that could affect your results, like the amount of water and sunlight each plant receives.\n",
        "\n",
        "📝 First, you decide to divide your tomato plants into two groups: an experimental group that will receive the new fertilizer and a control group that won't receive any fertilizer.\n",
        "\n",
        "🌱 Next, you randomly assign each plant to one of the two groups to avoid any bias in the results.\n",
        "\n",
        "📊 You also decide to measure the height of each plant at regular intervals over the course of the experiment and record the data in a spreadsheet.\n",
        "\n",
        "📈 After the experiment is complete, you can use inferential statistics to analyze your data and determine if there was a significant difference in the growth of the two groups of tomato plants.\n",
        "\n",
        "👨‍🔬 By carefully designing your experiment and controlling for variables, you can draw accurate conclusions about the effects of the new fertilizer on tomato plant growth.\n",
        "\n",
        "Overall, experimental design is a crucial step in statistical analysis as it allows researchers to control the variables and obtain meaningful results that can be used to make informed decisions."
      ],
      "metadata": {
        "id": "lECBcKoRFijl"
      }
    },
    {
      "cell_type": "markdown",
      "source": [
        "###**Experiment Design Flowchart**"
      ],
      "metadata": {
        "id": "C75rzXI0JjJr"
      }
    },
    {
      "cell_type": "markdown",
      "source": [
        "![image.png](data:image/png;base64,iVBORw0KGgoAAAANSUhEUgAAAUkAAAC8CAYAAAD1oly2AAAgAElEQVR4nOy993NcSZbv98m895Y38N4SBOhAggQ92b572k6P67H7ZnZWWiMp9Fb6T56kCEUoYrV6uxGrp5jd8bMzPW2mLcmmaZqm9wYAQRCG8EDZm6kf8t6qAgiSoOmZZu+cCKCqbtXNm/bkOd9jUmitNX+mB6c/996f6XEjDVrrhXNX6AXfg3z4hzxUuYsXlgZR+lGw8MLd6gBC4P27f7If6K4/05eIdMlr6SR6sAn1Z3ocSJf8ldKjGvPF5d9vuaVz8kHrWFoHj6HqItO8ne5c7p+Z5H9oKplIwptMhR16uSLy581Ml6rHgzxzOe35Em4MtzVbo7UykqRQXot96e5Rtl+VFPcA5QqFqbwqKaNUCr3XeHr3evNa68VtVN6fme8CeUdJ889M8j8sLWaQ3jXhf1ey8xa+9a4LX1WTnxNbKVUFteHbft00CKz7KKrYBu2XUaICitIW6Hupgo8ZE9UlzRd4HzRK5QGNEMJ0szbvS26jyJz82++n7Qv0+Lt8d+f7F0w9b7xE6b33rE7JuOtSidLvlDwa1yvKLjBIsQSj/DOTvI0+LxXki0RLSJALvjOvZgGJ4vVSZlq49jnUbsEKUaYOpdiWWM5CKxTm1XbRQlmK7lSuhsd6HvgYpAAh/HE3vEIrI01JIRCCAtMs2aNA6GWxttsf6vf1QwL32tSxsEk/WCEl2r9Ca+W9CgQuQgik9DbfRYzSvq2gBfQYT4xlU+kgLsbn/PZ/mfphEYMsqNclzHDRr5XwvxUINEJ//v2hhD8KovjsB1hrC9AxITxBsmRcl9OU+0EfvkhUGNJSBqFRWpHP5rBsx6iZaFzlIqU2DELrBRuVXmwz4c6fF36nb9vf7vzbO31WHpPW3kwQ93FvyXtdvKK1QikXIU2ZSmvARQh5L0lSL/rzMYAvE4O4Gy3V/lIc5MvUDz6DhGI7l9oQdPGrz0dovDsJHh1DFndSGL9M47o0aU99FUA+5zI7N81Afz8ITWY+he1YLFCvl5KVShndIsZ312c/zG8FFLFD/8LymOTthUvQDmChPcZrWQKlIRJJUF/fRCzmLHmr7VdAa/OqVJ5sNuNhAkUmafAL/YBT6os4EfWi9wpwSwBjQFuA+XOcEJZlebCOQMjirbe17ovYXKAoQUJhwmmxYFRFYWIW75FedxTgysKPSzeUR1vHhWzbNyjd7zO9svxbYSHueFsRxXZrXXiy1ylq0U2lNfyCky78w3Vdzp8/w0cfv0VNdQUBBwIOZLNZwGuxEAWJyocyS9VvsagL9RLvjfQmMOtHgMjDbdz3HtXWnvToTbyCcKs1pXtnQSHidn2oKEzboAOANNWRkM1nmZmZI58L8JUXvs7adesKN5feb/sPV8oln89z4eIZDhzcSy6XwRKioJ8vdqe8W3Ol8NQkr4Zq0Y+/EJqLLh3OUibpIoRGaY3ARqsgkiDr1/eyddtOLMsxfaEKcA0LFos/po/N+hEo16gfuVwWV2XR2kVrF5CFzdOQYQyi5KNY0NhH0Wij6t3xubc9887P1WhQioWI2iJjU4HzC+/ZhkE4dgDHCWBZVkFAMAzCZyCPwQBriotP4DE/GJ8YBTnFs88/QzwaQOssQqhiu7yNpMhwVMmi9da1KOG9uriKLCFRSpF3XWw7gMTCRSPul0lqPCu84T1SCoSUHuDjb+v3MQZaAgG0tkAqkKCU4syZi+z56Chzc2No5aKwTIuVeSZSGHVbCLOy05kUx08e4czZY6zqaicUCnhAr9/HJRLHXdq7mG8UnuF9+UWYXorFTFKb3U64BrdRComNm7M4feos05NTdK9fTzic8FQXUbAOLrCJakCKxdjvF5a8tcP09AR79n7M9cErIOcRQmNbNqZ1dxCbb9sgHtH2d9sE0qUr9s7fLVnW3X7rM7y897WFVjZSBClLVvHEE09QXV1TBPQfNxKYuagMazHj4yLJEQlDMumQjDuY1ZBHCO2xIO0xFWPcKJUsQRs7CsX1rD2NS2ChPKZctBxLwEVII70td1loLdDaASTS26R8yKBQtizREu5ScMG4jcJsmS55ncXNa6IRhW3nyaRnmZ6aBgThcBTHsQuSrG0K8VwAtEKpHJ1drbzx7ZeIRR2EV6GFO/vtVOpmd3t977Z4/jTcZKFkXCJNCrf4WYXALeOtaJQTJy6TTs0jLQcpbBw7gPANAV8Itr8cKk7s0ktSCianxjlz9ijBcI7G1jgBCUotnnz3auddudV9lHM/5d5PWQt/axa+kUuUzoMQaCWZnZ5j3/4TNDc3Ul1d462P4v2PGmD4PElAyS7uzVYpPcVJol0BlmGS/gavFSzwatB6wUQwjNDXMM1vBRKlS1RioUG4aJFD6zxSC6SW6OVID8o8QymDRwrpPbPEQm9ZXh21gUJ0KcYuFiv+/mumaHEQIIWF1pqRm6N8svcTBgeniUSi9PRspLGxCcsym6NdQBK0RFoShMJ2NNLOIK0svm+SL23eRhqk9pmORnk+mdIfkxJLWXFS3l5GaeGlvyplQLrwvwSA8AZTCFFkfMLDKUqetLjqt0djlkoZhjto1wWRw7IVE5O3uHjpIpYdJBKO0dbWRiQcQYjH0bi1WD02vnNOULNjZw/rNzRhO9rMc4rIxFKWv6XLXWJTXGDi/NP0121zuLCoNVqC62qUG2NsNMXIzRk0kMvlAJDSwrYtULKgbj52ww7eNBegLeNC4MEPPvYnfBxeeJIkgNAFqEP7UimSXM7l5vAoo8MzoAOEw0GqaqtIJGIorchmU4RCDtKWRoLTC7ttIW7oS67SPFUIXO1ya2yK8VuT5F0XIQXBoEVdXRWxaATL99hhKRHVZ5SlfyCRRv3XGokEJZifSdE328982qK8vILmllbq6xtKmaRfQY3AAq2xHYm0XISVx4f172gbFCBKdxAEWguUtlBak0mnvYkmCAVDOAHH88dyAWXU+VLnXl+0Rnn4Q4mYX+qL4IHCWjkIYZNOp9HKJRgKmPEVpgw8HyjDWn212p8oxSFaOIt8jFIhRBBknoH+ft555w/EYgnq6xtIJpOEQ+HHcKEsUWFh1oSULqGghSUVUqSRQi8cd3EHGKHA9GQBp9IUN6JCGZ4BRMgSzNHf+EvBrYLEpgu3aX8zRBaMKosqgdYKIYuLQ4jF83Zh/X0GCUbhFEKgpYNlK1LpWa5cuYRtGY2htraWmppaHOdhY5r/1CQNrKAtrwu9qBPhMU5hm43/NqnME1E0oCXKtbl6ZYif/ey3HD92kbwL8USIF19+lue/8iyjY4OcO3eKzVt6aGyoI5c36rwUAktaCClQSnlSukQr82rZhhcpDXNzafbvP8K+jz9jfj7N9MwMDQ1V/OAvvsGaNZ1YlsIJSCzhM3wzt4prGA82WMiOhdAe5m74i8ZGI5BSYlkWUpZshEbd9phFQXQVBfVCehuvL1EszQ80JrzJqC1SW7hKkHcVg4MjHDtykrGxW6AFLa0t9PRsoKw8wa3xMZTKUl1TScCx8a3KRhT2J6IFSFzXBel64+U5gSoNOoibtZmaSnP48EHKymP0bFxLMGgjpWHWGomUpVKEW9JhnhSoS9uivWdgwGZhDBnZbI75uRRC2qRSaVzXXSCZPC4Y5B1JK4RWaJ0H8ljegJdAUQs/gxmDAmZpmQmpJOl0jomJabLZDJZtk0wmCIdDCKFxVRbLEp50Ypia2cyKTNKwZm9xCuVtlBKtSsdMknddZmamEUA0FkFIsDSmbOGpYEhv0fsDpYuN8X1EhcLIOua9684zPnmTg4dm6bt2g3A4zI4d26mqqgKWdhN5vMgIGMZQ6W0oWCAsw7AKwkgpsOCPjYsgQDYjOHniMh++f5S2ji66VncyMHCNy9dusKJ/iPfe+5g9H+9DOAmSyWaGbowyOTGBlIKqygrq6qoZnxjn1vgYrqtIp7PEwjE6O1cQChup0nEcGhqaWbcWLl++ysULg5SXVeDYEcZGxxm7dZO2thYqKsq9qkoEbgmj8ufLQu3Tdx5HChQChYUUxkAnhHGsL+V2C53JhcSSNrm8RnoTVeo7yZClur4nnXlMSSCZnZnnFz99iz+8vZ+GxkaEgPffO8y3vw2bNvXw9tsfo3SGr339ZWprq0hlZsjn00gpiccToG1SqRxaa7K5LFpniESDhEI2QrrGITRvceXyEO+9+wm/+tVvefW1p1izZjWWpUml5gBNNBryGu93ld8aq9ARQlC0UnvuBb5qrz0JVloWlmVjSdvbaUpUt8eJQd4l6ZOUlmF3AnywvqBiF15KJUv/n4XWNlpLJidTHNx/jAMHPiWXyxEKBend3MuuXdvI5lL09V+hpbmRyqpybMdggWZXL0qdohD6YTwNjDQgvfEz0o7rws2hW3z4wcfE41GefGon5eVJz9BoGL1WCiEshLAK3H1haJvfFrOwLO15NUiNlJDLZsnn82SzWQ8f8+r2GO6IpVKz3wQhPZe326Ku/N+WXjebludrDtiEgwkikTLm59JYwmHtmvXUN9aRTUtOHLtC35VxTh4boK5yhF/89JekUnM4tqSmtpyXXn6ec+fP8tFHHxOLRVEK0rM5fvCDH7DjiS4sO084HGRz72ZWtm/kl7/8NROT43z19ZdpaWnm8OFPOHrkU776+muUl1V4wk0xJqc4bz1GWdB2DJQmEbjCbA4+ZKa88V9MtsfdFqg5RnLUyzBWemqpwFSisGNLZmfmuHjhKmOj8zz9dDetrU1cuHgGSzhcOH+Vd9/+BCktOlasZfjmLGfPniCdnkNKya7du6mpqeWjDz9hamoWyxLMpyZpbWti+47NJJIhNHnm51McOXqYI4ePMTIyzsTkJFrDzMwcn356ENu22LptE4lErAi+FxZLEceQi9opPLlCF2aXXsBcRAkD8Y03jxWjvI10kTkBvuO1adudG2ZwYF/FNhOt71o///qvv2R2Zob169czNjbB/n2Hqa6qp6+vj/fee49XX32J5154ltR8luGRYVw3RzJZRnlZklQqzezsHForMtk5LBtqamqIRAJmmmkJWjI1McuH7x3h3/7tXbZu7WHr1h3MBdJMTo5TVh4jEvU3M1OvIp4qSupf2gP6Nobhu5+Y9/fA5h8HKkL2HqNUmCiT4nd43y0MQS1Vtc2rZUtWr1rFa6++yslT5zh25ATZXI7uDd0888zTNDW2cGNwmO61vVw4e5X9n3zGtm1bsKTkxGdXWLliHTcGphm6PsNrrz1JWbKcn/y3n7L3o+Ns3r5yASY+PHKD8+fP0N7eTPf6NQRDAVpaWrEt6Un3plWF9G/LGZ9CeKYs3uu3WC+EahZF3CwoBfBB2ns9zP998eHRaIKt27YzciPH6dPnuDF4g/KKGMmySlxXoVxJ0IkxPaH5ZM+HXLlyidVrV3Hq1An6r03z9a9/jXfe2s/o6Bg7d+7g+vUhPjt6icryZno2dmI5IESOjhXtRL5Wwa3xYcxOJ1GuYnoqRTDoGM15Qafdqwf9GbNo5vyZ7kBm1SidQyvJ5NQtRkfGiEajdHauoks6KCWYm4f9B06x95MzROK1tK3cwOFPD3D2wglsy6KmpobnnnmGibFp9n58EE2OdGYaV2X4yovPsvuJrTiOceZPp9OcOnmOT/Z8xq2RGfJZC+U6nDl9gYOHPmH3E9vZsGG18XO753gXmUDxsyGlXJTrLmHke3yp2Bueq89dnfMXttsIBRZSSNK5NH39V0in53n5pZdIpTO88+477Nuzj7Vr1lJRlqS8LMaqri7+8O57ZDI5wqEkkXCYfE4TCpah3EEi4SRrVm+itqaOX/3sbUZHxj3jkfGrzOXS9PddIpubZUPPU1RVlmHbUFFRTijoEI3GUMrgyaUBHvdmlMvgpL4QtdR3pdPm3tPDx3b8T6aGUgRY1dXF93/wPZ575gUikQRHDp/gvT98RDQcp66unpaWVoKBOCdPXGRyIkMuLcnnJMeOnmJ0ZJx0KkdzUyuvvvI11q/fyvDNSQYHRnBzEiltorEomzZtYvOWXmLxMGAC1pPJcp556nl27XiKaDR27864rfXLa/mfCQzIrnBVFiEV7e0tvPbaK4TDEX75y9/w+zffpq9vkEAgQkVVDYFQkLYVHVy8cpX/9yc/Z2Yug3CCfPDxPvbuP8TFSwMcOniaqYkM9XXtXLk0xHvv7mVuLgsI8nnFpQtX+eCDPSST5XR1dZpaKIhGEjQ1tpBMlGOMepKHsqT7cP0Cw+SXgB6qS6THLPOMjQ/x0Z532LP3La5dO8Hc3AiVlSGSSYdIRDA8dIM9H79NWZlDsizAyOhVpqduEAlLEvEItrQYHR7lnbff5te/+gXTM7dYtaYNJxDEyG+C+dQMV/suImSemtoy7IDGdTMcOfIpP//5z7gxeMODAD6/MVo6C5AH2mpxN5Xbtx75Pe5NSG0jtMX169d4883fEQ3X8fJLr9Pc2sCly+e4fn0QpfMEAraxYSuFZVlYVpDKynLa29tIlsWorKwAYHZmjnQ6Y4wAliQQDBQ8723Lwg4GEQLybs5EiiiNm1eMj0+iUYRj5Vi2g5SLFsySE8XfHkpCE5fqnpIoJM3CNFOPJ/lS84POMmOpFsLCdV2qa6r49nfeYGpyhqNHjnNw/37aVrRRWVVGeUWctetWMTkxwUDfDerry4mEw2ilmZ2ZJRKwCUfCbNy0iS1b13P+/BnGxsbJ57IIESWbzbB373727vmUyooGRoZHmZy+xcmTJ9n1xFZaWhsIhiyEbwg0XO6Bxkho4VnLF8pfhXjyx3DYdYmh0qiTfk7F5ZGvigdDDlu3bmBuboa+/j4mZwZY2VnF1q3b6O5uJhzOcX1gLfn8GL29T+PmX+LatX6CQehc2U5tXRTLyRCJCfLuBDOz07z8yi5efGk7tlQF40nAsVjV1U59XTV1tdWgXAQQj8dIJBPYjoWUoLQ23hi+jn7PjlgIoZVCLCUfgaWYpCgulwJMeVdGWVoj31qoKSuLE4k67P/kQ65cO4MQmnR2jKee2UJlVZxYIsC5syfpWFnPlm2r+eyzzzhx6hCzc7Ns6n2NaDSM1oozZ87yz//8j0zPjrJiRSMdHW04jkR7URJC5NFinsqqGOUVMRxHMDk1xfvvf0ggaPHVymcIR8sX9E1hsBe1e2G7lsEwlot/PKa0XCf5ooFHc+HiBX7xi9+wZcsWens30deX5OTpWWZnpkC55LNpblwfoLw8QTgQoiwRo7a6EjeXoaW5kZmpHDOzU1y9eoWa2gS3bk1Q31CO75YlpKKyKkrPxrWk5wXXBwZJpSCTTdHfd4UbQwN0dLbR3t6IwZoUUiypMC2nA/DDax/7fdAjUfJfL7q6rLs9AcqyJC2tdXzzW68wOTlJLp8lFApQUVFOIGATibZQU/N9LMumtraW5ubnmZ6eQQqLZKKcbC6PZc1QXx/i5Vd20NraQiIeJ1kWR4ichz8rQiGHbdt7QUvC4TCWZZ69adMGVq3qJB43mqL0hnj5IYsLv7/bJnqXfJL+Dno3ZrG4YBeFIq80dQ1l/M3f/ojezacYHBwgl0vT3v4cvZu3EI0keeM7L3LuXDsdHR3U1dTS09vB4OB16utq2dCzkXzWJu+mWbW6ja3bNxCOwpo1a2jvaERYOZRIYQkJMk1NXZy//KtvEYtHCYYFmjBbt20nEJDEEwlvV1oEvi9uxm2bypecAz4i0l4KKtu20ApaW1roWtXKRx+/yx/eexOlFJs297JtezeDQzeprIqx5+O3+M53vskbb+zm9OmTTN66Tn1dPc2NNfRlr6PcaY4e3ceZc/txApLnX3iCsmQMUEQjEb72tdd48SuC0ZEZfvnLXxGLBdm8ZS1nz5/gvQ/eJRJ7lbb2WoR8NOlS/zwLoCA9+QkihIlyjsVDxBN1FNKZaUAoIhGHFR0tBq9WimAwSkVF3IvWschksvRuXkdTcw2rV6+grq7G62iFEEYy1GiEpYhFg0jL8tRqFzSEwwHCkYDxn/Vx1bvBq0u1Z5k/vcMsWn4Bi28TGqTUuNqluibJV158Etd1kdL4WFmWjcCmZ1Mn3RvaAY2QksbW7Si9DTwv+MHBIcorJc0t9bz2+tPEE2EsC1x3HkUGKfJoJErN4wRstm7tNT5cQhGLRdncuwlNDi3n0Dq3IDLm3kC85zZwG32ZgClDBc+nh8GpvMmtdZ7OrpX8L//r/8zVK1cZuzVCwAnQ2t5GU0sTLe3l1NX/T4yPj9PTvZrtm9dz5swp0uk09Q2N1FTX0XflMhUVUZ54ejcru+ppaWmktbUJJyAQUiGQRKJhwmFJJGbzV3/9dWxbEo2GicZ7aGtvorqqEts2vnZ518A5fmKEB+yhLxc98FhL410gTAIU13MA97gmvpXY7JvCoG8atLBMYhgBUiq0glAwxI4dO1BK4zg2QoLr5ooWd6/MoheJ4YBaq6JLn5eMxA9MMEkwHn3jb2eSGi9kR3uJKu/cYUtXQXnuQ8Y6ZUkL27I9XzjvEa6L0IqgY6GFQmmTKdjSVsHxu66hjL/5u/+E7TjEEjbSyqHII5084JbACeZ5eL6TxrUnAzKP1BoptZe5xWvcUrUvXC51E1nsF/HgieLuSPquHxfQI3Ez8j29/MzTonjdZB+4/wdIKUsiJxTSypMsC9CzaQ2w1gP6FZoc8bi5LjQIJZDCYvuOrWayI8lkMlRUxula1cr6davZtWsj0jY+lFJgnNHdPFJIXLIEbE19bSVKuyjtEgwmqK4s83xizWK1Lek18f6YXaFrfAGlFMd7jEVL7f9bJnRnyFfPXVyd9WKrXdKpHKk5gdICLQR5FKFQiGAwyOzsBKFQkFgogtYKN68QtigwPzSei5bpWH8OGUZY1PikF26cV6rgbpfPK9LpNPmcJhaLY9s2JkjEiJF3n8YLwMTiVe3j6rffsaQkWWqrvqcL0OJ7hUBa0gNTAVz8cECNQOU0uZzxQrSVxnIEJoOILILkQhMKhuhev95jDq6JBBEuylXeZ2V2Dj+DCXjAbd5EZ/rmez/EqMD47tkClmKSf5QkFnfKIbLcqt+D/AVSnJCgpR8G+uBbgOVNZCUBb5xQEq1NZhi/F6VQoLzN0pdepQRloj2CIYfdu3ewsWcD8XgMy/EqLPxDpTRCKpR2EVIhLTwXLy80TeRAZI06oy3Q9mPN0D4PEiVv7m9lK0xOyCxKQy7ncPb0IP/2k7eZnZ/HCTkI22LTpk1s6Onm/Q/eYd26LrZt3cypU8cJBiw2b1pvtHXPZmKmgkkPpHUxRZ7/HuEFOAgLN5/DdV0cxyE1n+HXv/odQzfH+NEPf0htXbURrtB3YJB3sJ0sk+6BST4AMlfiXC397dfzZM9mXK5eHuL6wAhKuYRDAVraG6mtr8F180xPT5NIxAiFAsbHTUsjASgJ2GSzLnPzaUIhm3A4jPTjeD0ndiElJjw+jxS6JOPI/QD3X0L1ahH5Kowq7NgPURaecUMKpABXmwmv0KhcjkzeBW0jJUjHRco8hUTPSqO1RMgAWilcVxAKO0RjlVhSIEQOTTEaxzB2VVC9TLREABPx4wIm64xhrF/GjPJ/bFrC1OtJ9Mq1GByc5ODBM7S0t7CqpZ5gOEhFRQ1SBMmkFfMpzfmL1/nf/o9/Yu2qdtrbmqkoTyC0RS7rcuvWBFOTM4DBGKuqK8nns4yNjSKkJJ1K4zhB6urqCYciTE9NMDExwtxMmkMHTzMwMMzXvjpPTY3HeUWp3aG0HQ83B5Zkkn5Y3t1dgO5AJclsRck7rTXXB4b5x3/4/7gxOEZFeQXpzDy9W3p47fWXGB0Z5dNPD/PCi0/R3NKAlJJ0KgNInEAAtMWVSwMcPnKU7vWr6e5eg2UJ0ukMSilCoTChoAOk0UqhpWvqLn18cVl+ASWvd08N99C02APhj0j5vEmwbFkWWAJpe1EH3L9aupCK55CkUxkuX7rG4PUJ8pkAwbCgraOcpuZqbMfCEiZLtjQ5r0hnUly4cBnX1XR1dpFIRNGiJBGG9hKWlCYu0CFQUWZm55meHqeswiEclWihTES5lEWD7EOSv+iKZ608nmRgluWMcala6tsojMSupAYtyWVcAoEQzc1NdHevJhoNs2JlF66rmJ9LMzY8xUDfTQ4fuEouJTh3ro+dOzagXM3Y2CTvvv0Bp06dI5dzCYdCfPe73yWbzfMv//LfSJZFyedcXFfz3PMvsHb1Gj78aC/nz50jGAxx/uwA0VgExw7hx6GbpDheaseCqGzW/+0jtvx5vqQL0IJC7mXgXoqWWP1uXtPfN8yRT8/SsaKTLZt3MjI6Qi4jGR4c5w9/2Mt7731ILB4hFHyCa/19DA0OY9sOlZX11NbU8vGHR3jzzXeYmcpTUdbExMQ4AwP9uK5LVVU5vRs3EE86KJ0vpHS3ECVGm+UyyofxGbxPWuIxd7TCPwJylWLoxk3OnTtHdU01DU2NJCsSKK28+OTlM5UiKOHV12MgKg8D14b4b//yS8ZG5ilL1jM5NcLa9U18641XaGxqYD6dIp3J4zgW4VCIqalp3nzzfdLpDD/6USWBUJhcLk0mmyYUChIKBZHCIpvNMDc/j1aCcDCAdhWHDp7hzNljPPVsD2vWtniROQIhXKS07tiPD7wNLiFgPVQ5Pi3pZXF/5d1Z8ys5NbJkaS+vgn6pPsMRWMLBcYKk5lN8duwwE9N9VFZVkEjGCATCnDl1FtsKsn59N7FwnJqqOqqr6jFp2ASplMvcvCIcTDI1PsGh/cfY2PMEwUCQTw+c57kXdlJXW8OePfsIBQ8zPZnmg/f20dDQQEfHGk6dvAC4KIVx8RLSbKKej3NxI/PX/t11Yj+pzlKCy9KSpPcY/UAccqnSXLSWVFbUsmrVGkaGJzhy5AT1DTWsbu9AEGBwcJiJiRmGhyYYHBzjow8+YXpqmnTGZX5W88Tupxm5Oc/YaIbxsRznTg3yu9+9ibQVyUSUS1cu8rd//UOeeqYXO2AO+/FPSPOtYPdX5z+NC0rB5H0AACAASURBVJDWJoIlk04XpGRjtXvwupRa8/P5PCdPneT//od/IByJsOuJXezcvQOtUyi3BKss4JR3f67Bj7xM0cJg2Eppbg7d4tTJq7Q2r2LTpi2MjY0QDGlS8yEG++c4eOAAs3NzBENh1q7pJhFPMjqcI5PJMTstOXb4ChcvnWU+NUd9XS07dm4nFApx8OCn9F27Rjafob6uhcqyVt787fsc/ewAoYiksaGWysoI/qmAQi99At6fnDTFWGMoYZCi8Pm+Ts4FUEuMmi8BK+0ZoIpJHJZXfOlaMNZtpTz+oDSRSIAtW3rYvrubeCJCY1M14+MzuK4iGLDo7GynvDxKe3sbLa0tSMvFVZDJ5siks6AtwqEo2Ywik85hyyDRaIQnn3yC5uZWzp27yPj4ODcGB8lmc/Rs3Mj27Ts4fPgYg4NX0H4SFFQJQFgq4N2plY8Ek3yULEJjWRZV1TW88vIrnD17haGbg5w5fYbJyXFef/01mhub6KvvZ8vWXZRXVhOPV6KUxeTUTS5fvsGmTRmamtuor29k1ep1TM+mOXXyIlu2rSMQDDI2eosrV66xY9cGLMd3S/ASfS6Z5eReLf/TLayJ8XGOHTvG2NjYAlb9IIvd2ycKZbiuy9mzZzl+/DiTU5McP3WCI58dYVVXK3Mz40hhElZopZfZDX7uTyhk6hEWtbV1dK/rpu/qKPv2HiCZTNC9YS2OVcnbb73HW2++xabNm7l58zKnTw7w8ksvoXUADVw4f51Dhz4lk80QCgf4+MNjCJJUVFXyrz95m5rqSsIRh6Ebp1jd6ZDNKvI5QDmgHZNRXSpTny84xFxMorHQMmuUn/sYb+2X5X0QJl+j6+aNMdXLe+hHiT0YeekHtcZVOVyVJhSxWbNmBU8+sY1gyEYLyfTUJJbUaJ1GChfHEdwcGuJ6/wDtK2oAi+GbQxw9eoxkvIJIOIFtW+RyebQ2pxjGE1GCwSCWJbFtm8qqKpyAzcmTJ7Asm+Gbo7huDq1zBUOuKGb69vrk0azjpV2AKCJUj0brFOTzeQ5/eohjxy6zceMOdu3ezvvvv83xE8e4OdxLOBImFAkSDIUYujnCsROn6VjRRlVNLRcu3AQLwrEwTsjBDtqk5lNIByqrq6iuibN5aw/Nrc1YARul88b1RzyIUaLUuv3HJ601Y2NjHD9+nPLycurr6yksngeRiPzcgN44uq5LLBbDsixcV5HJZEin0wiByUxfoGUoY9rP1OJL7MVFX15exle+8gL9faMMDNzk2GcnuHZ9kEAozoFDJ7g2MM7GzRHSGRi7NsDw2DhaSNLZPBcuX+PE6fPU19Vj2RFuDk9ztW+Y/usj3ByZ5Dvf/j7NLfXcGh8mEipnaHCMsVsNrFixklgsgRAZ/GTLwq/no5QmHwnIaf4Jac6MMUYsf85KL+3g8ofcZAQTCzCEVCrFuXNn0Rra2ltJJOIFaRK9HG+Ghbq/ETgEJvIpR3VtGT0bVlNTU47jeD6QGkJBm+51K2hqrCMRD7O5dw0zM9Ncu3qBlpYyAnaEqsoKOjpamJyYJRiy2Ni7loqKGGXlcXq3ri1E7K1avQLHsdm4aR15N8WJ48c5cfIQDY1lROM1xOIh49FAHgqJnEWRQWrftW1xaxcytrsdT7O0C5DPKB8RgwRhsl5HNFf6znLx4jXq6mu4MdRPfX0tjY31pNNpJqcmePOtN2lqbuLy1X6kbZOIJ5COJJ1LYQUkqcw8h47sY9PGbmob41ztO8foeJD5+Vkqq5JYUiIsU/kHY5BF1eJzN97cgXL5PBpYvXo1Gzb0FPNXPiiVSJK5XI5AIEBPTw/BUJjdT+1my9ZehMiwb+/vCgtIaYV1L68AvdQHQTab5fjx4+zZ8xkb1m/juReeZT6d5tDhIwyPjeAqRSASoqquBisArs4RL0/i4iJtiQxYyIBFNBmjub0FbEFLexvXr/eTzqZQwgQr3BweobrCwrJ9aUx4lnbpZYZ58C67rakFDe7RFOrHlGvl4bhak8lkMCcDmoVdPFtn+WVq7yAu13UZH7/Fb/793zl29Ci9vZt49rlnWdmxgmwmu0zUvWQ9aP+9iY92AoL1GzppqGugrCKKYwvjCC4FtdXl/OWPvkM4FKKiMsLf/d0bzM7O0dBUjm0bv9nOle385Y9/wMT4JJFIBNu2SCRjhEJBOlb9BZWVFdi2w7e/+zwA1TU1NLc9y/Zdq9EaopGYSeBbncTVGfxs4+Yws2JiZpNTYvknkC3bT7LYQffvJ7mACutG4DgWW7etxxIRLp0fI5dP09lVz4aebjZs6KK6tpycShMIh+joWslfh4NMTU1RUVnBli2baWtvJVlWxuvfeI5g0GJDz2oqq3/I1cuXyKTnqKuvpqW1AWnronf+A03pR4HDPhwJIbAsi2AoRDgSNunuH5ZJeqpWwA2ydu06/vPf/z2VlZXUNzUQjYUZGLjkRT4IXFfhWA9gNfCAc8u2SCRijIyM8NOf/iuJeAXXB2/Q1FjDhnWdCJ3hxtAVjh7bx+zsFKvXdlJeFSIcBWkLOlc1MzDYwED/ZaZnxkBKKiqj1Ddt5IMPf88//8s/EQ0H0drljW98m2DYYXx8ggP7D7Gys5bm1uQXE4dcRFob/NZ1c1y+fJnDhw8zMTFRkHxdV92vxo1ylaeiOqRSKT7Zt4/Dhw9z9OgR9uzdw3PPPkMsrpHSvWd5hjwGqU3Ui/aOXJZSkEgGiccj+JngDcdwCYct2lfUG+lYuHSsrKd4LCyAIhSxaW9voKWlFiFMfkr/lNJIvAzLAinzNDSVYYQshRMMk0i2GpVcBrx1olAUTzi1dDGHqCctlajdD2YVu4vhpvj+bsXpEv1f+8lzRMkO5DNbISgrS7L7ya3s2GGjdQ5NDtuxCARytLSX8Z3GF9ESnGCA7vVN5PN5zzopcWxzOFFT03OgIRQM0t5eTu+mlUgpsW2LcDCIEObsHFOnkhAptDeYnjvD3Waf5lGJ0fdNWmu0MkkZLCkfOb+WUlJXX0N1TZU5KtU/SkF4Tub+ecOl4uddqWhR1JhIDMdxWL9hNf/dX3+Hc2cvMTszz/Zda1i7bg3d3S20r6igujbIyNgI4XCIjZvW0dRSxle//gRu3qWjo5OmxhjHj58km8vR1tpGR2clFeVl/P1//iHnL1wAlaejo52e9avp6mqkrMwiHLWJRh2vnVZB9f8iuux4sxAhIJPJcv78eS5evERtbQ2xeBwpJW4+j7iP5By+I7ZZD+YIE9t2yGQzKO0yPTVNJp0hmQxzL2W7iOX6Fm0LrQJeBFIWcAwsUHBHNV4kynVxlYttmw1XaTw3r+LzDNKgjdZgWQUncjAZ4aW0ipqgNLiyUmbDsCzveAlcL5LOZP/xz8opHCPC7cl0H3TfXNoFSAB4qdLM26U7EnNgj9YmfEhpt5AA0wSeC6SwfdMbQkAgqLAi3uFc2sFVLugcjoRAQHttS6EDGrRVYMJSGMYXCgYLjESjCQZD5gS7AkPxFkUhqYXBaTztxhx4JRabDr0B8cVyUbpN/PGo9OjSwoS3ZElY5UNQgedpbNvGtoteDEhtmAp4IL/Esu7NXMw5yiV4j/Yy5qCIxULs3LGenTt6vMcLb7MSJMvKaG552RsjPwe8S+3ubQUYvLWxih3b1nkLyjMLSZfnnt3Kc89uNRqOMLBEXX2YteteQXinqSuVByELMMWjkCoX+Ek+ilRpHoYohfFcyGQydHV18vwLL1BdVVVwXbqfuivl4irlSZMWo6Mj9A8MMDs7w/Yd23n55Zfp7l7LieN7uXTp1l2qbxij2TSNCp/Pm6xbynUAB9uh0ClKuSXM3LOcK7z6G8muEFGjNEJa3nr21pnHZKQ0N+ZVHsuyQXuHyAjwo3IMZls8xRGpUW5xDprjgf155RUvfLhKlNRx4fp+QBcg7uoC5J8m4R/SpLRAKWGYJF7n+IcwUWplVgVLnKs0nmued3CXiRc3C80DrpUZDKGlhzV4zFkplJIIy9RRKXP6mRSgkcgCML2ocwqpylXJAPkY5OJe+NNRaUq3wjp5aEbpsz0fa5XF68sVHBdRIYSsIHHYaHw/xdLdXBm/ReEd5LagkKIfq8HqTKOtguHFYF3FGBp/hhZPXCw0Ec+JHB7KbeqPQf66lVJ4TNEtMJYHK08WIs0syyIWi/P666/z1ddeo7Ork7KyJMrNF5zs7zrDvdyw2WyOQwcP8f57H5PPQ8AJE48l2LptM+u61zE0dJ1Dh/bT2dnJpt4eAoEgVgEfNBuVGX/j0O0qZUJWpfTSmxWPzPCTY3hWDISXeNerEBqF63oucT6kpsxvzTMstBK42kt2IRbHYxdx84dWt4sF3Z201rh5gXIFkxMTXO8fJJXKEgwGqK6upa6uDqVy9PVfw7YtWluasG0H19Vkc3lujY2RzWapq60lHAmbhgsXtIvS0pyL65/Eh3dUrdK4rks2k0NYFrl8jkuXzlNTU0N9fR1aWQXsxD+B0Zzm6EtjZpEWzjMpiOb333l/JkNKmT4UwsRhu3kL5R3xKaVRkYQEZBY/tnqBlOpv+QgT1qgcpLALzu1SiiX8Hf2xK534YJixKJb7H2g4jRZgjnJGQDQaYeuWrUYbEXhSmloW/CAwCUiymRyfHbvE7359hA09XVRVBTh25AD793/Gj3/8Q+rqa7h5c4qamlmymTzzcylSqXm00JSVJYlGQ+TdPFNTs8zPZQgHo1iWQzAYwnXzpFLzCASucgmFAsRiUSzLYnYmxdzspHc9VLg+P5didnYWV7lEIhHKkhVYwmY+Nc/U5BRCCBKJGIGgRFoaaT38ml7SBajYUXd2AfI72nUlVy5f5+233uLUiTNoZUIFq6tr+f73v0d5eQX/zz/+lLq6av7yx98jHo8hpcXszByf7DvC/PwcX3nxRRwnTi6fQ2tzlKTJXG7A63zeZP2xLBuJoO/aEJ99dpJVq1cTCAX52c9+y86d26mqqgUgEAgAgnw+g9Y5pKVwXRfXdbEscIISW0jQJfhlydTR/qFmfwppcjHvwIMJPq/FLoq48oO1VqCUOe7VsixuDt3i/NnrpFIZbFsQDDrUN1TT1FxHOCJAWpQaAxewOA2WtNDYZDIu1671kclkWNGxgngsXoKjGcnEaCUlIjdQwFZKLLGPHYl7YOb3IEtKz6XISNUmIkXjKpOncfmpDCxsGQblkEyW893v/pDNvb2cPneG//Jf/nc+/vgAr7z6IrmcJJcTXLnSx0cffczw8DBzqVk2bNzAN7/+NfoGBvjtb98kk86RiFWSTefZsXMnuWye/Z8cJBwOMz01RSgc5ttvfIu6hkr+/d/f5MyZ0yA01dXVPPXk01RWVvHee+/R13cNy7KprKzljW9+Fykdfv/WW/T3XyUYsljR0cwTT2ynobGSgqX7Nlo4L+6WPnFJSVJqvFRp9+pEwdT0DO+88wEHD37G7l276epaw43BYX7+81/zy1++zeuvf5WhoSlGR2c4eOg4oKlvqKe6uoZAKIG0wiCCDFwf4fKVy6TT8yQSCdau6yIWjdM/MMCVK1fJ512SiSSVVZW8/4dPePedPbzw0gRPPvkEZckqgsEYV64MMj0zTWfnKiwZoO9qH5atiUSCDA7eYHZ2llg8RGdXBzXVFQjpIixz3rQlZeGI3keeEu2B6fNa4LevkgJmdN/PNGnOtHfo/ckTp/m//s+fEHACVFaVk8vlqG+o5evfeI3u9auw7DxK5VDKBBg4joPSLrls3gPvPYwupzl2/CS3xm5RXdtAOBInl8mhMQfcS8/Z2vcv9NtgCYnjSMyZ6drDpB66wxa6AH3O08PPl/ggDyrYA/DxOy/nIrqYEavQljuTwfC1h+dZWDJAMlFGoqySVV1rSSbLGb01zo2bY5w4cYV4vJJwsIzpSY3QCQau3+T8xfdYs2Y3b/3+Y44cu8jrr73MrZFJ9u07Rk1tM7msy/4Dn7FzxzYqKuv5/e9+T1VFPatXd/HrX3zAunVrqa2r5eiRo0xP7KWnZwMHPzlLLpelvr6esfw8Y6Oz9Pdf599+8mu6VrUTCjm8efYPxGIRamqfwnbsJdTtO7V46bnyUC5AWsOtsQlOn75ATVUzr7z8Oo0NTUxMTnP2zEXOnrnM7l2TaAXXrg1wYP8RbtwcIh4v46WXv8L1oREy6QxNN0bZt3cfJ0+doqK8nKGbN/ja115j48aN/OY3b3Pu3AWi0QihUJA1a1Zz/tIVrvUPce3qMOvXpTh79jKNTa3MzaX5wx/e51vf+g7hUIzfv/kWzc1N5HIZTp0+QygUYnZ2mq3bNvHdb3+TeDKKRQ4tsguN8QWMcrluEv+RSXh4skRrwfx8mlu3pnnppZfYtWsnF85f5sMPP2TvnhOUVzQzPjHK8MgQoInFYmzo6WFmeo7TZ06Ty2WxLUl9fR2NjfWEI2VEkyDsMBevXOfUqTOEQ0GkEIRCARrqa8mkcgwNjaC1wlV5EtE467o7KSsPgTC+nsL6U/fRMsibe0L4eNqDc2JZYrgsFK8FSEHe9/TgXluwwXyVNpuCFpq8m0OpHJOTE6RSKarjZYAir1xc5WA5SQKhCrLuPBBndibDrVs5zp2/SXVVG889+zpnTp/i8OGTZlNFUVZWxlNPP0lTUwOHDh5gcnKKSxf7yKQEr3/1ezTUNzB5K8O1a9dYvy5IW+sa+vv7mBhPI0SGsdEJhoZuMjo6SWen4VaWbZPJZMnnPcMTLJGM9yExSb3o/d2Ky2Vz5DIuZfEIkWgMyw4QcIJEI3FyGU0qlUGjaWpu4rkXXuTY8ZO8+ft3aWhtZ2Zmkrn5Oc5fusae/UexbZuVq5o4fvoCez45ClaE/YeOs3XrNnp7NzE9M0lZeZzJ2SwXLw+zsWcXthXl8qUBNm4aY/u2bdwam+bjD/eRLKtgeHiMhoZmDh78jNmZWTb09DB8c4JPD57iuaefo6y8HqUznlW09Izp261fD5cd58tLRWkF0MYyHg6H6OpcxRO7n6KxoY1z5y8xcP0mhw6f5OO9e1BKkUwm6evr46/+Ksjk5BQ//dlPqa2pJhoN0dXZTiic4PLVYQaHbtK9YYo3f/8Wx44dZ/eunQz09TM2cpNXX3mWqYk59u45RFNTHfPz88xMz/KXP/4WTz3Ti1x8oPpd6QsyvqLk70GLKDVY+ZLjgvKWgUkKQGgUORQ5Upk5jhw7TD6f5uix42Qzs6xbt5VQSCKkIpPPcurcSQ4eOcDKzi7C0bCXtxTq6uu4euUyhw4dYWhokHQmbTYBoQkEJJFogFDEIuAItM5SXpEAmefkqaOMT4wwMnqDsvIYFRVxausqkTLP8PAIhz49wqpVHVRVVRKJhLBsi0gkTCTaSENDA44TNMdFCJPo5kFpEX81FiTj2qPQd9W3zW6ViEepqixnoK+fU8dPMjo8ypVLV7h44TKVVQkqKsvIZHPEEglq6upoaKg3maVzLpblYDJSZ8nn8kQjUZKJMrrX9dDWtoJMJsfU5Cw11bWs7OikrraOivJKKisqiUfjVFRWYtmO58bi0railfU93ew/cIhPPjlAa1srTS3NzM+nsJ0gNbX1rFy5io6VnThBB0UehclZqFEF16Kiw+eCril0s/HqLzqtf64L7Auydu9ExhfRP5nQV3sNBgwCx3YIODbzqRSnz57ls+MnsGyHcCTCwPVBzp07Ty7vkkrlGbwxytitKdIZTToNQzemGBqc4tKFId5/dz8tTSt47ZVvsmbVZkZH5pifyzMzPY9AsnPHU3R3b+ba1SEuXe4j77qFAbsT3mR8M4yrhdALx7GAlZZ4FmgPv32kI64XqfKPouBSRuuVV4gRF0VR4M5sw0+UYTwSamoSNDSWc/yzw/zs5//KqZNHefbZ3XzlhWepqalk5com6uuTVFXHiJcFmEuNU1YWpLW9FunkeOa5nUSjAfbt/Yi+a1dQKo/tSGpqKljZ2UYkGiAQFLStbKauqZxtuzbw5DObOXp8L2++/TMCkTzPv7SThpYyFDPMpEawQy5ru1fQ3bOG7Tu38vRzT5B3c8zOzpBIxE3Ejhdmu7RQvrijRaGfFtMiSdKMWOlE0H4a4UU2Me09vKqynF07t/Gbkd/zs5/+lAP7DzA6Os783AyvvvYS9Q31RKJBrg9e5+233+LipctUVpXT3tbKxUsX0a6iprqaFe2tDAwM0n+tn6nxCXZs20xXZyedHSv4ZO8++vuvMTl5ix07toHWpNIpDhzYz/btWwhHwoQjISLREJs3b2LfvkMoDb2be+lY2cqa7nbOn7/Itf7zzMxMs6Wjl7KKGIockCvsmsUe8nIXlnRm0R2qBNC5Xav5/OhzfM6D2zYWLmoT1QPZbI7x8Vv09fVx4cJFRsdGaWhqIhIKol2XYMAhmUiwZlUXdbU1VFVVs2VzLyPDw9y4cYODB47R1NgGSGzLRrkKN+eST+dwsy75vEK5mlwuj5t3SSQTtLS0IWQQjUU+r3BVEae8U36ToivRQrYnF/SJt3hK/j6XoShgp5/fQPt7//KG27jZBQKwc/cGGpvqyWVclHIJBoN0dHRQUVFBsiLID/7iVRLJJIFggJr6EOl0lkQ8CUhq66s5e+Y8sTiUl4fJZl3CkQDl5XE29qxn7boO6uurCEVsvv29l0kkojQ0h/n+j16mv7+fdCpNVVUlHSs7CDhB7NBmBq/Xk825xGNlrF61hlAwwo9+/C0GBgYQwqWxsYbGxlq0UJ4b0L0tVfc4LbG46IsSlbfzAAoF2l2gbvp+kFJbhMMWu57oIZEMcOnSZZSrqKiq47nnN7N5y2biiThvfPslJiensWyJZbWwoqOT2tp6Tp46itJZmppqeOONVzlx4jhCCVa0V7Opp5O6mlr+0w++wckzJ3DJ07aikzXrWgGbdHoOoQW1DSH+4kevsWpNO3bApbtnBX/zP3wHtKCnt5V4IsrXvvksJ09WMTeXwnEq2Ni7gkhUIKSfxVp4k8fLmI0XAaA9vz1EIS5U6bzJvejnX/SMCF8UU89dyV8gpVEI/r+HFI9831az4eT58KN3uXzlPBMTE0jLZteuXhDw2bFqhq5fITM/gZubp64mSTo9zfjodVAubjaNmw1iCwgFA4TDDq2tjTz15E4OHDjIP/3X/8rwyATZbAbI4wQlkUgAaSkcRxGLBwiGjL/s8sek+EuhKeYuwEiPrjTJ8ZUnTS684/GiUk3+npikUFiWprGxiob6Gsy2orGkREobrfNUhsOUV7UZwEoIyirXG6OcFynnasXYrSDl5QFGb/URDkd54smNdG9op7G5DCmSaFykBWvXrUBaGiEyNDVX0NCYRGsXaQksKdA6R2t7La1tDZ7Hh+W5CeZY2VnPio5awMWyBRIXRLYkEGMxo3wgTNKwRCnNUQhKe+n9lRd2tkjcENpzDLUElbVBdlesZ8vOLo+5gG07OE4AIXI8/2IvQlsoDdm8Zm4uw1u/f5/jx4+yeWsvlVUxulbX0r2hHpTGti2ikTBC5Nixq5OezQ3kySEtSSAYBCVpaX8KoSAYDNC17mkCjo205qmqdXjxla1orQgEJFJm2LCxlVVr6nBd4+AaCIaxbO8sFGEbf0/vaDeBd+yDMGekaB1ECscL9/LUMm8HecSK1x+HFldXY6KXXP+YBC8hAAs3xqWoFMNV2kUKSff6Vfzt//hd0vMppLSw7Tba2tvo7l6F1ppo9HucP38OrTR1DfWsW1tHJpMlNb+R0dFbbN3cRVvbCtau66SqNsjk9CwdK+pY172K8VtjrGhvR2vJ0I2rxBNhenu7mZ+fo6EpSllFI//9336d1WuakbaJGNPCS+SmfetlcXFofIZYqpsKpBK3nVKq8NVtv+1ffvJYgfFRtYvs1WysxvFdIUCZcESt8yZ8WCuU1tiWhY1m/bqVlP/Nd5ieniMUDFFdU0VFRRLbTuO7cimlsGzjRqZU3my60o+yKe54lmUhhOO59rhAtlAv26uc8LTC4kmLD9cPBSZpsoeYKeC6GqUlSgcROBjfM98x23eQMWnyEQb7sS2JHQpjpC7PA94LLA+FHbP8hEMYG6UFlVXlPP3MLnbt3kF5WQzH1jhOEEta5nwTc4I3dlASD0YKWKmvJAWcUMGdIShCCEwyUGEJbMuhML2F8MLwSuI1tIXvi6axvTAzXdQeC2s/gCAMMmh2UM9EJhF+RNQfUd9+hLTE+bHC86crJAfw+uRujNLFNf4PnjOAq3M0tdbxjcaXMMcjF+OI/WNdt+/qYUNvJ66rCIfCxkWDIC+8vJtcLo9tOQScELYToLy6i7wLmYzLyEg/p08fw81nmJycoqOjns6uDtZvWAsobBsSFQFerH6SQEAipC8OlkInUMrejMtTkVEKLdFYpjFL5CIsqO2PeF/0I28eLtfjch7kz2+xAGNfuk5LtL8EDvAhKrOZWOAKhDDsRGuNLUHnTWvCTowVbZ0mgkp6uGiJQcmELSpPOLNxlcJxjKSqhDQnsPz/7L33lxznee/5ed+q6jjdPTnngEEegAAIEASjSEoMImXJQZbt45Xt3WOf6z22d+/Z/XV/2H9g766vz7GvfW1fy7YsiiJFiqRIAswBBEkQEHIgMmaAyTM906mq3v3hraqunoBEQCIoPuc0MN1dXfXG533i9/HiHfUzTO9vh/KN1KK2+l8pFqIpLb7+itUS/eRxx9VQ6I4jsEsCtxSllDcwpJ/mFSrIFDzKwVWl4BN/W2nyYNRDC8B2HBwH4vEEDz74APfeew+RqIVlCRQOAonjKBxXILAQRHV3gjonVJwqleQz0cXB4bqgmG9EdANp0T8Xg+/8/imFcgW4FsKNYtteoTFALmAwtx+LXNhifeJKoUEMcE0ghl8zxNPPF90lDPCqT32B8HL4TTNGeTP5OJP6ukjUxLRSlK17+v9EIhHahDoP30SrWRHL5NHHHkRQYmpqljXrVrB580bWrl2JZRnouS9hmgaWlfDWm41O21eLGx4eECfb3wAAIABJREFUjWAxe3FCSoIycZzKNVH+nQiYTXl9XX3Ul6XQdNxqnaTCYSOu/XkL7XXlnHKd/Xb2zGX2fXIcKSLcsekOqqtTHDtxgP379lFbU8+DX3uQeCKCrqkNoJ18ruuPokSqBPNzeV742Yt09zayefMmTDOGVBpdSClFIV/kxPFjjI1Nsm7dOurqEx4Yi9+r8mF45X15fbvW9DsspcIwJBErzqVL4+za+R4RS1IqFj00nuAA0izFQ+cICoMHi6cswSnX0c2RZe+nUhJDmjiO1uRNQyKlwqXodVifGIVCCbtU8qRAq9w9qUN1FEqXlw3bSq8o1YUsMd7pVb58gXjgSRFCRXBsi6NHTmOIGKUSIYn0dqXFW0MIoQ8SZeDaBqWSQKmI54hZaOkPq6v+8bLw4BLlE3ypJ4oQz/E9rkJUMDANVAB+HndnRyd/+md/hnIlQpg4roOUrrcG9Bp03LJqJolgK6e8oT1GXYkK46lj5SfilAyKJYUho959He+7yvZ+mWmh3Xp5EjiO4vDB4/zNX/8L2dki//t//gs2bd7Ij3/0Cj/+0c/o7+9i3dqtdHSlKdk5hHB0uqA0dQqlI3AcA+UYDF8Y52/+33/nqW89xsahu5BIbNvGRzbKzxfZ+eq7fPLJp/zlX/05tXUDwSG84Ni6prZfK2k13hP3TDPGqpXryedzzGcLnLo0wsmTJ5iemgL86nOVN3ddFSxA/7nSW6ga8UMbgF3X0TmkSuI6oJAaIQiFUjampYFCXQWmEWF6ZpqRkRHq6+qprq4GuGLqULkf1zA8/sYJ+GYZPKG8mUAIA9eRGEaUurpmLDOiGbS6XcuVeuMn3MpPldI2ZDPOZ5+dJzs7gW3nKRRLodN++Xv6iEVaBdIHkC4d4CCltjOFDynbdgJQB6VcXFdvAsdxKJVKOpXO8n8jMAwL2wlBuKGBDfySwgHYqnSD+0gPFeraQS4cBA5OKcL8nMP09BzReMqXa3Xr/fWnltNmboBCS/pWr6bwubTsNV4o1NXs7WUIOoFjKxzHZWZmhiNHjtHS0srZU2MUcybFgottSy4NT7Bv38eU3HmkIWhubaW3p5+5bJ4jh0+Sm7cZHZnj3PlZZrIFZmaLHDl6mLHRCUzToL2tlbq6WvJ5xdxcCdsuowgJr0zLjY3G1SmwSUppYQrJ4OBq+vr6sB2bE8dP8O4773D58uVAWgiUWOGrRT76b9mGUSlUuJSrmIWvCEl2voHEsxGhYGp6mlx2Pz1dA7S2tOlpU1eeuBulhWlLATNWoNFsDKQ00ZZS3wFgeK+lylV+kSlsDgF/Hmpqati8aRsXLpxmbKzAhYsX2b//AHbJocIzWMEfltfZrs3po3BcN0DtKRaLjI2P4SpFQ2MjkWhk0cbWUGXaDCDUQqiGpaTkq0n+CjwMUi01G0gjQiRSRTKRRCmJ9DAKlefeliKcePD5yV/W4ibfd/GDKGt7V7BJButfXIPgoXQaZDqdAmVy9twFdn/4MVMzs3T1t2LbNvl8gV27XuXFF1+gr7+H6dkZMCx+46lvce7seV568TX6elZSLEChUMAuwZ4P9/H3//D3VFVVEbEiJJIxnnjiMVwlENLw4nBDufmiPI43QtcElSaEQGJoo7lhYts2yUSadKaOQsGDqqrA7fJbZoCyQJn6tXgU9SuMH3cF0rm5EpgkmbhMJt1JdXVrObf4+o+MK5NwAdvDtwvZUX0lTClcR0O6ua7G6YvFop8rbexXT2GYOD2e8USCoaHNrF17B1LB0WOHyWWjFAslgkNNUDn/Yukt7R9o2hi/cL70vcoqkl9bRzA/P4/jnEIJ6O0dIB6P4zgujusSmpLgLmU4vIXkfaoWaAxLtFOrDF7om+uGGIPOR1dKYAipnXSuu2QF59uJ/PCmz2OTrNyDeqwymRpa23oYuTzKz156mapkgs7Odi4On2dyZpoPP95L34pV/Mmf/DGHjx7nf/zLv/Pu+x9z9vQ5Ghpb+MM/+j6zM1l2vv42+WKJY8dPMTIyyf0PDBGPxTh75hTZbB4lJEYkghWJapOe58u4gZFY8H750ViCq2mbj2EIausaWLN6HXNdWXzgykXMQflQZp5XcDlSoEOJFjaqbLXy1VzLNDl/4QKXLo+wevVK+gf6K21jN3WdKsDR0ski/Dn9veuUs12lNEmn06TT6ZvZiF85CSExTYkUDoYwiUUzZDKN2CXbiwLwhl+IBc7xpRab0pEPynemBZZsfFd44DYTPt6kIJbIMzoxg+M4ZKobSMQT5XjURbZEPW9LU1m7We4wCzQT5cHqeU6qwNHomZGEECSTKWKx2G1+MF6JPOtx6OBaLNAs33dXKYRp0NbVwflLl/js9Gm+/siDGKbgs3NF5ksFsvk88VSKyewc09ks0tAIUdFonFLJZmxshFJRA/tqS4kG1sjN50kkErS1t1NTU4sDlBxXu2mvSWAK92dhH0RIO11egFu6EJiQSCGoydSSWJX0Gl7JJCsbeA2NDYBVodJRUmnaV/7CTMU5euwggyv72bBxqGxOuyUL1avR7QsgYXUDH1reJ+kxFPP23DSekyaQJsFTITUEkpQ6vKKuvo6t27YGcWoVW2c5JulvMlGOhCg/R4DwzTK+mUbbDP3iVfPz85imQaFYZMumzaQzad1cV5cMLa8Yr/3CCT6pbI/PjK8MFFE24fgahCjfwvVMAkJgWRb1DfVYplXeazfb6uOri7fAnBR+hn6CCr8NpP6yKSyEt+rZfZfKBvIPwHg8Ql19hq6eNmayk8zNTzC0cRWjo6NkziZpaWlg212b+XDPRzz//HNMTU3R2dnE3Tu20tc3xquvvMrzLz5DPBanKiOpa6xicFUvvf3tTM9O4FKkpaWJZCpBTW2a2roMplUG1a1khAv+CuIkQ3bWINTKqwCAs7Se7VHguAk2Q4hBGIZBPB5HV6BbbsEttHEtReVFeyXSGo3O+DG8KPtMpop4POr3Dd8J6p/4N4tNhe9TaZPxY0T16ebbKW9LEsI7DHxEctfriwjG02cA1bXVpDOZqwzwMutBhBjwwhjFEAp5We3WNDM7w+jlEYrFImvXrCZTndGb11/kQUC4QVBbR7CAa1eWxb22g+zqjEnHkd6CeQ9ZsG5VlGR53LxDzgvH0iDW3hqnfFiE26Q/q6xfXhaQFNJwWbGiBcPaRlNrO+2dSdZvaGPNmtXMTM/QO1BLU3OMxx/fQVtrmtHRcXq661i1epDVa/rJ5zpIVBUZHh4mnUnTN/AUq1avpru7C8U3OH9+GAX09nTT3FbFNmMNfT0NNDfVeuvXX8/lcMNF/Q9G1s/L1OhArguucnAcG9Pwg88X/77CJhmuTxy8v6onzz9Wr3SRKM/QFSkstWlVLRK1tLcykGD9K0Xo5LsBuoI0UJYoysjmoBmMVgMq7XK3FQXBt5KyI26BsQ+NJm5YS/x+8Q0X/BU61UMAICo4KMFnZAKNNO86Gk08YkWIRKO4rotpGpiGicIN6sCUuyBC919AaoHJ5ybNj6+aB128HaZdeVKiCxUllpVXKM21UEqgxDxSKM8p6ZVkDcUWB2tE+OMQkkaloKOzgaa2RoQ0UNSwYUM3VsRCuQ2sX9+JZQlqqutoa7mXQrGEAKLxCKYhSSXjPPLw9iASwo+0MAyDBx+4k2LJQSmFZZmYpkl9fS+s6dYlbIM43sVbebG13EHH/oJ2NmlfinK14+lKmnuFur0IHl8/LfT+SlzuSpKkh2Z7tYUVsg8IAYYBjlNCKRuEURadw4v08yBPi/AfS9W4USFm6h8eFT8k9OFtRF6nfIYiFjK6z3vvhW+9JVsWmcrXieADpJREIhHm5+YoFoveviyHWwXNLP/B4nV6c3qxkG5L08oCKof3ePhHIoqUCVylHSDBdX7Qky+YEJ63ij8AMEyIWeDPs7JUWcuzdLyrwCASlSRiIW1VKZQAMxrXjmMhdKoz3qMNQTzqXer68+x7tHXUjBsUHLsqc8E3z+jzTqJUHCESSBljobQcpmVAd31GVWaM1xhbuvStroPy+XkmJie5ePECU1NTnL9wnkQyQU11DbF4DEP6mREqCB25+eT32++Q98wgZe8WPfaXSrd60/sb61qe4yc0SCzTwnUVJa86X6ACLdoEC97/MubkVjDKkIB6S0KAQoqCUjrHXkhJvgDT00VcZWJ7ZYTLpS7c8kEmqNj84V3hHW2ESyQEBfwQutqqkoGqKzz9L9hdAs8WjoZmVOHvFX6VwEVTK6DsFPRLy5aTQxYmQFQ4Z4SXfitN3JIinzOBiA7x88Zfh/WVD/FFTFItkObKDfvlcIZTp0/z9//t7zlw4ADnzp3j032f8sD9D/Ctb32Lru6uoPFBdcWbsnAX9k2FFpaWMj0b9peEQf6y6Opzo/mfbxf1Sg0oVwMmuC5eDeBl7U23h957DXQNitZ1k2evLTMPME2TdLqe0csFnnvuLaThMjk1ytz8LGFtUCk/W0pLlEEZXZQXS++xyyC6ZbEWKgCkEegCylPTpRC4rkuhWESgwXB8c4qfAeV6VU0DthPmzMID31EOCHsJ1PFKCttQfe3JdSWCGLNTJcbGZuhor8V31JV7oMn0b6KLf4vgposifXwQiOsmn7Ncm0SRTlUzPj7J++/vxrZtZmaybNu6nUSiysvQqayhe3PCJsNlKlRge3EdR9tvDFOL9cs8rEKV/Iqum3RFO48fSoFt2xSLJRzHxTDCstVXY3y95FuH/KgRw7BYv26IdDoDuNh2gbfefpNLwweRhi6gJwInmQ6lKodLQdnaJ/wTjsqkptAbpXA9T7J/GOp0RB0Te+7cBWKxGM3NLUQiGmkrSGV1F9sJA34ZmLw8Bi7VYtZU2QxvAMoYEFKauI6BIEJPTw2ZdAalwHVcz3nsehmDSzFJj9v76k/l0/z/RSVnDzdquffXuMAbG5p58pvf4v33PmR4eJih9Zt4+KFHaahvRgqNJFPWBj5fLZCAgqh9zwOmdIF7pbzAdoUeNK+WsLgtiqbcBqQdjVp6kFr1ika1EapUKoK3Dr+S3j8/+emiSkEslmTVqjWgXPL5AkePnGGkegbDw1Hw7X1+qFY5v71CnCv/fR1bUEOdCQqFAjMzOZLJJE2NrUgpdbylF76iBcZFktqC9+AH/S/ur1jAgrRq7pOUOosKZYLQDmPby+LRh0L5XgGT9G+sULi25qSGYVTmvqorLFj/uiU017B93ePCC3vkfaWxJLdv38EDDzzI62+8yeOPPc7q1asRUovoYb+JZ0FYpkHXStoo5AaGXT3prirbQ4Rb9CRKX+JcCL31lYTzeUlHcgikYQSZVVIaXLsWcpuSr+EJAqnrZt+/4o8KG6PAcSART1Ff16jrowtQ2LjK8ezJxgJmtVCjXLgfrt4WgSAaKxKPx4lGomQyGaQHmCMNQ5tZrnojX3X24f38GNzln7scc9J82Q1qL0Usy2ML2kZqhoPCXddlbn6OyYlJbLtYFk/Dqmg4CPkmk1IKx9XILes39FCwR+nuq2Ns8hRqXKdGorwIf88Ae3OonFuOkvjl9ZSnXqSTKWpr65CGybWFMt1OtFxnfnmMqVwbh8AZp1Uej0F+Zcq4aeT7wLT6LIlEogwNbaC3rw8pJLquTRm7VUuSC43xYUYZcopcAymlSwnn83nisQRCSLZu20oykcAvYXstmTRh50pZs1uaHyxGsvJvUuZv/iMty6KmprbiYKhw3NglmwMH9vPB7rcxLRfT9LMavIcEEqcWxgMR3Esn9O16wZAF8m7Z5ud7Kv3fBog73qUuWpqcz83Q2lbFqdN7uTh8SEt2Sm+ewDQgrlw3YeEBEj5ohPe5nm4VGKq1+G6gkBgywly2QGtTG9/85rdIWZnlH3Zbkr9y/OwKQTnof6Hd5Fa1wFszjs6d1oKORpXRMbOfp87dV7Q0CU9aczFNk5aWZlpEi6fq+vnrZSa5JM8KJuXaMBk0lZnR/Pwcx441IYSkr7ePVDoNyiUA4L3ancKAOsLXOJZmkpWmAspt9Xibb38VFWFAZb9MgCepkb1thodPUbTHGLpjFVVVBkLYCN9GGdLyHeUru9rzpYuyaknTxcUNJC4vcFjpkCIvNh7f1R6O0dV8zwO3NQSu46WihdQQEdgIQQlZRuVBEEJQDQbCT+ivgN73nxeMhx+c4L/V7y0zyYH9pzhx8iC53NepqqqukGpubwFnIYP0PvNPD/wBu3WdVELhCn0A5/N5RkZGOH/hAiMjlzh95jRVqSRNjY0kq5JB2qSm23rgK0lV9urW90zvOx0dEoI/FL4NMJzPzJKaUzkzRaE929coRQadLeNJGoaBlIYnxfptMJaOR17Qj/KfV4YdWczkfSHAr6boZxuG++rH9obSErWPRiAMh8amFBs39pFKCwQOAjcESaA76yrNWIUyQBneRrNR2Dg4Xo0cgZ+GJnGRwkUoF+VxbeE5YvxsDG1c9jet/6o0ECulmaTjCpAGjqeSCUITJzS+oL/ng3Ls3oSL4Df+cPjGXw8cWPiCcwy7aHP61AVmZmYwjRjSS9XUDobbdbOGGeRy30F5Md2afirfiwiMjo/x7E+fY/fu3YxeuszeT/ey4+67eezxR+lOdGsPeCDg3q7jvgx5S32pkgk3n7w4QF2KhiBBA298y0ps+RdLMayKz67e5sB0EtgBNV9QwXyKQG2W14oBeo1SytKXhTUm7/mBkFA5AouDyYVO30HYmpHhEtSZViK4rfRLsIrKoHMXtPseDb3m22ADSVQZQRNkSKT1DCWA6zHLsFQYPjVUUKTMZ7i6Nkb5OUIaSFzddpRuK1py8W8VhPNUnDLlmj0Kges6QInLl0f4+JNPiFpVxOMxVq5aSUdHhwcme7vRAgnSB5wIH0YB3WJVWymU6yINA0MajI6OsvuD3UxOTFBbU8PgihUY0iwzjy+VLfhXRSE1dTmT/q1SkSoTwHWpYC/k5pfWhsUPqnjmUk9dIuNGBYxSeEW/wiU2F9xWXx/Uv3G967R0WZhXjI1NUygUMKWkriZFdSYNysG2bVypgnIIQWW2ZYowldvmK+u6YFmhZDMzPY9tuySrYqSqUkihEMrRjF2WGfGS4x5IJ2Ed3MvVFhohZHJigiOHj2DIGOl0msamRjo62pe42e1CymOQUJ7ZJWb31gmRnpQvvBKugpraWu7evoM9ez7ioz0f0dHRxZ13bqW+vgEhDM9u7U/kLWrTV/TLI6ER6wvF4tJM8gtEC3K39ctzrHsq9lWATf14quCY12jds1M5Xnn5Q95/7yNKpQIol7VrB3j8sW9QW5Ph2PFjWKbBihX9xGIWZTgm37hreCJ52MPuBk4ilGJ6copXX3uHAweOUyw4dHW18+ijX6ent9WTHv2I/aWkxjCpEKP0bZ/+/352QIF41E8k1dKXcrmO8gBfBPINwG4FgwzPcNnW5P9kkUHqGr9bcJ9AnSOYQ4HQaaZKEYuY3LFxiG888jC5uSz3P3AvQ0PriUYt7dARlb+/OW1aQAtO0aUcFmKJ6z43+YJy2Bb4paRy3rYQEsuKUijoEiF+168EkvyrojJUWsgBEsgWqvx+MYmQNOKEPtVV9z47dYYfP/0Cdsnlwfvv4+LwOd5770NamltoqK/j2Wefpbung6amJhw3wcTEOIVigUymmtraOmynyOTEDEJAqVQCHGpqM1Ql456zR3Hy5Ge8/NJO2tv66eps5fWdu0hXVVNf9w2yc6PEYpLamipMKW54YUsPIks5frEpl8W2oy/YrF4HKUC5uupdoZAnn89RKuVA2LpgU0gnWyqGL7w6Fn6/7HfhXGDlG/QVSJuhjX0Uiveyes0AyCwT08UgLGhpLNPy51f7buH3ZTxJ/1rpqYFgWVGEMInFEkQjGgBBSi9FctEofA4K836+3CzSdRWOYzM/N8/IyAjDw8Nks1lOnviM+dYcjQ0NX0hb/zIAF2Vavrk+6w+BqvoxNkJQzJcYH5/CMiO4Lqxft4G1a1fT3NzOhx98xBu79rJi5Rh9A/1MTk+z99O9CBSxSIzf/973AMUP/uUZioUCJSeHq4psu+tOHvnGg1SlqnCUSyqT4dFvPMbGDXcxMnKJ5559nonJWU6dOsdLL/2IFYOdPProg6SsqhseIIEubFY2karQZv2iTedVKMyQwh8Ck5NjvPvu24yOjWBaRZAFz9xQpkVSlKpki+JK3y38bei6oBVKUSyViKdKjIwe4413RrRZxjuYFjLLa3lOBROs+E4t4khCCFwlcWyFISJIGWPD0BZWr1rvmZB8u6i64UP315qUDjM8fPgwP/jBD/j4448pFArs2rWLJ598ku985zsa5CQSqfQL/YppSSYZNgle3SwVUoeF4cHtO6xYMcj//L98n5+/9Bo/+MG/U1UVZcudm+np6aG+sZmGxkY6u3q5fHmOHz/zMo0tNaxdvZqf/fSnVKcb2bH9ft7a9Qv6+3vZfvfdfPTJe7z22vusXreWFSuTYAg6Ojtob1nFyeMX+Nd//VeqM9Vs3bKNutp6Vq1aRXNLNaZlfu4F7ZsfvhRZxEtkJQghmM1OceKzAzQ2Zejqq8U0SyAC/CP900X6p1jAM69RwhNUBAMHbM7j38qzvQg0rqWOmytn14eLey1UURdK+Qtj7oLfqsU1k3RGl4FSBuOjcxw8eJzGukZWrVijUWMcbZiQ8gpM/ytalqQhsKwIqVSKyckpDh8+TC6XI5vNEo/HiUQigNZsAlCTLwAtRgEK/R+kaC+pA4SCSEXohMXAdQXT01M0NtTy5//rn5HLFXjjjTd47rlniSdi3LVtO7193fT0DCBEnInRedySJBk5T011PYWiSy7vEEuk2LTlbp546inyJZu33nmF2ekZhOsiJcSiET7cu5+//i//QKFY4C//4i/ZeMdGDLPI448/hiJHLCZDzpkrkBDlvlQ4cTTJZW0lX5CZvC6qLImr0dcdEgmToTsGGBhsQBolL0JgORfaYklsWYa0DIXNPKAdOGWkdIHybKeOa2MYXuoZAkmlCWChJBk+zNwrTLzAz/1XAY4hCpQb4cL5aUZGxnBcB9fxGbHCNJYbkRskX7BX3PQqjF8k8mAzUMqlrb2dxx9/jCNHDnPk6FG2bdvGnXdu9cB2NUsS17Rnb3mzgStIkldK064k/0IfbVqDQxw5eoh/+u/PMLRhCw/c/yCdna2k00mKpQLzhVmms5Ocu3CO3t4BGptr6e3pZfPmjcxMj3Pn1k1kZ+eZnZ3m+PFj7P3kE06fPkVVMkFVKuF5rBVHj53kv/7Xv+XQoZN893d/k+xcluHh8ySqBAcP7KG2Lsm6dQMh8f3GRlUfGF+G5XuFHgiFogBiDocIQtnoIF1ZwZSWup3nR2OxD6scTlV52Ho7QJVdRkIAUm8iV4VZm8A0pJfH7RK2nlf2yN9VPsSXvirA175C13XbdeiZ60qUSoJbZHZqgsMTB0nGaolEErS1d9Da1hJoJ7fFelhwgoTLJS+SgBbOT+WFy9OSMIoLfqPKz45GImzevJl7770Xy7J4+OGHqW+oQ0hwXV0z3XXD8HhqiXuqBUbc65iNBbcpf+4vaOFpO/rtVW2SV39S5QZSuEhDMDjYy+Yta9iz530++eRdHGUzuLqVR5/YTjyeoKk1yaXR0wyu7Gb79iEOHz7Ca7suYBkG69b3E08kkabi0/0fkM1dQBol7n1gM21tTSAcHKfE2NgIQji0tNXw0cdvc/jYpzzx+KP09Xfxxptv0d/XRm9vK9WWdd0M0heMlQDXe932RnWxmLX4bxUaFkpIhaEUQjggXATyKmMnUE45KNhxXRzbJZfLk8sXNLp0IkkynkSii34p5ejgcGWDUF51PAFuWQVWHmtVSiENI4D3d1yFECaloks+V8BxdCpbLGYRiWrm5aoiUmggWd2sq0hogmCjS+miZBFEiezcHOfPDFMsCGLxKraKu2hsrseKmLcNgwwkft+ursBxXErFEqNjw8zlJ0ApJBKBiVAS4ReKE7b3Wh6vQSOcUw6WACqKvfl8R4FyXVxXN6JYLLJ6bTdFe4qqlOTi8Ekv7ljnb/sSvg7wLgPPhPvmY1zqbL7lxkCgY6k1zKJCgnB1tpdSWFaU2toGqpIp7/kysIf6PoelqyUqyvV5r8gZfFZfZuna0QHdXW384f/02zz44Hbm5nMYpqCuPkNHRzuuq/j+H/8WszPztLd1IqXBuXND5OZz1NY0MNC/gkMHjpJICu69bxN379hCVTpGZ2cbVakoUALpsGptD3/1n7+Pcg3toXVdWlvbSCaTfPe7v0MmHaOqKk0Q23QNVC4eW4ZM8hfAlwHCf9E4eB10HAfXVUFEgyE0WOrV0LIDPwYSpQxKxRInjp/njV3vcXH4EpFEjK7eHh687x7qa6q5OHwBpRx6ejqR0gLcQN3UBecF0q/x7jFJXB8RXmgwXmVw4vh53n7jQ2bnZkkkomzYsJYNG9cSjVnobC6vAiJXlzG0pCmDzkipPMiwcsCzn1deTuO7yWvhVh3CIWkrsIgpxblzZ/mPp/+J+cIwkYjhFUc0PEbpm55sECWWzswK3X7hIAeaZWXetxQ608YP+clms9j2DHv2vMK+/W8A6IJr0gspVK4uTbwMypD0nnXlmfDUYkxQJn5mnYNL0XYRRNi65V4euP8R4omEZso+oLfXt0VM0j9U/df1k6/eKBrqqmmoq/d6JAFbp6Epl8GBfr0BPbtVc3O1ZzQ3kZikMhE23NHLpi1r2bZ9E4ahbWcuBRQOQkBtbQ31dc2gInoAPEh3u2QzuLIfQ/qn4fV1JKitdg1oJF8O8hwSQgPxSy87Spthr84MhNQntesq5rIFXvrZLl595X0GBldg5gucPfcRtelGWpobee65n9Da0sS3v/MUqXSSiYlJSnaRiGlRXVuNIQ3m5uZwHJdiqYjruNRkqkmlEijhIoTF/HyOjz/6lJ888xLpTIq2tia6Onso5B1mZmYxTaitSwUdz+TmAAAgAElEQVRq9rXwswAZh3LVvHDMnsZY9S++sVFe+sEhLe9mQ6WJ4B/vAZ50JATTM+PM5UbZclc/nW1tOLYdkiIhwFYNcvuXZlRigS1jYeuD2jSAEAZCSWzHO3AMA3+IXeWDzOgB8ff4IiSyBdp/gMNwhUnW29j0pEkDhYvjuhSKDgcPnWQ6e5mSXSSm4voBXpt9n8znCAFarkUEXFh4Mqvy6i0HJxki5Ahxyj/0UxyFQ3tnPX/4/e/S2Njs1fzWp5khNVy89kRKbxA09p3yHmCaAiE1w7zmPNDKLuB+CYTGGyHh2RavpftalfM3lUZ7tosul0amKRVM+vtX0tHVweTUFKlUPfs+Ocpbb+ylvq6Ogb6NmJZg565XkEJgRSLcd999NDU2884773H58mUUDrMzU6xZvYpvPvkw6UwMISA7O8+Rw6ewS5IV/Wvo7umku2uAyYkZdu16lcbmOh75+gNEohpE9vqEPhF6wc3liL98CquOeo9p8GhXzZPKSNYO9dDV3gqu40lmYgFT9KXKhbbLheMUPM2T4vVLBWVctQouvOqEfjiXnyggvNNMKVc/OajuGNIogocvLC1TfvbS8rhCq/8GPiCHAmZmC4xPXGJqcpaJycvYtkPEihGPJzBNnzWKZRw3oWdeg9m2koK2Kl0ISAhs2yWbzVKyc0gpSVYliEYiurGuAulPigMYZGdz2CVFV1cXlhn1ZthvkGaS+uTQorvwZT8Bju0gpIMhzGC8rslT9hXdEOniUq5OAxUm8USCHTt2MJ8VfLxnLwcPHqGxuZmezn6qMw3EIlXU1TZiGjGe+fGPOHL0MFu23MlnJ8+Sn3+TrVu3smf3PuZzObZu3cz5syO88NNXWbtukKGhQY03iiSZzNDfN4hjSz7asw/TlGzbvoGamnpSVSntHXfVcuhZV6Fbh5n6qyYfqcsHnDCkieMWMSrsfhr3QOFHFMDC8VABw/G/86/TTNg3iSnl27bxpFRZrjAA5fxxzyygcL2IBI39EDA3HwXKY+A+KLYQ5eytpefMDZ5f7o/H3IVNqVTi9GeXiRi7SadqaG5uZXBwJalUKmjj0iFAPj/yD5XroAp+rqBYKPLhR/v44IOPKBbnscwIa9etYdtdm6iuzgTSJqIEyqFkF3jl1TeZHJ/l0cceprG+1YN8D5eD1MZdrSNpgVg5grn5Oc6eO0ttbYqW5ibKAGg3uOCF/8Ab+/ntQzcqLenfaTQfjRhVLOZJJOLsuGcHtuNw8vRpPvn0U6KRGHdt20pjUz1r162hpq6GI0eP4bqCaCxBLJpgdjZHNpvHMKL09bTzyMNfJxKx+OG//5CLF4YZ2rAS14FoNMq2bVvYsa2aQrHIT37yDAcPHmTb9iHuvnsHVsRDupEV7s9rJBV6wS2ffOVLeXqj3zq51e+TZhCWFQEkdkk/uRzG57sudGvcMJMUrsfIBGDgOoLsbI7pmRlcV2GaJpl0FfFkFKUMbMdGCIFpmTp6AK9SocILq/IkSm+feeZST7jScQmuLchm88xms7iOQzqTpKoqjpC6lS4apFvIcjvLUqbfD91iV2gBy+cfQhgUSy7DI5dxSkdJpdI4jkt3dw+pVCoYueVDgAgxzOtllL74rGBkZJT/8c8/ZH4uz+CqAU6dvsiJk+dJZarYtOkO7JJNvpDHMASJRJRiCd59+yAnjp9jxz33UV8ryGazFIpzJJNxolGNCuO4NrlcnmLeJRJNkIgl2bfvEC+//CLb795C7YP3EY2Y5ZzQa2075di5z8Vgb0u6vr4KvLKhgT3PZXp6kjfe3EkhF2HHvffS1FSHkCXypSwlJ4+Qikujw0xOTZCuTjM9NYNSLulMFV2d3VRnarBthwsXL3Ly5AmGhy+STMT0gerZCudzc5w5c4JSPu6lsBaIxjIUinn2fnqcmtoUGzesRkYMxI0Y1gO4vgWmo1tJipB6eYsoxDwMw/QkOv2/h5SoPcXaYgj48GX+JlJelUKBcgUT41l27XyXT/ce1CFaQjE4OMBDDz2INOCjPR+xcvVKurtaUVKHg7k+gKyHIubYBAzO1UW0kYYIGOTIyCSvvfomJ0+eQimXlSsHeOTrD1JTkwHPpCZCnnQfG9Lvp8DGL3krMVAeVqUKTHW6hIVtO5RKJQ9so3LNLGuTvKZyyUv9DsphHMphNjvF6dOnSadaaGzpZnDNRqZnZoglG/nszDhvvfUmZ86cxYpEuGPjRrZs2kJuTpGdscnNCd5/9xPefvtt8oU5OjpauefeHaSqEuz+8AMOHDhEqeiQTtfwyMOP8NLzb/LCC7uZncnR29vFQF8PhmkQlL/8im46Ce88RyoELnV1NaxbN8hrr73DMz/5AUW7REd7HQ88cCctLfV09zVx8uRhLo32853vPMorr+xkdPQChjTo6m4mnoBCcZrLo5d54cVnKBbnefjr97ByVT+uKoFwicYMpFFkz8e7QUjS6RQ77t2CabkcPLSX9vYWhtYPaEfEDfXqRiTQ24XEoldQ0hc8p4lmlmW8LW+OPV+CoxS2bXPqs/M895NXiUVT3LX9Li5cuMiBfZ/R272Ws2fP8M///C98+ztP8Tu/85soJTl16hilUp7W1kbqG+vJzswwNTWFaZqMj48TT8Tp7uokkYp6WqXg2OHzvPziuzQ1tWKZFq/v3MNA/zpKHQYXhk/S3d1KfX0DZcOrqpAqNbM3yjbRkDnQXxx+vwnsomGpezkm6Xu3b3AawoWcWlpaePKpx3n5pfd5+j9epqOzi9VrVlOYT3DoFyd5Y+d+2js6Gbs8xbOnXqexrhvHUSgluDQyzkvPv87l0VF6e7t4580D5OcjtLe38MrPP6C2rprGxmZGhi8xPZWjqqqWaCROU1MrqapqjUUYDNZXdKvIVa7eThIy1Skee+IhVq7u5+LICFIKWtua6ejqwDQE3/v9Rxi+sJaOzm5q6+pYMdjC1NQsiUSSvt4VnDl1gWhcsGbtAPfffzcNDbV0drRQXZMBCkipyGSq+PqjDzC4spdcPk9jQyPt7R0gFI8+9jCpqgQR0/oc0+7brb7M60Y7VsqF7cKChNYQNKnK64WW/HwfgFKS0bFxRsfGaetop7G+gVSqmv37X+LI4Qt8uvcggytWc+zYMfb/4lMiMYvaulq+/vVvMDM1xYsvvYTjONilErncPI8++jBPfOtrWJaJQJBIZEgla8nNFck6LlYkSTyW5rOTZ3n2+R/y5JPf4J57Ggir2boUbHn+FMYCZubZMz1Acd+5FFRaCBimHpIrxklWjNFVqdwKV6FLKyhJoeiwavUa+vs3cubMGPv2HeDnL79Kbr5ALldgYnyW5iaoStQwNjrM5PgUUgpcR3Hx4jBHDp8mkYximhbRaJy5bI4Tx89QLCgefuhxNmxYz9jYOI2NjUxPz/Peex+wds06GhvavFi30rV2wOuul8/rq5A3rdjYl5QEHlKQht+XhiSdTrJmzQpWrukFoZCGXsCGlKzo76S/px0lBaYZIb1hJbbtYiARwmJ2OsbaNT3U19dx17YNVKWrMKREChcXbWs0DEF9Qy11dSkvMN1ASgvlCgb6ezENEajmYdOiotKRs7QK7dm5g/RI6cmVt45h+pklNz0E6IqkQsDULgKHcjkDf2x86UwEEqafNGAagv6+Xn7v977LK6/s4oPd7zNfKLBh3RAtba309ffR0Jzhjk2bmM3m+NHTz9PW0UZnQyMfffwLzEgNtelqThwd4c6tm1izZhU/evppXnzxDe66ZyMNDXUoKYnGo0QTCc6cPotA0NbehDQs2ts7ePihr9HZ1Qro7DDftFppTy7bYTWV06mFH+Kk3LAgqceA8t9Lx0n6f1+zNCnKzh7PtuK6eroPHjzE//Nf/hvffOLb3LvjEWqrqzl9+iQTYyNUVSWJRm06OzOkM2lsu4mBgS6kFBiGpKoqSSxZpK6+mv7+Dto7Gujt6eXs2fN8/PHHXLwwQnNTK++8+w6rVq0GJXEcm6nJWZRrefYJO7CP3jB9palfkbTdSmdsaMaiMCwDQ+jQLYUNSiGVZ3+SEsd1MYSLNF0sE1AO4NLTV8/3/+Q3QUEiYSGl/hwkhl9PRUgc18G0DMrOI10TXedW46U3Gkil4c/8GNogXfGKReTCXt1bTKE2/CrkVu2a0RUS9RmiGaOWDXyuoaVNgRaAhADbcZicGseyDP7kT/4IVwqef+FnvPizn7Nm7Vpq6+pIVaXo6OzEth1GRiYwIhFiyQS19XXE4zHypSKxZJJNd97Jhg3reef99/nFL/YzOzdPTV01dqHEkSOHmRif4nvf+30sy+Knz/+Ew4dP8Ng3HqGpqR4rqlGipFBIz0O/XMhXmLdpk0KZx11pi181TvJK1jxF2XYZWDgEupiX54Xu6+ujv6+fp59+ml073yKbnaWuoZ4HvrYd05QMXzrOx3vfomQXWTE4iDS20tCYZHQsSlt7AzvuvYOP9nzIK689SyQSp7mljrXrVnLs2GGeffYnvPbaK8znc3R0tJHOpKiqSvLWW++ybt1qhoZ6icQ0UO9tkml725Hw6h47tsB1bHwG4yoXYaClyPD13uo0DCg5eQzpqzf6bqYhSVmW9pYLncuLkkHmixACw9QvvHi8coSYZoFyYYnRQKp0Ay3hKwrbJUFLluFQOxaMk/CcHAqkwFUOhw4d5O//7j9YsWINd22/C+E41GSqiMcsrIhgdnaOAwc/ZXBwgKbmarq7Olg5OMjo+Cj9/f0MDw8zMTnKW2++wdzcDJ99dor+/j7q6xowLUEhbzOfm2Nubpbh4YvYdpG5+RlMy+XYiYN88MFb3HPfnaxeNYjwaoX7Ka4L97vAW3t+ymVgTgmFBC2zMJYMAfLTjK4tBEjHLynPza68U1tIibJt2jua+T/+z//ERx/tJ5/T1/b09bJq9SB2qUh1TYyzZ09jWJJ161bT1l7Dd3//US5fGmPNum66u5oY2rCKfD5PfV0jg4OriMeiVNf+FkePHiWfz9PS0sL6ofXYts2f/8UfMD0zQVNLGsMIu2w+h/Pmy2yaWkTXM1p6oSjXYO/HhzhwcD+maVGVSFFXX0tnTysNTdVYlgd75qtswpfo9FN84F3pwWNptc7VhaowQcCRY0c5cvgI27ffTVNTI67jeLnmwpMU8RwQfvycdy9V3vRuuXtXoeVT4W46hdbWLefdFevYk5ZV5ddXboMO9sZ1iVgmmzcPceH8Zd59Zw8//PcT2LbLtq3r2bRpBfl8ibWrV7B/34fcuWU1Tz35AO9/sJc9uydobeugrjrD9Pg4hoBjR44wfOE8tZkMv/Xtb1GdTqPUPLFohO13b+Hi8AU+/Og1TMtk85ZB1m/o57OTJ9nz0W5WrGxj1ao+z7aqKtq6sO9+NUSNR+CfqwKUD4OyNC3v3Q4/aykmIQAlg1xf/yQXQiOqOI6LFAausmluruOJxx/CdQWucpGmgZQ2CsmWLau5444VIBwMQ1dKG1jRzcCKHlAG6VSMppbtuK7ywhb0PXr6WuntawXAUQ6mKZDC4p77NuK6DoY0ENhU2CUqMA2XHpSKECAh4BpqAH+ZSHilRgO7yfJX6peSOLZk12vv8uOnX2D9+jVEoiYTE1N093Xwe3/wbfr7e8jn85QK8wghiCdjSGkyk50lmUxiWRFKpSLFYoFIJIJSitx8HteFeLyKWCzOvv2H+Kd//BcymSbq65rI5ecp2fNIqYhGo0SjUWy7iF20QUlsxwYFyVQayzI8aVIA8ip2pEqvpVI+XNytY2Hh0gW37jkhSSkEdCzCX3sHVtjpEVzoXyZAKQdDGDQ11vC97z3Fww/tYG5unkgkQkNjA+lMilLJ5v/6v/+U2ews7W2trB8a5KGHvkYuV6KxoYFUOs2508dorE/zzW8+Tn9fP9U11bS11yNUUYOhCEVPdxv/6c/+iNHLYyAFtbUp0pkkDQ1rGRj4K+rq63R2nfIrBizX8zIeqf5Dz7Hw0Ob1sKgKFuHT54JK07f269uUr/ZjyxBgmYb2lEkHQ7oIZaP8Wl8AUtsSFC5KaGRopfyawI6uiujZKIWXhy29Z+Cp9EI5+Ggk0lA6zsp1K9qmwkzydoG5+kKTN+dKgrKYmS4Rter5vd/7E6qrU7z91rvsfP119n1yCsuo5pO9exkfG0MIwZo1q+js7GDXrrdZMbiCoaH1HD16muMnjtPb08v09BSnT5/BcRRtre3ceedWirkYY5fyFAsW58+O88HuNxmbGMYyJZ1dnWzceAejo+McPHgI04qQz+eZmpzigfsfYOWqXkzLV6vcYG0uT79ESfILRJ5Pxnvj72dfpZT4KcR+GWAhBamMRTrTjI8NqlyFlEWiUUEq1YBSTR5egyJd1eTFJwpcp0hnV5rtd69k7foOBgc6MQwDJQooSoAuEqgUZKqTVNcktW1b2AhRwopK4vF6TDOCCgoRlh1LZemuMm5Sc8ZyuZlroWUlyRuJwS3HR2oOrVxFyS4xOzeF4+hOJ5MJDxvQS2iXEOCReaViNaySCtQnrTrpResqFdjBtNLmYhraxa8zP9D31oAySOEnzpdRqPUm+YpNfj4Kew4luAaxWIze3l5amlvJ52ze272bs2eGmZ8v8OqrO6mprmV6epYD+07x3e/9Dns/PsmRQxdIJ9t5+419fHbqM6bGHPbu/ZRCsYBlWbxfOIBl1uCWouBGUU6MN1//iFdfe4vevnZyuXn2fXIWO59mejbLj378Gv0rBmhububtNz9mZHiGv/yr71PfUEP4MBcBovRSFN5kv15UYaX0Ar99U4YQ2jEnhQ76dl2fKfqAwWXAJgBXOV5ZZm1KkbKA4+oywoYlWDfUTW+/liqFOQdSlvcqZW1Oh+notggRcsxIhTTAsV187NOKGncAwf6/cVo2BCh4znLrpEJ2DUuSAsOwcB3I520OHzrKJ3s/pVAoEotFGVjRz5p1a6mrrQ467iqNCSiQOK4iOzvH+Pg4DY11pJIJXNf1kKmVZqZC541qIAbTy99UKFdP7PT0DNlsjsb6ehLJ66uNXREC9HnsmF96Cm8nF2kAOJ7zBqQ0sAyTmelZLo2MMj46S3NjDxFLcvqzS5gyzdC6bTz33HO88fpujh09R1/vILl5wfGjF+joaCdelWHk4imGL0xilySGEWdmOs/eTw4TjdTw27/1fS5cuMi//uCHHDl0kap0imI+yro1d7Pjnh1cPDPD+++9ze//wRM0eExSp6RdZU4DVcdHSPfXwi2kQNH51THmAK9e+XZhT/Bx9Ti4LkxOzGIYkM6ky6YBpaNZ/BLUylXYrqNTEKXOofeKQCOlg5I6DCeelCSqUp6kmQchtNNNGYiFuPhKl/FQjghwJw1peFqnoR17gGmanpNO4SpbZ1zJq4/qlbSLRXEOvhfo6lBpCzLT0QZRgYnEoliA9985wD/83TMc3HeO6XGHQ/vP8d//9ml2/vxDpicU87MG+TkT7AT5rCQ7rbDzMd57cz//8LdPc+bkOIWcRX7OYD4rmRwrMT1lUyoaOLZkdiaPXZS4pQjzszA3C5PjRXa9tofnnnmV4QujIeh9Ld1eFyakgiCo9NeJgkPyGmySuChVQhg22flpDh06yKeffsKHH+7GLtn0dPWQSVUTsSKYpkF9XQ2rVq+gqbGObdu2kEonefbZZ5mbm2XrtjupqclgWgIrYpBOJenu7qS1tRnQVTOFNnqTLxYYm5hiajqL7Sgi0ThmJIrjKGZn55icmCKXK5LOZIhELM3sfOfOFefTk4zLosjnHMyrkCgrNb/MKMllmlIx50H0j8dBpiZn+NF//JSfv/QWhZxEiiiGsBDKQjkRXDtKqWBy8vgw+/edpJg3UU4cSRXKjaNUDNeN4DoWyo0iiKLcKEpFgShKxQALV4lymVl0jrXAQBABFQc3CW4S4cZxbAPHERw79hm/2H+YfM7GcXSqoW+Oq6yDtNi5c7UZvslQaZ7K7BpcvHCBnz67k8nxIn/2p39Me0c7Fy9c5B//6Z959eU91Nd2kMvNkU6nWLtuNb/4xVHOX7jIQN9qnnvmDT7c8ymN9R3k5xRHjx2hWMozOzODaRps37GVmpo07737PuuHNtDXO8Drr+9memqG6upanv7hTibHp2lqaKG+MU06E0UKHyfw143j3WISClcVqa6JY0Ucnnv+J0TMKHPz82zaPMT2u+/k7NkznD57krHxi7iuy6ZNG0lXR6hvquKuuzfy85dfYWjjSlat7iFZZXD46EqGLw4zfDlHY2MjrW01TE4PU99QRV1Dkrvv2cxrO1/lh0//K4V8iaaWOtZvWMmZc2fJ5wt88ME7HD9xkOFLp3niiYdobNQZGXjB2suWo6js2K0euS80af7oS95ay8vO5HjrzY9oaW7hgfsfZW6ugFI6W0Zhkk5VMzkxy4/+fSfZ+Ska/6yb+rok2flZ5nKzSFOQTiexIlHm5+cpFYuUSiXiiUSg2gsJ2ew0yWSCTLqaQj5HLpdHuYJIJI5lxsnn55nLZolETTLVCcbHJ3nm6ZdwHUU61UhXT7uOmRQ6/lME0G9h7Wdhb6/Tu3191RIXPkyHFly6NMZnn53irq33MjR0B1VVVVRn6ujtGeSNN9/i0MFjnD9/lrb2Nrq7e9n/6XF+sf8gLY39gIXrSOKxDKOX5vnJMzupr8vQ1d3F8eNHmJ4uMDS0jpdffJdYpJHOtjW8/84+Ll4c4amnnsIykkQsh2gkhSEjqKBDYrFk+Otndrq5JBSGCfc/uJWW1gYcR2JIg1SqilWrBmlpqaexJYIRfZxz5y8SsSIMbVhPVcbBMAp84/Gt9A3U0D/QT6bOYUVVPb/1Ow9z7NhRiqUivT19dPVmiCZ6iCV+j5Wrm4lEO2lsi3L6zFmkMFjRv5L+3gHOXThJJm2xclU7LS313H/fBu7avoGqqgQKNxQgzVUW9cJwkl9X8p0hvp8hwnzWwS4anD1zmTffepO5bBYhFCXbZvPmTSjl8s5bHzOfn2LL5n0M9K/ghRdfYL6YxzRN1qxbw8qVg+zevZtDhw4Sj8VYuXIlo2NjTE9PE0/EGB8fobO9jYcf/hoH9x9mz569xONxVq9eg2lEOHDgMMWCjWGaPPS1+5memeXVlz8hHjcZHNxPU3MTySoLhOP3AM0kr8/05tPVqyUut1aEu8w6KiMAgUupVETheiE5UudTS43kk88XKRZKKFdSKsL8vEN9fS1t7a3U1Z3izjvvYWYqSy6rWLFtI9/85jf5t3/7V86fOU97a458Dhxbi/qlkqBQsGlqamVgYICJ8XHWrl1LPJ5EUKiMgwpi6sAPZQrvmgD9R3iGoq/2yzKkJQ3TEqxZO8jKlYM4to5PlGYew3SRMkttzOS++zdg20PaVmlZGIYNwqGvr56u7gymYSLFPKYJQxu6Wb2mDddVRCMxrIhJVbKNnu4WLMtEATU1G7lzyxAgMY0oOAY1NUn6B5p44P7NrFk3SDxmEYtZSFnUUoWvUF5Rm6i0sZcrQN4iyVL9skKArk6uKJdECBontHNGOQLTiIHSavbY6BwfvPsLamvrWL9+JR/sfo/5uQL33HsXqXQVVakY1ekGnvvpi+zc+Q6PPfEEZ8+d44Xn3qCQM/l4zzGOHDnGQw89SCJRx+4PdpHL5fiNb3+L6al5nn9+F6lkA2dOX2T37sM8+o0HUI7Fa7veZnYmz8aNW/hw9x4uXfwZ33zyCaoz9VSlIrS2tmAakrIlORxDe2N0RUky8BJVMIlQjJnwLy6TEIpSqURbWws9PV28+967rFy1iu133c3+/QfZu3cvXZ0dtLd3curUabLZec5fGGZ0bAy7VEQaYFngOCXyuTwlp0ipZJPNzjM/n6NQKBCJxIhEYiglmJiY5OLwMJMT4yjlEotGMS0Dx7WxS15he1kuE7GYFrSfcnK/8Pv7FV2BdNB3JBIHK4JTQodYGDaIvKeKSKJRi1hc2zDBDn4tpI5x1WEcDgJB1JBEozFcFw9Z3kZael344SGGKYh6aqByHWzbZvPmVbS1Z+ju7qA6Y3ihHrr8cFh8vCojCkGlVf7y1tIXQcF3IXB8+PB3oKVJ1wEwKZUEdklhGBbr12/gwQfv4dy588zNz1Bb20hNdQ2WZdLZ0cMPf/QTZqZzzEzNYcgIUljMzxVxHIf+/n4eeeTrWBFd+qOvp5/HH32S5sZ23np9D2fPXqZYhNqaJu659z6Uoxgfn8YuCcZGJ4jHklhWlJpMLd3dnUijRH9fj3eQ2npNBfgLN55mevVg8kWflmOSyhKY3wBHB4tLQUtbA9/+9pP83d/9E//4z3/Dq6/+lLHxKSKRGL/xm7/NwIpejh7fzwcffMDI5bMMXxyhti6DNAp0dNdTtKd4/mf/xuCKdZTsAu++t4vPTv2CbHaWr33tfnp6W2loSPHTn/6IEycOcP7iaVpbW7GiiqpUlCNHD7DrjZ3UNX2N+oakFyAbXoYhTi88PLqv6IZISAGuiSCKaQpsO49wTZARgvUh/Jo5GoG+rAZppqdnw4e1MnBcFyEML9Kg5AHols9sP04WIRGGxBDQ0pamuTWtbVCi5NnSAA9DUP/gWuZ5YcTGrxf5JjZd2VDnx0tDYdtFXNdBUcIwNC5CNCqwIiZSGpSKDsoRSAkzM9Nks3lMI04slqCuro5YPElvTz89PT18snc3kWiMqlRChwSJBKfPDHPo0DEOHDiAaUkaG+q5ePEysViETCZDbi5PxDIxDUljUy2mCStXDRJLCPKFWVw3x+WxC9TWx4iYGkVIO2srNcXrpesoKVte1r4e7if9hQvVC6njGKWC7fcM0dr+v/HJJ3sZHR2jrqGWoaF19PX3YhgGv/PdhxlYWUc0GqW2thbTkLR3JUnXbMC0fhfTjKFsSW1dnFVr2hhY0UdXVxtr164lnU6RrvkDPv10L3W1tTz1nXtJJpN096V5MrOD5laL5qY6IjG8WClPe6ac+ubTIhOlt0p+PbfI9ZNdEhU887oAACAASURBVJw6cYbDB09RKtlEogbdvY30D/QgJMzOThKNWqTSCQzpH6rhOEv0/14iQbFYYnJqhlg0RiqV9ConVkp2Zderxi0VAWCFF0AMHuiFV0o0qAAY1hL8v4SnEflBxpWH5q8Nu1ThmBUPAUkJDR5hKKLxEv0rGmhpqcGKzdPdl6Gh2cKM5GhqTZKqllTXVNHV08auXa/z2s4XeOBrW5mYusDbb7+GaRlsv/duUhlJa1s9lmVhWQaFgo6FPnb0BH/9//01k1OjbN68kc2bN7F7z/sUSimkUaCrq40HvnYfP33uZ7z66ktEoiYbNvfR0pait6+NN97Yya5dr9LSVktTol6zqQoTxo2F9F0TkwyxRyBclKf8wHKMl1d5TxpEYoIVg90MrOj11F4bIf3gzhIdHQ20tD6MFNIr9qUDU1OpRn73d7+FXXLY+8lxurtq2bZ1A1//xsNEorpIPbisWtXDioF2HRvlxWMhoCrZSGfH4yBdhIcMUg4n8AuGlU2OLLAF/f/svdefHdd17/ndu6pO7j6dc0IDjZxBJELMWZkiJV8ly5LtuTN3HmaeZuY/mPs6d+Z6HO7I+tiWLV/LsqhAkZIo5gAGgCByjg10Nzqnk6r2noddVafO6W4ABAGKoLU+bKJPnwo7rr3Wb6XQESMQ1T8JetAnlIQQXLxwib/4i3/ggwNH6ezoJJfP0d7exJ989+vYjs2LL/6OdevWcPeencRiNqZGiYdlOWjt4HkeWoFlm3RnRw4f5bVXX2PDxg1s376NWMzG9YrgY9u2n2uw5LphiQCBX2dbC5SniMXiCCkpFjwQmlhc+FZO31lZgMl5E2gYgZSpIhpSFKa5TWwycAESfsXA37efZLBP0FhC+oUDNWiPxsYMf/7nXyNbV08mnaG/v5FstpF0JstTT38ez/Nobmrm641fZNfu9TQ2NrKsfxmrV3dw5coVEuk43b3dNDTW09L6WWwrRrY2weDgJLY9xyOP7OQrT34F183Tu6yL1uZGmltjuO5OWlrqiMcET3x2D6vXdjE5OUF9fR0rV/aTSFr88Z98iV2fWUVdfQ2ZmiSmzo4hLRQiNNp8+PpF12WSQXBfwBy178MUVDssF5H3PwcJLoRE4PllQC3fBce44eiAOQG2ZYW+a0J4aGHwKlPXRjKwup0/+x+/RlNTA/GEi7BMPLbB02XoA6e0HzfuZyWWUobem9rPFBMwwuDdgXAROKr9wTvoZkhw4cIg773zAT1d/Xz16T9ibHyUw0fe5/z5ywxdGeXnP32N6QloaVrO8NUrzM3NApoVK5YzNTXF0JUhPM+jpaWd1pZ23nztBD9/5i3mZhJ0daxndnaUE6eOYltQU1PL5s2bsS2LQ4ePMzJylWQyiVvyaG9vx3ZsLl0aZPOmjTQ01nHgwEEmJoe4e89OarNpk2NUVpfmCBilV/X53zEJc4AEkW5CKGIxi7XrlhN4m9fVd6GRKO3R2V0HgKeKdGYydHRv9CX+ImvXd7JmXQdKej48WCCZzvjO6vM4iXk6ezMs62tn644BbNsIN1LkaEsmkTKOpojWLo2tDk2tK01BOKFN2LUs0NqRprltC7btmINtQbanwAXow8NqNyhJGsXa84ylyy2WXQNsJ27CDLVGCC8MjteqXNhHCFUR6VCulOZbofyJkFKgMZKiRqOUJlubpWFDs3Hh8DMpK3wsVpWz/Ji6NwrtmSSsYQiikCE31AiTeEP6dS780EWtwPposMW/W9Ia2ts72LlrJyePXeS5516gqamRlQMbaGps5+Txy8zPeYyNznL61CV+9uxzXB66wo7t20Bk2P/+fq4Oj1IoFCgUXe675z5Gx4vM5yzGJoq8+95JnvvVcyA8GpqynDt3hq98OUemtpZ//tGPaG1tpSaTYf/+99mxfTsrBpbz7LPPcfnyNA8+8AA/+P6/0tVTy/btOxA4CFH0cVH4w4RHaRHpSpRLv0I5X2PZJuFLZ8qKhB/6GcwlfmgxCGmhtRca3QSeCZrTphJiW3s9f/LdbxBzUli2a6osYkp1WJYx6Bnrv/S1BrAMaoqQHhoDBxhGYDSHsgZQrh+/WPKKa/bfJxuIqM+L3SsICukIFCPDI7y/76gvOdrU1tZRk8nQ1t5AfWMGS1M2kvj3CoLi42XVplKyCxR6X+0VEq18s7028ZyBoiRDCcA/FbTA0yp01TDM3DPjJYU/EabIkAmtEmFJSxXGdC4R3xlgXAuGJ/DZCH7/tGw2UfHP9SgIW6vNZnnk4YdZtWKUwcHLHD9+nAMHDpDNPs2KFSvo7+9j67YttHV0MDk9zco1q3j6a18jHnO4MjKC7SS5PHiZ85dOU0LR199Lb38XG7dsolBy+eDQcbZs2UJjYzfHjl/g2PGLCCm5Oprna197nPq6Wk6fPs/M7BzLlw/Q2Pgeb775DvFYhrNnhnnk0fvJ1jYjtALtFy8zPViiZ9EEF7dZ/Y0sr9+n/CoqolIoL+sIHiwCl6DQ7QW0EpRKMDOVo1TKk6lJEU84KOUxOTmFVoq6+npiMYGUNiJgeGCkUGzijs3yZctRSjI9PYNSebJ1NQhpmf0bhiRJ5uYKzM/NkE7XkExaoYBkEuJUdKgMoelyDyop4DvXnmN7qUVQlvnKzA4tOHzoFP/Pf/l7+vqWUVtbQ8l1yc3nuO+BnTz+uXuJx2xKpQIgiMXiWJaF67rk83mjAmtNLOYgpY1SHkoplHZx3SKxmE087iAkFEsuhZwHQuLYMWzbXO+6JYSUKM+0zonFkRJcz6VUck2xcylJxOMIDa5bolgoIYRFImmk3mLBpVAooLRJjpFIxrBsSTSNezgGIXxghjO0kt5MBpBPLOmq35bq28JtrJTm9KlTvPC7V9lx1wNs2rSJ2toafvaLZ7hw4RIrV65GSkmxWMJTxqjT0dFKe1c7F86d59139xFPJEmk0yCg5BWwE7VgCYpuDiEkdkKgpYt0BF09XfT093JlcBiNYHJqBimh5Lp4WtHQ1MiWbVv4u7/7IT/5yU+pq69j3boNOE4SxTxSS4QuayAVPdfKYOaR+a3E328TCwvOXPH7Y5OLvzXou4/jhUKDaafWAq1gZGicl154h8HLV9izZyebt2zk0sWLPPf88xQKBZ566kn6lnVgWaY+O7KMCxoOYyNwyM3nefl3r1EqFXn00ceoq6v19UYXKYwme/zoQfbvO8jdd+9gYFWHnzMAon6QQkQFHj8DQzRCpmrm0T5cuMSyt8u6emTANH5pSRWwSd/h1WF8bJ6L58d48P7Ps37DWk6dPsmvnv0lHxw4yfYd2xgevsSJk8fxXJcVKwbYtHEzV4au8Oabe42qrDWrV69mxYoBzp+/wPDwMK5bZOTqCJ2d7ezavYN4zOHtt/dx/NhJtIZly/rZuHEjuVyeffveBxTzc/NYVoxdu3fT0tLEW2+9w9mzZ5FS0NjYxPbt23Ech8OHj3D2zFli8TibN2+mv38ZHxw4yOHDh1Dao7a2hu3bt7J8eR+2lGi8iAOxcVcJMmB/GlJoVZya1bAN+H2vrGdScVXF4WBWRzweY2x8hJ/97Cf09S1jdHSUzs4Wli/vo7YmjRMTHD12iJr6BE1NGWprYji2x/zcOFeuXKC5uYVEvIlUysKWLpl0DNtSHDm8n82bN7F2bR+eN8vY6CUEefr62ujubOPEsSO8+sqLZOvSXB0dobevk1jM4a67tvGLn/+K/e8e5j/+x+/Q09Np8G78zOThmi5bPQWeiUH3YyS0ViA8kyBYBJDTpxmrDCQDjTFeBfNcbduPMiOzToauXOU3v36dAweOI1Sanq41vPXGIX74d79CSsHuHQ/R3bmC2fws+UIOKT2SqTipdBItBPPzBfLzOcbHp3j2ly9iWzHu3vUYjiWZnZ3D80qkUkni8QSnT4zy61+9RWdHF/0r2nCqpqPSaVxX/V6lHURqGV1rXiOSpCj/P8jgG4YC+KeqAkvauK7HyVMnKRTzTExMks3W09XRx4mjl3n22V9SKBSwbYs3Xz+C+kYNJ04c5x//6d/YuGEd8UQSXaqhLtPHK787yHvvvUf/8j5GR0d5Yfxd4nYrUsD3v/8MDQ11SMti37unGbw4R21NHT/6p1/T3NxAXX0NH3xwlJkpi3s+8xn+/m9/SS43z/Lly7kQm6W5YRXTU1P88pcvkEwlmZ+b58gHg3zpy1/mx//91xw/eYytWzfjeaPUZdvo7enHsg2OEpr5olk+BGaTLTmUdw4FS6UawhYCPNc4DRt8OHryQllviawZIVizdhX/03/6Ez44cIx8Pk93Xz89PfeyectGisUSn//ifczMzdDZXcOXvnwfDfVZ0okca1a38Sff+SIT45PUZrPs2rmCFSuWUd/QiPLuZ35+hvXre1i27MscP3qC+VyO7u61rFnVwsT4LL29deTzLpmMQyrpkEzEcEtFlFcimXBoaa1nz71bSddIhCwhg7KiARQfTqYGXDQltJaA7R8WGi20j4R/mhkkQODF4TNIUc1gIGAmhg/JkH+6rsJ1XdxSkTNnznLu3EUOHz4RehoU8orz54b57QvPMzY2jNaKjs4O7rv/fuKJOL994bdcHrwMSA68f4JlfX3MzuR547XnOX7iBLGYQ2trC7t376aYF8xMF3BL2i9Ap6uaWL1mIx91YP8ILvbF0Ig3w2JkB2E70Q0hfNeI8m3BbxLbjqN9NfbEiRMcP3aW+x/Yze7du3jv3f0cPXyejs42amtTnDpxlrNnLmNbGZTrMDI0R3d3E1LUUszb5HOCdKqBez7zKLMzs/zlX/4lhw6cYXpmkqHBHH/6vf9EPJ7gn3/0zxx8/yQDK1eiPIuNG7azZs0qjh25yNHDp9m98z7isVquXB5jfs4jk85QyHmcOnmRUycvs2rVCvI5zcULp7hr21UgyfRkiamJIqlUCkvUgLJBF/wOC/OvCjBNk4UkwDfNwEb08juEdOQHqDoezR+0FrieQNhmFchFgdrIH7UmmYyzcdNqVgz0UCoWsRyLRDxOPBFHeYqHH92J67o4cTtUhRxH0diY5rFHP0OxWCIWj2NZEsexkVLS1LAT13NJJpMIAevW9FMquaTSKWw7xtTkGJ47y6WLgySSSVpa6tm4YQ0zM2M8+8vnuHLlIl/64gOsXt2BkMWIKusXLdMRmVq4Zso9G3CAGGD7qff8galImbZg5D4aBRB+NS74sVLkIAzdZJaIVAmhPmnsB1qQTifpW9bJ5NQ4+/fvY2hoiIGBZVy5chlPKd55+z1efeUNtm3bSrFY5KXfvUOp4JDOJPnNr15iw4b1tLS0YAkbx7I5ffIsz/zbL2hsaqSjo5W9b+4llcjgFl0sYSGEjRC2ny/WnxcR7Ue0uREbgsYwSi0inbn2PNqLGh50uUQooTnFxLx6XgknZvHYY49QV1/H//fXf8flS6OMDI9TKCiUZ5NK1dDS0sK6tdDd3UMymeSBBx6kVPQ4d+4iw0Oj1NbWoXxLc7Y2a0o9KGNguTpyFeUJkskU2WwdhWIJ5Rn8MplM0t7RTk9vH7XZGvL5HPFEjD17dtHe0crU5BT79+8zheyxsCyLbLaWpqZGWltbaGlpYsvmzaRTKUpuiUMHDyElbN7cT0sigbQji0LbZoiwEDhoHTgllw1Td550UQlmi8iG91wNwgbhmIUXgN9icaagfQ99Adi2oDabBlLRK7BsQU1NinLAgQ6FUSkEtbW1eJ5xvTHZ5807rHSaIAJACIjVxcKchVoJujo7+NKXvsCJ46cRUtLb28e6teuYz80xMNBLd/fX2LNnB7W16XCJi3ATmd0S5hjQEnTMx9/j5sBURbSyEbocLWQUrFvMxEQle7rdLFJTGXK51FVldTtglNXYjAi/18rkkO3rW8bVq1d5+eVXEQJWrVrF2NgYytMMDl4mHk/zxBOfJ58rcPLEBY4eOUk8YTM/V2Drlu0MDAzwwm9fRmiLocsjXDh/hZpMllLRIz9fZGJ8CoGFFBZamQPPeMiqsqvSQgApMsaL9XsxsaGS7AULH4ESQaFJsNCYQjngqQJKz5Otg8bmOLt3bWZ6+ir/+MN/4bnnn2Xjxk109bQwPj7K3NyUKQmbiDM4eIlTp47T3d2NE9PkczOU3DyuV+LkqZP84Ad/y8zMFHX1KTZvWcuqNT2cOXec//bf/oJUKsPVq5d4/PFHqanNEEu4OHEPT88hZJ5UOsnU9BDHT77PzMws8XgcT88RT0B7eysHD0nOnjuJJS06OjuJxS3OnDvJ5csX6OntQVgltMih8cwm1P4JGYbIORhXB1H1c4dTBXZt+lQqKcZHZ6ivq0XIeYTwTFnYJSQnrQ3GDEGdaz+zvFImOEBKP1u8Lkty2uQHlNJwLeUZFw4RFJTzr/U8D601TswJNSWlNSiTFVtrQW9PH12dPQghsCwbpV1iMYft27ehPEUinmDs6gyLga8LEh5of76Vh1uCq8Nz5OaDGPMyQ72mJ8gnngKGENR+in4V4dYVMIuZfRW678nQVhHuBf/wqMvWUyoqXn3lLbZsXcvAwADvvfcuxWIey7KYGJ/g7JmzuJ7H9PQEnZ1tpNJJikWXK1eGsewYg4ND9PZ0kUgm0Ghsx6Kjo5NEPMG6deu4ePESGjcSplqtXi/CJCsWuygPg/B8LSKwOyxOITijla5YS9o3/ZtT3zzAsjXLB9r40tP30LMsQzyd54GHN+Mk8oyMjLF5Wy8t7Q/z5ptvMjc3x47tm1i3sZPe/jqmZi9w4sQJuvoy7Nr5MAMDvZy98D6NLZJUTZHGlnr23PMEm7b1Ek9YxFLf5vXX3mR6epZv/cnn2b3rLsbGxyiqLfT2Z6hvUjzxhZ1YlkX/yjq+9NS9PP/880xOjvLIE9t46KH7qK9vIFsPb775Dolkkns+s421G9oRzk6ef26SmdlL7Ll3HY88/CCNjWmsMJNSZUy6qR0d1H++kzdJVHIkxGm0VsRjSRBx9r59gCOHjlIozTA9NRExbiz5QAC0Uihl1oltm2UVuF0ZVyzhBxhYJopDm/T+aIEUEo1CKY1SilKphG1bxOOJkGkGyVMD5qaUQloSKaR5byCoCo3nemE7AoZ7TdKAkEhhg7ZxXSgWPc6fHyadMU7Sxg3tzjbaQeX8G/YhfSFI+RZg/wt8J2IRhSXMl1qH5lwQHqm0prUtQVtbDV09WUYnzrJzz1pa2uJ09tTS2OzQ0LySQ8fe4Pt/939h2zZtnc08/NgOsnVZxqfO8/Nn/5Hm5macRJ6O7loGVrWwe88qjp84zNjkWZqbm7k3voVsPbR3psnWJXxPhMp9ufAMqzTWmFLXpjpiaHIQHtcyyNpg3DiUX7w9cB71y/r4L/aZpCXYsm0N6zctx7ZtpMjR2Jzgc1+4H88F23FYv2kZDz+6G89zsW0by3Koq2/gO9/9D3iui/DDykaGh0mmFKvXdPONb3ydvmW9CKGwHYGQigce2s69920z0kSAU7WmGFjViWVZSCn56h99zrRVQGPzerbetQrP83BsB8eJI4TNF770CI9/9n6klDiOg5SSHTvXsnXbSkqui5QCx7FMJIYw6p1CoXzJxtSP9kAXkCKGFOqO3SzBeSr9ozTQPjVQ39TIl7/8NDNTwyjlceTIEc6eftvfOGUIQi7AYX3JxNR3rfrO/xwA41VJRDSBE7IXSiaTkzMMDg7S1NREW3s7xUIB25+3SikheJaqkh0EQjjhJyPpXifKwnBXE8qmFRqJFoLWth7SmRpQmLIUSvma6i3UJgLNVgd1Ym6XlhJyBMDUzUZ5SNvAXBXx7Qh/LjVBxEXZ2Gf8HL3AWiEEywfa+eZ3vkAymcS2HD5z/1qam5soFPMsW/GntLS0kU5n6Oz5Xzl39hxKKVasWEFnZydOLEZz659z/NhREokE2bo6EvEEbe1t/C9df8rp06eZz83T09NDX18fMzNNdPd+h/b2Tmxh2ieuWdHUB5V04ExeaWkxoHvgtbKkuk3YWSGkX6Qr8BvyC/No4YujAolN3LHKWA4S27JMxArS4D6WhdaO3xDTqLjjoG3bB4Yk9XUNPPHEExSLRbq6uonZcZQuIQRYUoKwsawy90eYyotREjLyWYAd899peg8IHNsJJQoRuU84klgs7o9j9CQxL1NKoZWL6xYw0UTGHaicTebOJVHh9wZoTSKRoLurF9nTg/Y0npvi/NkZPFf5kgMIKXyLYnQja7R0/ecu/UYdMttKo4+qyNeosWMTzMw6ZOubaWrqNt9IEc6f1lWo4ILPVW+OWp7CTVJNRiISoauXaat5lzAp9zwPQaQI1R1LZp97HiglECKGVhZlFye//8KPdKnI6h1JpRacrkhqajJkMjWAmZ/WtkYAPx+DmXPP1fT19dDf32taIcweU6pEZ2cbXV3tSCnxPJP2zrZtMukknZ1tZkf61yeTTbS0NqK1MmvH80JNt9zFKqOMtox9Qfv1toWJ49e4oCy0q0EZAWmx5WEHi0r4EKjnuczNzXH16hSFuThSayxkyCTDpwRAER4m3VX56WGWnahm51dXUwosaSyMDfWdABTygtx8DqU9E+MtjXSgwtBCUcHkyg24HlW2KbrCg5CpIMuF8YszP57Aj+IpMjkxD9oxUoYog7xBzPqngoKFg01QhdISSeqyTShPVVwjqxJ+GLxKo4W45tGx6EhpHaroge5S8DyseJxEOkO6LmtWnJB+XkmDYy7gewsfHHlvxE2EYBNUY6yGEZiwOf8b3+lcYAIV4rE4iURiqZ7cMRSkmFOe/6MCZmkjAuxdKNCmfCuhb2nkGVXPDOAQIUS4xYI8D+VkMlY5VDCMvjNJbQIJz/PM3y3pEEp7/pSZ6DgrnD4hjJuW8mR5RiKCcBkqDDSYsm1BSoUWyqxtLSu1oEUWlE0ImJsW2ZbD4KUhnvm3XyOVwC24Ro+vZpLXoihOGhlIgkaX67IB+BslqFJoMgG5bgnX9YjFYqYeb8DIKhjftdlUtAnVQL2OMGDzOZCujDrtoVFKMnZ1nvm5EsrzJetbqWr9nihw9yqztbJxxlTGk3R1d3NfLOZLceZq88/CvqsFuToXe6cOMUPzBx/z1soPbzRXnT93DiE1AytXsm7dWhzbNpK/CFoQ7oLy70IseG54SShkRO+r/hzou+VnhOeh0iEM1dDQiOM43BYSi+7PW0v+C5TW2FacYlFx8dIQhXzaVDbUZeYEypcmy7BM9XPMrzqiEUQ8BoI58KXNUDoPzlwRMdRVrZ+oK1SYtSvIdRhcKYIM84ERynBTUT3NEGq8oV+k8ACX2dkCV6+OhR4ryjcyhsUI/GfZIozNVFi2zcaNd5FKpyjMzzMydJWjh44wOjpK4AIU0BJjtiSVi3AJf0eIcJADhqWUMo2ybIaHhxkbG6Wnt5dMJmNcgCLAfXUbqima4/JDkTAAvdIKz9NYMkFLSxdOLIlW2lRf1FHsaLFZ+QSTD3eIEMszcyJF+eBACBqa6qhrqAUCx/LKQ8XgVf6BJ/CdsJeigGnp8udg/v3NpbQv3WuPy4MX6e/rYfXKAZMWzZdgy2u16tkVc0HV56UY42L3VoqoIoJlhpKSlNxSDUJQKX3dNlYZ2XtaU1/fSE22gX3vHiNmS+bnZpicmDJVCk1rwjEIEksETK8a8vDt3yC8kMks+n4//E9IIxHm8nnckksqlSR4eLUwE4QyG/ev8jVhnsjruDPpoG0R4SZwFyqVFGPjM9hOrckeFFkLQVCJwHcBklIaU4WQdLb30tHejXLh/NkLlIoJnPj5ELMMuxwcuv4AXE+OoGKgFwFahe8ugvGk16KW+bxNW8cqajKZUC0LJT8im7rqVX6TIkzgQ1CYczDg5dJI4kJQdBWO6/knDgjhM4o7iUeGB3JZsjeLzfKthf51yLIxa9EHEd5/fQ2jLAVUM7mAuUql8fB8Dx+JbdlY0orkGhWVDPq2UCUTFp/CbPXGXcqipaWVL37uq8zOzeAWSxw7dpTLgwcolUrlfRVguNcxKJl58bXBQCqPUvg4ETJdz1MMD48xOztLV1cXyWQixB3N+WtukoEkWXWILaXVLCS/PZGpNXzGrLNMpoZkMlO2W0Tj5wNJ0nBmP4OGwOBSCDzASaTINjTSXDAJK0RFtbEys7qRNStEWT1e6nIdAfLnCy7JsXEam1vJ1NRE+hmec4u/5zZwLC2ML5/yNOlUingiEb7tjqSKaAPzb4DPVoES13+WWPDL0hct0NsgNLwIX+fWZp0ZDMsybjlhGz+O8fYPcB9++jSS1pp4LE7/sjUopSmWiuRycPHiGK7rhoreUr2/1jxcU3CJ3O8pxcxciZJrU9fQQTqdJpBeb25bXeeQrm6jJpKD1ucroup6/7NdZrFlNThgQ3V1tWzcuIEVA8vNwo3oBh/GpzasNRLulUr8IVCNoyrysePH8DyPnbt20dTUhMkHF7WGfnxUdoXSxByH9tb2CpD6zqQbafwt7uASalg5PD4SDBuoesgFa/f20sc8qbq8l26nA9CCl4JJXSYUMWLU1zfQ09NbNqRFF3eVJLQA31/wofyXaj4RhRaKpRJSWrS3d5DNZkNBauFhfYN0rQ25gGGJCO8xkqVt2TQ2NuI4sdCjwpckRcWNQQeEgEwmRSq1LPLQ4IUQZC6+scZHG1s5yFHGGPwuhGBufo4zp88wsGKAtra28uCiQ7+y3xdZQvoO0jqywP9AN0Ph4anLOFM53cDCFBsfU4s+fqqGQW4jVUNnlmXTt2wZjY2NfvGvsjhXoWHchFSg1eIbtVQyeRPOX7jArl27aG9vC12GQuz5Ng1FkMu2zLDDb0gmk75Ua8jHJBdSOYmlhWX5jFNVMuNFUtQuSdVGnxshU5vZwomZfxFlR+YAo/h9RYiJQPW/s0XJTyiVM9r/gW4xBZqc8E1SQoSx6TWZDOlUOryuYmkvCsXcGC06jxryuRx1dXVMT0/T1tZKZ2eXkd5C6OcmXvYhSQRac4RJhrBORO1fHGBbpwAAIABJREFUsnxDNVMzVr2qV9xgRxYO1LXEYvOPlNLUuVnE/GJcG0UYvxn9+22nUIoNh/gP9BEoeoprZVJuoYOiXkHC449p13yKqXJviIgXnj+2QvgBISyOR97s8FfbcIL9bVlIPw5YSGOckzLq7H2T77uZ5l1nG1dE3IB1jUur6TZ3JFBjBUhr4YsWU00+joGNGM/RizDwP9CHI40y0Q5+sKSJybZwHCd0/ZD+pv60Cu4Bn7ot1RKXGLPryoW3YayN91EZXguMdmF8f5RBfkxzvahfZRXZcG1r1S1pyId4fNn7oOw/+UnaHJUGqD/QRyI/Y5BWpjyG9hNcxBzHlIRd4PbzKRzx31eXPq73RqevihaaUn4PxtAbeN8NVUv8fZOuwAzK9PG4hPw7ogWrNvAx851xb8gn8loPV+WjW0fMMkLgei5z8/Pkcjny+Ty53Dz5fJ5kKmVSQAtJmJnmlu/wxZ6nQ1jFqA1LmGk/dVRhneXWjvWdCU99opik1hrPMym3PNd475dcF9d1TcSFX64WAuPSQg/9m3jrouDyp5UB60U+GXRVV14Q4lIBs7gBUeBaFDDcqPHPH3jP87h48SKvvPwy+9/fz9DQEMeOHWHHju3s2bOHtrY20FZ5v96IjnQjFGQICn01CXAU/3v/XUH/w7G5ha46umLIf48U7bSuHIdb0LLy+grWXJQF6/BH60/e3vvEMEmTT1UzMnKVc+fOceLkCc5fOM/BgweZGO+ip6eHdCbpH+CBFerDYKjXfHvVv59uQ4HWpjIF+Pi9zwiUiQ2MOP1Xxtj7d0M1Qw2uWnJxR6SyRb6TUuOWirzx5ms8++yvmJubpb6+nnQmyc5dO8LbyjG91SbEmyODj3kYPNT0OEy3ocKXmuQmmkho5C2mgC9dJ7LltpMoM6vIH1kw0TdJYeYeTOivycQTFN4zeKxWOoywunX0Ydtf+e5PDJMEs3kvXrrIX/31X3H69GkGBwc5feoUjzzyKN/4xtdJp5N+QDzcXib26WWQUGaQCP+E17riRDfMSIG2r+mKs8B29qEiDMrXS2nT3NLKxo2beP31N5iYmKCjvYMdO3bS0NBk2qzKQQTlg/KjUZAKzWQA8hMt+PzcpIfT/nVBUt/FslHdqbSI/FotOQpzaH50EiDKaeZc16OQz5MvFCgWiub3fA7HiQFmPVCRvelW0I08K6pKlMclwiQXe8jSy6E6/Oj6nP9ajfStxELT3NxMMplk//79uKUSiUSCxqZGksmUWdBag5JIqzqv4c3SYj6c1adpuY2fCgrWQChAKzzlhloW2pRSxbuOtK4r99V1l2EEWzbRDIHzrSCTzvCZPfdwYP8HoAQPPPAQWzZtIZlIGqkuOvxV7iw3u5XKMcEaQcn/VyK0SeWrAh8GIW+fFPl7ocWkxUWwBh3g0Yvd/2HGwiwOkzTGY3hoiHfffZe9e/cyOjZGyS2xatVKduzYTm1tLYTp+G4Vk6x+zlLPFeBnao9SWFK2XGu6WuVcfDA+fK2PALiHiuwqYfvMSdPV1cmTTz7Jq6+8yqXBQXbu3Mmeu/eQTPlSpH+v0v72qGiGuDleFu2LqF5AED3VPg1yhAwYms8UlecxNzdNIZ9DCIXWJUAhdAohnCV7HOBMCq477oEDfnAn4Pu7GhxKaU02m2LHjs1YlsemTWtRqsD42JDJ2C3Kc/th5uBa9pZKd5sgf6LZKEpLhGWTSKaJx5P+eN0KDHwJElGmfQtpweMM4wuzOvmYrNk71ftdVg3gUp4Guuq7Ra7V2gSkKM3Y2Di//OWzvPjii+RyOfa+tZcnv/IkG9ZvIJPJhBExNy2YLGpkqPw+SMQRvOdauLAdqFdKuf6C9fxuBRw1clvFCqs+YZbuUJglJKx5G90uPlPSmPdpwaaNG3j00Ud44403eOyRR+hob0NobbJDBxvFq/Kn0qajN7+GA+YYMPKgT+bHlA+Qxl+vuu7LHcY3BWbBBir2zMw0b+99neHhiwhRQsgiWhdBJxEVkauLY4pKQPWQBIKI1hopBJYoR2ZXk/KdxpVSzM2P0dae5OrVk7z08rC/d68RsRXubxFmd1nwfdB6wTUWiALtYZIOW5RcgeUkWL9hK2vXbAAZFIO7xSTKTbpdidIqvEOEAmVwQLNfpI+HSoKAUF1xk6jaD1Bd96gizHjBQjDSaZBkV0qbltY2+pev4MUXX2J8YoKW1lbWr1tPTW3W5zviWiVnrt/f8okTNDCSzEqj/Zo+ITNe0GRdvl8IwySVUniei6c8Ll85z8mTx9GeAlXJJJeWKCqHpBzrGTQqYD5R7u1LIdqvGaNN1K6nTKq0bFbQ3ZUlnxvh1VefLUuukQPKhDFF3vxRYtlC8V777fd3vrBpbGxm3bqNOLEEQluhNBv0cdGB/oSTgQQN5jQ9OcX+fe+RTCt6e1uJJTTg+eDl9TomfIxTh5nkDfnF4/0YYaFZpIY3ZWYKgEVTSwuClrDWkrrOnAY5BRdlkHDDkp/QAq0lQltoEWNyusCpM8dIplKsWb0WhGNWRyjN3mEUQiy+UBQKHYZLS1lOJlJOlebXKBeVkMYiuSKW/i7yerSJpGtsaODee+9l3759uJ7Hgw8+xF3bd5BMJsMM9GqJmO8b7m6EyVcGnpgStEph0vRpjUn0Xe5nxdzqoBCYNmU684Ucb+19g3373qCvtxPHT465yFhUnci64uCRInI8oiiXPqh+TuTkDObFV2kaGxU7dvVT8q5waXDIbBZd+drKDRDFUz46Gf4hmZ0pUioImhob6ezuN+/wpejwJLburE2jIwclWlMqlSgU51mzoZ89d28gFs+hxTxCJxE3GIWlIWSWwTQEGzAwDImKdaEr/9HB5GqCpK43qlZr//lyQehslUCiF0pqAQwgNH50j41HnOGRGcbGR5ifm8J1SyBshLARlnXHuUgGocjmd4GnwC25CAGFQg7bsX24zcOUVwWBhVAWpuyBqMTpqgegSmpbirTSpiyKUvT39fLAvfeSiDk89MD91NfV4pVKuCgfA775Qa6UhDVaqIgW4UuqkXVtWcIvKyMXbb4NpuaMUsZfbXJqjJbWBh55bDepxNLxydEsIlDNQAOsKYp3lsXXa3U/UK3MnilXklHRjVbuvi+JVPk6+oLdQiniOgPvwwEicAnRFhfPjfGrZ19jYmyMzu7lkY17h4oUuuK8QqMRWmPbFsm4TTotsR3QWJjCVwvO1qUeSxAQvAgrQiDKdWoIyrP6h015aQCUD8RAUwid2MvPM/fp8v1CmPpIEY3AqFU6bFdY2qGKgtzCHhrhq2GJpEDpIhcvnOP9/fuIxdO0tLbT1tpO3IndunkPDizNbXYBCsbE/xXB6dOnOHT4AE7ML/gnXRAlhAgMWEayrii5EiSaXvIdUSlGh3OnlcKyLDxVtn1oPUFnR4bh4RO88vIoMSduqjiyeM2cKN2ohqAx9WzKTbaNBKkEWlvU1tSzadMmstmG4MkLVGPbSEyGkwoEUiiSKZvmlhTptLHxLUbVCasXa3P5zvLgaSpP/qgEGDBWy0/Z7gUuIhUnYaT15qaKt0RfF8VRKg0HETcY/3rpnzhaKLSSaC1RXoy52Vo0LqOj45w5cwbHidFQ10Amk0H6kvadxCfNaIuQVQWtl0IjA5cP7VcGhBtmksEsBjiPKQKlMAkqAClQypzUQhhpIlrG02ReEWWoQ2h/7QlMWj5/jQD4BaZM8IFnspdbENTLMQ80lvOKkg+LdCNcx8KPHhcKPBeBRyE3z9EjF9AqRTJdy+bN22iobzBM8jbQbWOPOmAywVhb5PMz/Pa3v+bkqWOsXrPcJLcQLogiCBcplDnatPAx+IhQUK3+XevdEK42UwjQtENKSSKhWb6iDtcdYXR0zPAnZZKbLMShq4M+rvduc69Cg/B8XiQIHHqkjDM1Mc/UVIFMJsHWrbsIjBzV9a9sE1wOKKMz2o7AikksW2FZ2i8RVYk3Sb+yoARM2VlR2QGtcT0PbUmTPSg8DmSFdGJgB89sBuES1Bbw/I5YlgwZpwhLW5ZLfgbPEFjGt0oHhaVKCKH8GhUmHVTg3yb8J1j4jDLEysymVEIb0UKbeitCuoyNjvK7371A15kLJJMpNm/awrq1a/3yu3cw+WqHRuNpFyyBEhrlO/pa/jjfyKltLNQCrSwGLw3zxhtvMTY2Rjxhs2rVSjZu3EgqlWRiYhJpSerrsv6BZ8rR6gq3OB0+L3i/tEogNJ5r5nhsdIqTJ84wOjpOW1sLK1f3U1eXMYxeBO1RWMK6dvv9NWAcmUErD60LaO1SKrkUCyWKxSLSLlAs5pfMj/hJpupkMAJBLBZjLj/B1rvW8OSTD/lM0QNRAqF8aXKRhIhhUS3fETwUhcsvqyj/qwLpRPhvtkLjTgC/uK4ban5hHRsJJgy1LEAtoqBwI5F3lWKe6ZVWkqHLk/z6+bcpFQsV7zYHuPD/E0H5BumXefW5qPAQwjDIQHupyEqmBTLQ6TVh6c3way0pFVwuXx1ldGwa5Wosy6G9rZOmpgakBfn8LNLySCQdhPSlDqVNLW3tD6SwkGA2LYHlPWCSFsqVTE/lGR4eZXYmR3d3N00tNT425SICiVXLSPZrM8VK+AqE/3fpxxJLhG+vUn4uTQ8tYXJmhvjVcZKpHLlczjD/RS0RdwJVK8RGglQBLiiEOTl8MCt6dbRYUqC7aw2e0pQ8m7GRGX7wtz/h18+/RE1NGtct0tK6j+99L0lLczP/8i8/ZtPmjTz+2BM4jsTTBTQeliXNeGvlSxsCzzNlRp2YwJEKdAnXLTEzXeCHf/8TXn7pHZQHDfVZnnzq8zz0yB7icQspNcH5FSSQvib5m9ikZzNqd1CZU1o2EhuhBZa0F5TU/cRTBSoU+SAEjg2WNU0yPQe4WGikX9BLRDxRKly8tEQpI5EJJFpbofpOaDRQCFkCPLR2fWFII4VDAGVFDSuxhOFBxmlf+Hvchwcieo/SPvMWZb6sfZhCWtKYncK5WewwE4bJC43yJPFEDphnZGSIC+cHsW2LmpqaUEsMyA4aYxJxGuYktPZ/RCBL4IkyN5c+6zLvjVh6/UHUQnJ19Co/+P5/58jRk2RqapmdnmX9+g1845tfxy0W2LfvbZYt72Hr1o3E4jGKRXC9EomEYxarUhRds9i18iVXvyCXeZ/gzJlz/OyZX3H61EVGr06yY+cuvvXtL9PSWo9bcrGkxrYCEaUSTZT4GbqIhubJ8LpwY0l8lTH4zuS4vNPA+wUUrGcdMEJCdx0tpV+MbaG6XckkA4jEqNSObTMxNs/hD06QzbTxrW/+EZajOXf+DPl5j9defZff/uYtxkZnWTWwESE99u17m2IpR31DA9u2bUUgOHbsOPPzeWZnc+RzBTZtXsnGLcuwHY1t2wxeOs/bbx6iqX4Z999/L9Mz4zQ1tjM8NMG+/Xvp6+tk89Z1xGJ+vXSuj2EtwLykbwjSBgYQWvrrngXQ20ciEWp5tydVWvieSIN9VMVAxEWkVURo1xd7jAQZxdMsv5FGOscU7EaDsBDawi2Zgy3ICSlk8Ax/fXiez58CHCwQ3/196R/GgQXEvNqkzsOThnX7VRwtW/u+5uZe4xkDUvmsyD8UxYICdv4gC42HAmmghfGJEa5ceY/BwWliToyNmzayfv16UqlUeGfIJKMPipa2jPCKKkxgqUpyAqEtTp08x969R1i5ag27d+5k8PIlzpw5zbGjJxi8OMgzP/0FO3ftpLl+GSWvwPnzZ/G8Iu2dzaxc1cPMzCyHDh4nlcowPz+NZWmWr+ijvb0NyzYq2MTEBKVSid27d/HmG/t54/W9PPLIvSDgxPGjtLc3sLy/h7htIxZZ1dU9KJ+25YQHQugI3r9YLPOngEQgQJb7pUKWcC2OYDC8QLoXCOrqG9i+YycvvPA6z/36eVqam1gx0E93dy/nzl7A8xSFQpGJ8Ul++E//wKWL51i7fg2XLr3C0OVRenv7+dE//YRiwWP16jUcPXqI99/fx//W/ud0djegFYyNTTI+Ps34qMc7b79HU3M9loyRzxU4d+4CqVTCqOWOZul1ekPD4vfrVkV3fZKovL/LUb4B/qgjPyLyY+4TwkZ5mmLJ5fLlyxw7coKZ2XkyNRkGVqygq7MTaSvGxoepqUmTSiWwLIlSHmXDrfBVc7P2lPIrIxJg5hbak+RzJS4PXubq6DiOE6OjvYWWtjos45dTUbNbKxBSRtodZViRfvjMWWtNPl9gfGwMKWqJx+PMzMyYdkbourHbN3ZoRpksgKShoZmenl4uX77Ke+9+QGdXN7t2fobWlk72vXuIkeE5Roam+eDACfbt28fY2BipdIr53CR//N0nEULw/b/5Fxqb6qmpSTE+McqGjWv5o//wJM1NdWihGRhYSXNTO+fPDvGr8deor6snlcxydXiS9/cfplRaTldnK7EgA/JHEf8+bXtkAVVaVm+4uxFLp0aTSiXYuXMn9XVNXLo0yIkTZzn4wSmkcGhrb6O9rYGdO3fhxBwOfnCU9vYWmhvbuXTxCpcuDpFONYKOsWb1Kp5++ml++sxPeOfdVxgevkpHl4njdksuGklrSyfLlq3g/QPvUrM3wVNPf5anvvJVamoT2LZjjACLJGz+A90sCd/7TeB5cHlwlH/84U84fPgo2WwduXye5cuX89RTT+J6BX72s5/y0IMPsG3bFjzXI5cvAB6OY+PEHDzPhCkKgZ/pyyKeSBpIQ9uUiopDB8/wbz/5BbMzOZRSDKxcxlNffZzmllpKboFkMobt+KrxDVu8dWjUk5YRuBzbxnEc3wOjkuxAzarYFv6vWrDAir3E2BHqbD520N7ezhe/9AXefe8QY8MjvPbaq8TjcZqaGunr66evr5c1a9YxNZXn7bcP0t3VTWNjHQc/OMzJ44O0tLRyZXCabVt2snvPbn7+859x+NAZpidzNDbWo5UilUqjPRshRmhqbmR+fo6xsUkGBvp46KFHaWhIEo/FKYv41+lE1TWV43LnAfaLka76fbHw0tB3UIRXmb8vcToHOJNAc3nwAq+8/CLZbAuPPPww3T0neeaZZxkdm6ChsRbLsSgU5ikUCjiORaFQpFAo0NzUQmdnNzU1tcScGEop8vk8+XyBWDxOLJbAGHGgrr6eluYmmhubWbFigGPHjzAzPUsul2dmdgJp19LQmP7Qh2KIX2pYTPO4LaQrRYyPnaUH7lbXa4DfSOV5IV43dGWU9945TKamls/c8yBzuRxzc3OMT+Z5e+9efvyvL1HMx2lrW8nVsSGOHjmElJqm5kbWr1/P7Owsx44dA2B2dha0YPeeXfT2dCCQ5PMuhw6d5NTJyzz2yGe5enWUt954l02b1pHPN/DBwffZtGkdAwPLjYCotCnpcgODGOLvGDhN6TLsGBQjC2AQO5AVy8YjEdkWlPHYa+JwuuJar1TixMkjHD1ykk2bNtDT2cVvfvMbfvzjn3Dw4EH6+vqJJ2M48ZhvTfXQ0sNJCFatXkZTY5NfhMymrq6R5qYW0qkMMzMTvp+XQHmK48ePcfzoWVav2swjDz/EX/y/f8Gxo0dZtaqfeDyB48SwbWfx8g+L/qWMW6jqCz9FAkngErIUIwhGQupgwQWroVp9LTNJISRaaeJxjWaGt948wqWLJ5nN5ahvSrBm3QqaGrM0NtZz5OhB+vt7ePiRezly5CjzuRmSSYe+vm4SiQy53DwffHAAzytx8dI5tm/fQkdHh3mjgJ7eDnbvuYu33zzEb174OcmUYPPmtczMTPLLZ3/Bpi3r6Oh4EMuyiOyFGySx5HkoAPFRorqWosAGJj5eNhnMphDBoVjd98r2CO17u2iNFDbNzW1s3LiFI0eP8sZb79DQ1MTAygGSqVpm5goUipp8UXH69Hl++szPmJgYp6Wlmfn5A8zPORSLRf71X5+lpbmJpqZGDh48zNDQHN/7s6fJZmsN5iksYvEEdswhFosxMT7N8MgotXVxzpw+R29vD0oFBcR8sLUMbC5Kgc+uCOc6YJZmDAIXpOCbJdXtCkYZPn2xCYxuIB1Cd0J6HD16kKPHTzCwfDnnzp2nqbmO7p5O0pkEheIsR48dYMuWLfT1t6NUkemZUYTl0dBYw/x8nkJhntffeI0rwxc4d/4UK1ctp6Y2g7QkCpiYGOOll17h3XeO4Lmajo42evu6uHzlEi/87jnWru3nvnt2YqeS/kl5IwtwUceHj0+y+ITQjee1jZ4imu6eVr76tc9y4MAxxsYm0ELS09vHtq1rsS2LJ7/yBFeGLtPR1cDAqi+zd28HhXyB+oZ6Vq/p59KlIWIJqG9opKevjfUbl7N560pqsylMEgpBQ2OWJz53Hy0tDUxNTbF8eT/r1q6h5BXYvn0bHV2tvrW0Ggb6Ay1FodRdoSxEtSjzIy0TNSOlRV1dI/fefz8tHR1cvDLIydOnOXXmHI2NrSwfWEldfZq7dmwnly/w7rsf0NHehluyGRyc4NixC9TUZim6cTZv3cPWzZsZHvob3t57kC8/fT91jQkSCZt169dy5swljhw5yMTYOPO5WZRy6erq5Atf+BJtbc0IYft2IA/swKh8jcNMsDD/QtX3UbomJvnhl5YGFLYtWLd+FV/7o89y+OgJ8vOT9PTWce99m7n3vi3k8nkefWI3pVKJNes6aO14mKNHj5HP5+ls76enp4NDh4/ixASZmgSpVIztO7aya9c26utrAA8pYeWqlTzwwIOcPnUJrTWPP/EgmzavY2p6iPaOOrLZJNIK3JpuhM0tejT433w61O0bpWutoYXkS5QC4nGHFQN9dHS2kc+XENIinoyTiMcQUnPvA5soFNaQTKRxnAQtbY/iljwcJ0Ys5jA5M0Lf8gb6evt55JH7qc3WEI8rpJ0DUcJTYFkOvb2NtLTcTcktkUwkcGIxtI5zf9PdWJaFLQXG//YayTH+QNcgEVkEfnIaYczIQjmUSoozp8/xxptv07e8j4fXr+XNt97it7/5HaNjEyb3K6YqolKgPE0ymaGuvp4+oLO7k0LB+MgKKYgnYkgpffcvBRQQlkM2W8OKFcuYn8sjUNRmk9TX1+C6HrlcDiljSBlHa9eo2xUGp8X3bGiausEtvXjdbSJK1Q09KBDLgw4KsrVp7r1vKxs3DVAslnAch3Q6QzqdwVNpnnrqcUoll0wmDfSxadMKSiWPTKaGmkwdsZMWjU1J7v7MNvbs2U08blPfUIPjWKBNSquW5hYee/xhpifnAWhoqCeecEhlFI803ks8ZuPE7OsYOCOD6mOq5WxFVZd9SiiMY12CdwQjEvqSXvtphA/yfdgkmmQ6RjIVR1jS5KakiECTSluk0hmMEcCltiYVkdxdenqb+OKXH6KmJktTS4pYzEbpPEoXQXgmEkp7SKlJ1YDx1/NQah6EIBazzfoNAgmW7uai/b7e94vWWl/sxht5aeAFEw2v/MQttGpM3vL9p41aOjJymcPHPqA2m2VsfJz2tia6u9pw3SICwW9/8zyPPfY46zeuYWJiisHBi6TTKbo62xkaHmV+fpbXXnmJ0yePMDwyyJ577qa+odYkLNEu83PTnD97mitXhiiVimzcvIpl/X1cujjIT595hicef4Ldu3cRT9ggjEtQ2f2nehKqrfYLc0cuBrcsLkkGEOONrBoiJncBQbYfKRWppE0y3gjCxH/qcHAldXVplHaREqTUpDMZtLIBB4FiYGUX3/zOF9m8eTXdvXWAWfhKlXBVyWxGKaiptaipyfpdMe+JxZIkEiCEh/Dj2RfIkQv6VoYNAnenMJX/xwnk32aKnq9LQRAfRoqMJq1QygudfaX0w8iECmOwtTJW0TDBgJLmehmAcpr6+jqy2QygkbLoz7XCUyUsKZFSoDyTFDgM0hGm7LBSPnPUyg8oML29VUzSXGQ42wKD14LNtjSJBfvSj2tfGg79BFAwlrbZT9JlYGUn3/3eV9j79l5GxkZZuaqNjZs2snlzL8VikT//H55iZGSEVavbaWv7Ou+8vZ98vsTAwCpWrOjnyuUhMskky5b1EkvAV55+jPsf2kN9NgnCxbElvb2t7Ll3M4cPHSabzbLtri309nZwOaa5a/sG2tqzSKeEFu4iws21mKQJWonIlUved10XoGvbaiLGjtCsXjb9iIj4q/yAeRAobcRsky3IxeR2075VyTCk1vYmHnviAWKOBbJg4ry1QEjhe/AZ0T/AqYROoJRlQGVp+yvRvV73qjqrw1Ry0ewwBP9+clfwLSUZPfOuS5oQ7/cHTQjf5V6YbRWEF87OznPy5HlGR6YR2iKRqCFTk6C1vZbmljps28yrkLK8hjA5Hm0r4YtaJjInyFEq/PdLIcMEFz4MD3x0NLIcFkvIHBdNOP1hDDrRxAGR5368ZpsPQ2UtUSkPlIVlKbJ1FuvX97CsvwlPeSZJSjKOE/NQWvDVpx4gny9SV9eE8hxWrerB9QTJRA1om3TGpqOrkT333MX6DQOkUjHSKQtLumhloQXU1WfYs2c727ZtwLEdUqkUlqPp6+ugrb0WJ2ZhWYXyYS+W8mnVmDBH37CjYxj2J8zfF9MeffqINW4qQfswC4xWKE8ADloJZnM5hodGKORLxGJJGluayWZTaFz8KGqkX7ZUeR7jY2PkCzlaWuv90EAVuuNoP++kSXpgwFohTOiUeadxhLaCJLk3ufSidwReBZ/MBXx7KMiMc0OdFkHCkuh6IIzosYRAa5srg1N8/6//lQ8OHKG9vY1iwWV2Ns/O3Rv57p99jb6+Tt+52KP8YtvU6hIJPxzN10eEAmFC38zqi1jiQ0YZrMubmzmtdZi1JizfsCgzvBn0XkfikYOkzoH6fdNNvq1k2KRAaj+VmfCIOYJYbdZcIHyoSpn1UJtJk83UmtBFKbBrLQPhWEW053HXzhW0d6Xp6+umqTlttArt+tqFnw3McrFjmnQmZtRpnUNrhe1A2kmE+R0C3uCrjdfoQRk2CPJlmoz0Sx9ySzI73636AAAgAElEQVTJ6zIFoz9RXoimfVpYaD/DuJRxhkfG+cHf/wMHDhyikHdJJlPsuedunvjs47S3N/q53Awn12hmZmb4r//1r5mcnOJ//z/+Z9ram1CeUZ+kcNBaolWQhVwCMf93hytXhtj33n4GVvazek2X8ee64SypOrw2UEONi4DpW5B061ZSdbKEwAUkiAkPkvmKj7bXK99JoDEGC2thr5TW2NVQ1A3QYpBGmGpPS/LzHiPDM6xft4Pvffd7JBIJ/uqv/oa9bx7i/vuGmJspMDc/wcDKAQr5PEePHqO3tw9L2hw7fhpL2szNFEjXpNiybTnNrSlCuTFY/2EERqAe3nzEjVlXZqxcz8X1PArFInJ+vsoY9FH0ZEE+n6dQMEkWLHkbQh9vmqKLQBsgSsTwsIzWGOB6/jVag8T2E8Qogx8DWkuEUAhZQIoSQthIy6ars4aO9hrMyskjsED6afRM+AxKehiNsKzSmfUrEcLyIbEAJ9Xl5i46dgsnKdA3KnOdVtJ1XYCuyyhD5C4wfgSDZqE9myuXp/nFM6+xedNmPvP5uznwwfu8+sp7DCzfSH22k4mJUXK5OYSA5uZm3FKG86enmZicppRPMTriMTk5SalUoiZTS3NzC0IIpqYmmZycpFAoUFuboampjeef+y3PPvsbvvOdb9C/vIN4XIYq/EenW79ihazcXEISKauwCF0LbrlVbQoH61a+wKwNxzZJfEeGR3n9tTcQ0mJudp7m5jYcu5FXX9rPmbMn+Na3WpmamuQffvBLnvjsZ5FS8H//l7+ir28ZNZksZ8+e5Ytf2cPXv/0oNTWp2zIWWmuKxSKjV0c5bZ/Gth0ApqenicdiVHpL3KSeIQRSCIrFIqdOnWbZsmUhO/pkYOABBwh+JHgS5Ummp6a5OjqEUkVs26G+voG6ulqEbaNdX3Ut4zAmLl0IlFAIXOOsjckgNj01zdDwEI7tkEynmJkZp6eni1Qq5edtMBK3wbZlmIVe+rHjSpnjUCzAxG6NWPMR1e2gEUGyWuHzc+mnQ7IR2NTW1DN6dZrRq9OsW7uVrVt309O9nHf27ufZZ39OLjeP53lsu2sH99//AFrF8VyLsVGX1595iUOHDvqe+k089thjxGMxnv/1c4wMD1MsFWlubuLBh+7nnbcPcfTwFd7eu58NG/tZtqydqKT7iaQb2AvVSWnvSNLGHQQsLl8e5KWXX+bihUv09vXw7W9/k77eXt5663UmJ2YoFhW5+SLj4/N4ribvFigWXT73uS/S27OM//yf/09OnjzF7OzdZDIpo+XJGwZRb4gCR+NCscDc3By2HWNicpKJiQkS8fgiEvjNS6xSSnp7e1i5coBMJh3KRJ+s6RZILfA0DF25yo9+9GOOHD5ILKHwPMXKgbU8+ZUvsmJ5P1oLPE+Bln6eBYlSJTxlo2XcSJwyRsxOMDU1w4/+6ee88fpbDKxcSUdHO+fOneRb3/46AwP1aOUGeioEOHcQISAdPDSu6xGzBJYduH3d2v3+EZhkJYMM/mbyOZqTRyloa2/nO3/8TV577S1e/N2L5PMFVvz/7Z33k1zXdec/96XO3TPdPTnPAAOAIPIAICgAFMEAQswSvSp57a1a2XKV1yX/Jbs/rGstb9XaZVuS1yvLVrAskxJFUWASKYogSCIMMjjIAwwmT8f37v5w73sdJgAgQIqA51R1z3T3C/fed++5J3zPOStXYCA4dOgQp06cYeOmjVy5fJX9v3yT1avu15mIHIYPn+fll96msTFFX383w8NHiUXeRwg49OEpnnzyCZpa0ly6dIFkPMPAwEqOD4+wbt16stlmkCrWdKmqqEt27w4Pdg3dYE3XMEQd+VJdZEkEb5/8/p8JaUlCAuVyAcMos3XrJp577nlee+013n33t0xMjFMq5zEMj1K5wOTEGJNT4xQLRZ0RShKLhRkc7CObbSYWdygU8jqO2DcbgJ/Z+04pDrZj097eweqV9xMKR9i0ZTNDW7YQiUaVs6Wmn5+MSfpZlAzDwHEcVXv6d84hK7bS4DPqs/TglZdf5+Wfvc4jj+5m/YZBjh8f5vz5K4x8fJF0YxPnzp3j2tXruJ5Hc0szA/395PKznD79MSW3QKlYxjLDdHf3cfHiFX7+4nvkZsvsenA1TekWLp6bwRJZTh2/xsWLFzFNg2g0QrlcplAoUiqVMQyDpqYMufws18ev0dHWzOo1vYTDZl2bb58+uU0yaEidYi4JdEYpS5w/f4bJyet8ad/j5HJFXn/9Dd797XvEohHy+TyeK8ETNCRTxONxTNPQTgCLyYlZJidmaGzMEA7F6OzooiGV4urVUSzLpq9vBb29ncRjMTKZZhob0iQSMbLZLLFYDERBt0ncMsOT+BCWT3G2LnRpAfhhUf6Q6iGuN4N94ltqh0qAl7y1s2+dpIqCkDJHKmXS1h5naOsg3d2NXL16lv37X6SjI0U2m6JczPPGG/uRniQet7BtVUWxsSGCZeYxzRlSaZNkysE0TfwUdvioBOPmZu7N91hgWSa2YxMJh4knEjVptFT/4JNKktXe8uqol8+XFAn+Gs/n5nj/wEEyja185cu/R1dPM+vWr2X0yjVSqTTvvXeIf//pSzghByldJiYneOE/vUAykeTbf/8DSqUS6XSaK1eusWnTZpLJJOPjc0ScEI4d4/KlcU6duMDURJ4333qH117bz8qVffR0d3N0+ARjY2P09fZy9uwI4UiI1av7GDl3mnDI5Jt//nV6elsJmPwdEnIWfbI3j3ipc50LlUVcUkaKEuPjo7zyy5/x6q9eYfTqJYRwyWYa6O5qp6uzjVg0RG5umkJhlq6uNjLpJKGwhWlLOjqb6OpppViaYXrmGvGkQ/9AB/0DHYDH/tde5Uc//iE/+MEPOXfuPCHHoVjMc+jQR1y7dk1Bi24UovS5p9/FcqkfL21rvrUwnOBUhZUskm0K8+jjW9i8tQ8rNEtXX4I//K9Ps/OhjcTiBtu2b+SRx3aTySTpH+jk2eceY2BFK6vu6+JLT+8k0+wQjbs8+vgQux7aQjQWvr0u3sQk97Pye56H63kBU7v1uvOLU02pgttWEe4kVQ+QskkWiy75QpFINE4q1YhtRWhIpent6cO2o7z11nucOz/G1u27eWzvM5z9+BK/eHk/165e58L5qyTjLQxt2UV+zuPokeMkEjEymSQDK/pYe/8axsfHGB4eZnZujmtj4xQKJYaGttI/MMilCxMUCzA0tA3HiXDh/BU2bNhMR0cvRw6dZHx8SjmXAlSL8sff7vq/TZsk1D9QgU6KKV1MEzZtXs3Tz+7hg4NHOHHyMJZt8+xzT7Br1y6mp2cwLY/R0VEi0QgrBjppTIfZtXsjU9PTbNzUjcvDHHjvXVzvOi1t7fQNNLBqdTtIj8NHjjA3N05PdyedmuFu376RcrlAbm4GiCzptbox3Xkj8E3f2YeH1Gdo+qxIeCp2SlaM7+rlaa+1yvBcvYTm7dy1+ihNLY3s3fdFTNMiEvVwvTKbt6xizX19mIaDY0fo6m6mXCpj2ypMzbQU3GdgoIN4MgyUeWzvToQhCTlhajUZtTCkRipUp/UPau0E+fZFAHZf7NEGLgthaHSFf62lywXcCn1+QyZl3V8VDBKJxmltbeHAe8McPTrMqtUrOHz4A86ePUNrWycTk1OEolHau3pJNySJRFJMjM8gpUE0EmNw1UrWrFlNqiGBJ4tEYw7xeJiGxjitrVksP8OtcAlFDLr62tiw6T5mZ3LYtkG2KcPAQDfZpiROSLJhwzouX76I5xmUywrsjnRRsJ76vty4twvRbcRuy7qjqlUFgWkqGEC2KcbTz3yRbdvWk58zcOwo2WyWVCqB6zXS2voE4xMT2JZDU3Mz0ZjDU099kVKpRCaToDG7jfUbuykW8iRTcZpbmrDMCE+mHmbrtvtxvTLpdIpstoHW1jCNmefxXJeW1jSWBiXffLKG+t5rk7GEfLFAoZDHMFRap4mJSSxLDV9tVbdbvU8teZ7HzPQ0xVJJ7YOen2n5ziwmWfUm5XwIkA+c9lDlNAxMBVWSAkOYysArpbZgVIDWNRpnkD2owmD9rOfxeEzZGZE62koQt2wU2y1j2SolmlKfFRxEILBDUQyziCfLxGIhfyURpPnRcDTpiQCfqdqpmbl0qzICmQETDcqNLjRBhNDAdrQGV1GLa57HneZzv2t7ZPWrDu1ghx2+sGsHh4+c5Nvf+S5dXZ18PHKGxsYG+vrXsGrVGs5+/Aov/ttPcL0SxUKOrUND2JaDZYNlSQyjjBPS5VIMDyckEIaLpASiTCxmYTsSRJFIxMKyBRgedkRihSTSKGGHJVbBQxolTMfDDhk6tMDAx87O402LdFfqKKrFjlqSSd6Yt1QfUQeIEGjJwqOhMUYqGcdzLaRn6wwteUy7SGuHQ2tHCwIblRqpRHM4giQC0iUUCpNK9ejFoEs4yBLpjEljY4tafKaHELPYDvTH0sHC9QHqvuf9lqiqa/l8ngvnJhmbKGI7NuVSiQsXzqHCyXxgrT7t5u0UC99WSiYmximXSpiGSalcwjItTPPOFR3zBdTFwpAVk1TSF5iK/0gDSQg05s0wdb0h6Wpm5iqpUyjVFHzG7heNqlJRhW6An9FczxOJi4rL17ZGfZzQxdmE8CeykuSCbVoPelBiFvDrK3vaPi4CfJ2rTQeWPlYVGDOEEfTdJ2Ue9u9YqdYXMM5Pk37XAmYApwnkaRUoZMDW7ZuYzc3x0YeHKJXmWL2ml81bNrN+4yBdPa0kkg4XLoyQy5f48lf28thjO5mbm+XhR7cyONhBQ8Zm5+6NgEdvfysPPbyVRLyBZIPDpk1rsJwire1xNmxaQSFfIp4KYTqSRx7fRjweI9sSZ8fO9cxMzxCOwcpV3ezdt4uWljSqbrh+UCp+khvaVSp5IhdcE3co4maxr/XOK/Ukp6AmpV/T2Sjql6Fc91haIvC0b0HZFswg2FVXSxQSAwdpqGgdvy6w0DaIO13E0DRNGhoaaMhkCUfC9PT0sHLloJaIFun6bVC5XCYcDtPR0R4whXnG/U+V/HRxatzLrsvImXNcPD+B64LnFTEsj9a2LL19nUQiFnjKwRLk6UNLgsIFw1C5CP1SwW6FiQp9Lyn9xASSUtHl4sXzTE1N0tPbTSIRx8TWUY9qblRw+FWFoYTGz+Gr2gZSWuBZYLgIDXCWnkUh71F2XZwwmJaurDlvaJcY68+tmvxpkb+6CsQTNnse2cHQ1g0Ui0WckCSZihKLmiQb0mSbH2JychK3XCaVShJPxCkWI2Sb9xAOhXFCDo88/gAgicdiZJu/iCEskgmb7Q9uYP3mfhLJCI2ZJACxqEM8brHvyd2Yhkk8HmfnziHKrkc8HuK+tavo7W4j1ZBAUqZq+7wjPb8DNskbk1IbXTwkk9OTjF+fJp1Ok2wIYRgV6UIgVcaYQCLQ9iXhy4MeKv5SqKgeT4UVBdXUPL8UZm1N59sly7bIZDI0t7URiYQZXDnIpk2bsCxrHtOal7zgFsiXVHzxP7imHxL3mZFvx1XRU1MT03zvH3/Kq6+8QzbbQChiguHywINDPNOwj7Zwg640KJA6j6Nf6lOBHTwtiyg1W2AhhFLjPeEzRz86yiSfK/DBwcMcO3aMZ555mtjKBkzDBqnqwCt1ugCUldTr+hq+ZrgCnTQDhAyDjIJXVtqjNCgWyrx/4CCjo5d54Av3k85EMM2q4nbLpKl2zhl4GAKk6RKNC5XNSUgkOTyZx6WEaZrEkyaRWBQhTBzbxJVzGLZLOOroB5WjIWTjJ8pNh2JIaSJwiccd4olGPOnihO2gEKAnJY2hBL6LIekk8UtURyIhouE0nizjSTfYNCvVTD8lx82NgRS3smgFkjLFcon33h/m3/9tP08+uZeduzcQsiJIFMhYyRFKUlRXN/FFfumL/n5aH2mDMPC0x/HEiTOcHznD9u1bSTZEAqZyJ1BzhrZN+fqYMDQsxFZRGHfOXlgR+yseVBnERN85Z4F6E4KFU3+hbTRSMUnPE0xO5AiFEjz97FdYubIXVxZobcswO5Pj9dd/Q29XF6lUkg8+/IjOzg5isRgXLlzAk5JcPkcoFKa/v49UMsXJU6f4+OwIruuyctUKujq7GBsb4/z5i+TzHpawcewonR19WFaUUyfPMX59krm5WYRh0JRNky9MMz07TnNLE329/ZRLkhPHTzE5OYVhwv33ryIWj3HkyBEKOQvXLVIqlejp6Wd2Ns8PfvgSly6dJRKX7Ny1EceJ3GApyWCB3hvo/qWough6tRlNYghX1a03JJ5U4cSmCRILL5BLJKYhQJYolwoqUkYKZUoxlenD81w993QYM462E7tB/L5AILyq6qVaLRbCA8PEkyqRhpQufj4fw4BKqrSbY45+IIJac/N/v42wxEV+8Re3rDtUWLiuzaULRd759cds2Vxketrm2tgUrgtzswVisShNzVk8t8TY2HUcJ8LU5CS2Y5PJpDFMm9nZSRzHxnEk0xMT2I5FbjbPd779Pc6cOkU0muCBHZuC9FumeQeZiy6ZaerSEj6Wcd7lP+HtZJUgo0r8VhvI7lAfmP9oFj7QQwglqXuuQcl1uTY2zjvvvMvp08eJJ8PseHAbudwsf/Wt79LXt4JEPM77Bw/yjW98g3LpKn/7d39HqVQClHr8wgtfYc2a1fz1X3+Hc+fO0dzchBN6nT/6+tc5d+4cf/PXf4fneWzeuA7bNsnl8rS0dPLqL9/gjTd+TVtbhtnZOfJ5l6amBmbnZmhqauJrX/t9Ll0a5fvf+yGxWIxCKc/u3Tt45tmn+db/+kdOnzhPtsVhcnKKoaHtdHf1cfD9YcbGzvPRB4fZPHQf0Wikyn5VP2JLfb7XyJ8h81UiocUZlX1LrS2kIJ8rcG1shmLBIJPOEgrFKJddJiau47olGtNxojEbKTyk52pGpsZaMVqBqf8fuz6ObZvE4jEs06yxb0sk+Xye6ekZEsmUClvUqAXfVBOsyZtlkDfxOD91dTtwQgoTIWyEcBDColgw2P/LA/z4xz9QNWikiSfhG9/4OuGww1/+5f/GthyEEBQKBb7whQfpH+jl1V+9wrbtG9m8aT3f/94/US6XWTV4P79+c5ixq2N8cPAwK1b2kG1KKaETqY3vn8jFrfogK84oIerZjKY7sHZ8B1D1brboQ/wM1qrvzTUsE1dIcsUC4xMTuF6ByLRDbq7E2rWb2bplN9/9zj8xl8vzp//tT1h333befOstpBdj3xOPMzCwgr/9+29z4OAIFy6XeP+j8+x55Iuk0yl+/vOfs//Ng2QyGQplm2efepzdu4b45Su/YOTji+RzBfL5PJZl8Md//EccO3aM73//Rzz6+D6KZZdfvPIqR46NcPzYWbBSPLBzD4c++pC33j7Ehk07mZrMsW7Dar7ywpO8/PLLnD59hvXrNrJp41qmplp47LHHSSVSSv3HvcGILJMwDJ38RJnC3LLLiROX+O4//JSTp0d45pln2fvEPj54/wh/9a3/g+UY/Nk3/wtDWzdjCYmghHRLCMPDMHXSQ2niSYvrY1N86y//hkIhz59/889paW3BK6ua3aZp4pZc3nrtN7z0sxd5/oXn2P7AFixLYBhS+/iqJcjF7ZK3qnx/JjZJQLdV7UASKJYFFy5Oc+lyjsceewTHCfEP3/1HPjw4zODqAY4ePc72bdvZOrSNX776Km+9/VsKpTInT33MwMAAxYJk5NxlCvkiO7+wl76eFTimw/p1m0ml0srWKcraNuYFO1ddg27QXlH5F99z7cOClOf3jpJYoGWfMjNcfMIoG53rKROIZQl6e7v56ld/j1Wr+vFkiWQqQTwep79/AMsJQ9Ellc5gO2GEYWFYDo2ZLB2dXaQaGim7LjOzM5TcEp4HjhNh3boNdHZ0kcvlyGaz3Ld2Ld293ViWqcuNqvyjqcYYKwcHuHptlIbGGB2dbYxPTWOYBvlCkZnZWcquy/TMLK3t7XT1tSNMibAtWjta6e7uIpPNcPzEGSzLpDGdolSewQk5KBt3FXSoZlRkzZ97jQK2Iqs/3WDaSd8Yp7TGmZkCp05d4d13T9HZcYqNG+Y4cOAUv333NKnGMBPj4BajXLp8gbm5CQQlEskYmUwa0zC4dm2c6ekc05N5Thy7jOOYzM0Krlye5frYGFJKkskkqWQj10bzDB+5zOR4UcG9qlAPoorH1DQ3aG+l/k2AhLiJ53qbYYnzRq/m/wo/9yeeh9SwHD/1W1NLEw88uB3LMvnxj3/KbC6PaVtEYmHu37COnTt3cuzkCc58fIaiW8a0LMpumZnZOXKzBQxh0tLcTjrdyMzsJC1t7TihMIg5PWi+BOnDgap7uDgpoa4i1onqHz5t+hRvMW/5L5YfUQq8wHUmsW2T2bkpfv3Om5w4fQRJmd7eHtra2njznTdYtbYP0zR55dWXGBjopkyZsfFr/PqdNxg5f5Ir10bY+dAu0pkMBz5qQNhFCsUp4jGbtvYsV65cIRIVGHZZYeLCFrGkg7A8QhGbZCqOYQkwIZGKYzpgOh7hmEW6KUFPfzvTc1MIq8zc1AR9nW2km0I4IRcnBGaoSDgqiEYtTEtiWoLR0SscPXqUjs40ph1Wdi1DVhn8q8dK3DYG9vNGalWKwI5YJQ5QCQyoHwudqkp7U1VSZQMnZJPJNDB65SonT5zh5IlTdPc0IylhYPHeex/xkx//EOmV8dwyqVSCRx97hGg0zI9+9K/k5sqEQ0nOnBmjv7+D8fEc//zP/8bIuRHC4TDxWIJ9e/fhuQ54IaRnAwZGABr3maMPLTMq7Q82Pr/Nqo++zf9GC+72UqUteIaPedNqtu9xBGXn0kBSy5RIB5LJEKGQsik4IQNTlapgZmaWAwcOELIszp49RTabobUli20LhocP47l5Ll+5Qkd7F47jEIk6jI2N8uFHH9He2UA0pnYNlbn6k6ra95j9SS8GZTKWumKc1Gqm/9KedUOCUFjIUMRi564h0ulGBFAsTyOExHXzFIszrFzVyjNf3kMymWT/a69TKI/iyuuEokXK3hguDnv3bWPX7m3EEwlse5qRkXO45Wv0D7TS05OkocHDkzvo6m4kFJFs3LKG5pYGevpa2SW2Mn59nFjc4f77Bym7Obq6sjQVo+x9YjurV/WyYcMA2YzD7NwULS0Oq1e3kc5YPPHkDlqbm4gnBOvW95JOx1i5qp1kQwjHKeN5ZUrlIipTtQzsQ1JWAUmC3KK3AV34XdECjL2W2deLQ3WS84JLoBIvr9KdmYRDEfr7+pianmL//l8xPn6d+9au4dixo4DBb989wKmT5/nPX/sDioUSP/jBv4D3LpGIw8H3TvHssy/Q2zPABwdOIb0IRw+P8POX3qS9o510b5bhI8N0tg2jGKOjHLfAfOGnrtGBFKkZpazNEiR9RhWEMs6nO6xu+1zcCxh4UMDBM0F4tLYm2fHgarq74kAUU/SRSgkMTB7ccR8rVnRhGgIhJTNTk5w5c5L21iZ2P7SLwcEVTI5f4dSpYa5du8T6Davo6ekhEoeNW1Zy8fIJLl0eYWZ2mmg8BdJQERV3Ule626UJ32QQoMkl4CL1y5Meho55V4Buj3jCYc+j23joi0MqL6DegW3bwTQNNm5ZSTgcBgH9A1+hXCqzf/8b9PdnePKp3WzduolQOEQoFMI0TZ5/bg/5XB6kxHYcbMuivSPOqtVt2LaFaQqGhtbibVqFEwrRN9CEW/YIR0wGE5309DcTCtlIUaZ/oBnbdhCYrBhowXUVTjYcMTGE4NlnH8I0TRzbYmjrOrYMgWU69K9oYWjbSkwDlXdUZ7hX0UU2uEIzy2opUlSpbncB6c1QSygLK0FSIUtqEtsGqqk/Txa6uPpSSqkyx0tBa0sL166N89Ybb9PZ2U5PZw/DR49SLrjkZvLEInFWDKykWChhmyHGr0+SDzsYwqK3u5ue7m5i0QjSdZmdmaFYKOLYFrFIlM6OLhLxFLMzOcolifT8uVvPzavB49UMsvqY+n4snZfgDpWUrW4sNSppECfrSSxDsG7dCro6VMYewzBYs6aVVGMcpMHXvvYlksksx4dPk80k2L17O0ObNxGJRuhobyUcCfPMU3sZHV2PEzZJJmJYlkEyCbt3b6Snp5FINEI8FtabRaVWysJtrm57rbSpctZJ5s+su51LQiWOEO2dFyriRPpAcIVhNISFirw0iMQ0mMpfePpcEIQjOpQQCDlRiqUSg4M9SPkgK1d2k0rFdMYeQJQIhwWRcCQYbumpKxrCn46ScMQCYSmPqmOpcqGijGkLrLCFj2m0HVs3yiWR8muWSIRQ2EwnVEmC4UO2JBLTMYgQCjYMQ2oPqgQhLaRnIqSBlCpUVAo/7O0uo6qpXYPDDaiqIJahAzNkVYII4TuzqpEW/oXBrzFkW9DSlCIZizB8+ChdHc10tGWwDUk4ZNDT1c6Bd3/Dz176V31egTWr+0gkE5w5c4w33/wlJ44fYfTqOXp7O+juaaGlpZF8boqZmTEScYf29iYuXbqMZXsKIqRDCeU8hrgEQsGfc9J3wqpEvn4VgIVoSZvkjZVUWfdX4CdvFEiF+5BCSSRSAVHT6QTpxiQGhoK4pGOBcNPf34YQBlNTEZ5//iF27FjN6lXdWJYKhZPM0tYepaWtH8NQqe4FqtxAJpOgoXGNqpIXOGu8QJyeD9OpGshFZv7C5rq7RIpYlHwmUr0hCNyyQT4nmZuRWI6BYYQRmHj1IVuiHnkqEJjKOxwYw026OlbTnO0nFA5TzJsEc1C4+v5Qu5nWO9Wq7GNQ96v/aTHHmS8J+f9XtVUQSMMCvQ9K9ILz49kt8nmTctkATFw1jauk6Prrfk5JBG+K6pcrQFXWHOEnLJEqYW5gjRcwH0YnVRSV6dHenuCh3evJNjUjpCCdhnXr15HNNvH0xA56e1MMDjZRLl/l8uVLSCRPPLmNXbu2EYvGCIXmOHHyBIXyRR7fu0Qsp/sAABA/SURBVInuni7uu6+N3/+DvXz44YdYVp6uri66e+OkGpv50lPb6OlNYlqlRZ7C/GcedFxok6qeYwoyJCsmlQVoSZvk0uQfoYs2Ven1AYPVwD+lrkgtsYAUEuG5+EWd8H/XpUe7ujM89+W9xGIxLFsnXpUeSJVhyAzYt4EnQRg6gYKhkibUDsxiu8t/VJI1QyGQ2FYIx4lx4vgIpUIRwyyTz82qrCrVdYJg/s6hF1AQGujfwk8phsTP+eizO8UfxQIL79OnIBKoOqJJa5SmPzBGmMlJl5GPr2KYNh4urnS10/HuIp9PLrjh13h9qzYlHd7pm+sWVVaFAm+3d2R49LEHcEIOAsF967qIRCJYpk17xz5SyRSWbfP8C3uYmpxESkkqlSKZTIGUPLp3G1sfGMQ0LRzbxnYcYrEojzZtY/PQAK7rEo/HaWiI0dQaorV9D/FkAsP0w2eXonqNEebbHxeXIuGOlG/wJ44FGLiuYHZ2hmKxoEqJSoE0XEKhCOGwUwc1EAos6ieKMFTh+VDIxnEa9TEKhmLoSBfh29a12ifxkJ6/G6rqdobwIR16IUqJDBilrIIKfJIu3xvMVoFzldE7nc6ya+ceRkcvIilz+eIFDh0eJjen0APVxZ7mk9QwDDQsSn9b5SRSmoRRM6FF1fv8xqmtVl1z4SiIm+9nRQqSumHz8kEGTNJDCIFphymXbUplg6amFhWPLnxJuqbrNW2+m8iTEvVcLSSmTosng+eiQoSrk4gsciFpEAqFyWYdvRlCPBHV5hGDRCKiDkPS2BgnlYziep4K6UXF+ycSYRoaO4L16j+aUChMItGBlCqnp2EILMsiFGpEmDqTk2dUzeVA9q1vJLUPy5+PJhITQZmlwphvAwKkGKSUUqenEghpkpvN84uX3+Dtt98BlDFcGPClJ7/E1qHN2I6lbDz6JopHCgxh4ZeKLZeV1Hj6zGnKpRL9AwM4jo1pmFULUaoML3pXMAwTzy3r3U/ZQE205oDQMdV+Wi9vAUZZ67n0F+l8yekuWw31JAjiy4X+EIsn2LR5G8VyEbdY4uiRYa6PeczNzAVSYPX5tbT0Xu7L/ItN30WaOO8an5QWuuO8upeaoRu+ym0aulY4GJalar0LMIQuT+Lv1PVM/66YGhJwkW4JpIlhOCo7Fw4GygYvpBI6fPVTaHFyMcu+EB7CrBjnDGRgCanU6/E1CInQ5SoEAmEqe7BRta4WWmKm/0N9I6S+cp0wuPCckUH7ypggLKQUlF1P5cAVcsF73wYEqM7AIVVXSgXBkQ/P8+H7F9j98CaymQbC4SipeBPSM7l6dYJ8bhbbsYknEkQiETzPY/L6JLMzBUwrTEMyy/kLF/kf//1v6ers5E/+ZJCGxiTTuRwz07N4eDQ2JAlHQszOTpIvzIHelUKhEHNzc7huGdu0SCSixGIR5TgwDBB+rjk/CYYatlpsFXfTrL95EpUJ75NEIEyTUDhCWEQpFUtE440kUxmEEf4PY6Uw8DMI+SYi8HTaN9f1sEy/lnv1fNd0t00TzeyFsDlz+gJv/voQjuXiMafDYc2KGYyF7JG1dCeztC/a5Lo2LHXPeUln/HOqzvU8weWrs0xMzmFZEa193rQkeasd1iq3L75Lm3LJIh5tYsvGR2hqasCyoau7jWPDJ/l/3/u/XL58iXAswuahIR7f+zinTp7ixRdf4tLFy0RCCfY+/gRXLl/l9f1HaG25xOrBLbR3tPPyz19mZORjnfF8PU89/SQHDrzH66+/xszMDF3dHaxYsYLfvPNbioUC4Yhk69b17H3icRoaU0oK9Tydm7BuFJfs9j3EKaqN2P5G4XlaDRVYlkNHRzvbtz9AIV/AMIzFr3VPka/deDVZmEwdPywRtLa149gOfs3yu403KlLagxOOsHLNGg4fOshbr73P9MwYI+dOUiq4mIaFIQxchDZbLm4//iwYpG51TRu8apsytTbuoE2y6nepRSIBZc/DcwUQQro2PT1pltrp6pjkraYX0/JmkORSeQOlNDh+/Dh/8T//glgsRHd3J3/2zT9lZqZEPJJl3dpejhw9xttvHCGd6mX/r15jdq7Ent1Pc+r0MU4cP8GqVWvo6Giis6Od1rYW3n33XY4eHebhh/dwbuQ8L/37GzRl+7h44To/f/E99u3by+oVmzl69CgHfnuaRx99iGzGIhSK4LogPaHzGfrD4TMJ36pdsVkGzo2qOr7Vu9C9RMK3vgc2KoNMtoV0ukk7xKqPDsIC9McbG2Uq5FVUNgHCu5VzPwMSnvZPae1CVrmapNQOQvOe2DSkBMsOs2fPXh5+aA/FXI7z50f41WuvcOXyNYRUZWBV2jmtgi/yqPxQ3cDJIz+lp1rXBuktvg4rkTSqUf5M80TleUoEpqlqRViWgxdcr4oH6J5YgecywELorBvcoLNB9EFVmJJ+CQG9Pb08+/wTtLc3k0jGiEaihJ0kggjjY3NMjc8RikS5enGKj09dYcvQRp55+jmuXbtCPjeDZVn0drfQ2dVBNBzi0oULdHV0sG/vXk6fHuHge4c4e/I8hiFoSjfx1d/7KoOrViAkHB8+zekTI4xeFnh0MDebI51Oa2ePhcpO7fdObwyBQ8nVQ6UliiprvcKEfY4W9p0gbYcRMrAaqTRXmAT5ICF4N6rTaAX1bzQtFpEiNAMWVYtpgdC/3y35OZd0H6r6JQCjTtvwE6fXHHSXkMAEA2wnjEEIx44SCc8QCTURdpTZSWDo51Qd7rfQxTSsSlQtoZpcqJ/OwBhVzfEdctVtqvqgmL4UeIaOKNNrXEmfFSC5EwopQQpZxSLBqtXYy1SYhM9L620wVbNFGkBIe1/MKo+mS1Nzml27dtA/0I0ny8xM53jpxZd486232fPwHrLZJiYnpomGw7Q0Zbl+dZRDH37E8ePDFAp5dux4ANMwuDp6hanJCUJOiCvjVzlx4gSnTp7BNAWtbc2Mjl4hmXKwQwWEkSeRjHD/utV4rsXw8Ee88/YBtmxdR3tHK6ZpYhBCeL7061Ve0q36Dio2yqrx8SXLT7Me92dKQnOshe0NQmMivWAfrVMxRcW4f+P7+AmUNbM1bvbc3w0tVBFR3u2bZFXTzSBXKwhcYokE/QMraG3rAAyNsfeTXC/BJAG0F1zxGrnkoerwWxvDhbQ3QxlLK9yo6pha5acivIFOym1IbZdUwp0hFB7YNE0ymYwqlaI1SV1azL+AX2HMq7p4NSOpli2lvoABnoFEZaM2ZBnTKtPSnsB0SlihGaQxDrhYjklzSwPZpjgTk1cIhQ1aWhvp7m3h0diDvPH6a/zrT/6Z69evs27dOuKJKO2drZw5fZbRqxfZum0db731Fi//4ifkckW27VjP1m1reP9gjt7+ZiLxAi7jzBWvcG38NI3JZto7G0g0JmlMxxCGGySv1Y8KnwlW4EF6k/DxcNKmZmYJtzI+dz35/dKqdhCfPF+HMGXV8Td2IS5yO3X9GpPo55jfLITjvCtNLQs8tsqWqFVRyyTb1MQDqZRmjr5aWkGSLPWwffug2m/rnCY1QQufvBRvkERbO1hEHTTMWOK++hsqRkrtnAs0bIHrebiuS8gJVezOUvnmLX+RaEUZUc0MhYeqGeEq28T8piNNLYlI5Vh3Yh6P7RuiVPLItoXBmgHpEolHeer53azd0E2xWCIajRIOh2lra2O91cnAqjSjo6MkEglWrFhJQyrJ7//hU1y6dJmWlmZaWpoYWN3E5UtXcJwIPT19NDdniCTXsm5zG62dUcLhEru+uJ6unkamJvNYtklre5KurjaEWcQTxUrIck2dhQDs4FuBA+OZkPUQmNvD7X2+qMbNfXN0J/t+l43j51nyvSGJpT4q/KFlVsJC6yxNi5OEeZCqxc6pEzLFUscucG7NtW/ylgtSVVCArIvZ9kNzq0NvLV9glVIzBM9AFZYwlO0OtDi9wIwWemfQhn+Jh2lLuntbAUOVidRMR4gyzW0pss0blDMVVYtGAXUF6zYM4rorsCxThwp5DAx20TvQCVJimJLBVA8rBrsRwsQwbISQdPY2IUQDnlRFxhrSETY0rlHYLykxrCKGoTLdVAtEAdOXUB2a5dukfAucj/OqjGLVH3GTE+lzTXd9B5bpNkmg1kNNPPMtaAzzNo+lNPP6L251o7zDG2u9wOkLidV9sip3llrVssFzkF4Yr6xSm8kgQ4ioHK4vWXM3SaC6ep7URn51mIvymCnguG8a9esrq/hfy6qI06CcBJalw8h0tSflVBBBSKNhWniui5QKvSqFhSEsTMuu3EO3qqbd2tDmG5u9wLygmLQnQUqHkqdidw3f6XAj+8wyLdNdTn6I6bwyLPcMLdWpOpYvAybpIWUZz5OUS4LR0XGGD18iGjVBlnBlCQKj9cJSRxC2BXieD1ZVGTYC1uLHalfJ2cI/eYGO+GVBq0PJqm0NwlDSrgzCipQRVpUSXaQ2sm9JCPqipWGvwvz8ms7ScBj5+Dqz+SLxWPV5y7RM9xApUbLWY1+7TO8tWqqkaT3/FKrQNX4MtGWZtDS1cuH8ed5++xD5uTmuX79GoVBQeRkFOlGroUMCwa+DrQZUKn0/wB1qNdb3eutv58M/FmGSdb/4dpKK1121myDMUF/LT5hab7dY5KkrI7Cn6oP7kBjDwDMscjmYmSnQkLLwPLeCk7t3DJPLtEzz1U65wJfBj596cz5XZAHa9ugRCkX4ws6HWHPfWjzX4+OzI3z44QdMTEwqMG0VVET6cdOBcQ4UXEBn/pU+g5yf8XdePdwlEl7Wnlj9wdMGWG+BA2QFckLlKzEP3Ka/lxJ0sll1XYFl2bgYhEM2DY3dOFYUwzBxXRm0fFmoXKZ7lv6jzu0F+m1Vu41M0yKbaSaTaaZULJLPu0RPnSWXLyMwAqClz4QUE7SqruzDZ/zffIdI7d0rKmu9y+pmSNYxx6prSKOKWc+HGyxsLqgcI/xwHAmGYeFJgWE4uFLZWF3Xo1x25523TMu0TPcuWSAwDRtPGhUVUghc4eE4YVKpRjwPXNcNfvfrT4saJggV6Q4CphV4Txdikp+ENHazBvgNFQ+1BNxF8ViLxqCibKYVvJXQKeJNXCmw7RCeLBMJhwmHo8rrLe9ycPEyLdMy3ZCE9KRE1jIVhUZ3yecLzM7OBKU9a06sYiaqFojEj0ipOXZeqJoI8s7dOlXusbgkV20SqJISbyGTSU0gvScULEqnXzNMiMfjhCMRTNPAL4a+TMu0TPcmaSYptY2xwlxqgsTVoTWOj3ok/bwLz0uzUw0ful0m6dPi0S83btPNHutvAio7ugpl0mF1hhFkU19mlMu0TPcmLZhPMmAQOpTMZyJLMcalw48q0t0C0NNPhW5FDb7hscJvtTEfZFvvgl+mZVqme4oqTNLPc6SpnlHqgxa5zEKQnsWOvZMOj6XuU5daaSFM0E0dW21LpTZV1jJzXKZluudJM0l/tS+gBlfxlVpb4uKS5I0Y4Sf3ddR7p2+e4d7KPRc8VuvUSwHUl2mZluneI2WThM8YHH2nuMrnpM3LTHKZlumepYq6fVdCWe7GNi/TMi3T3UT/H7+c7E5/BLBCAAAAAElFTkSuQmCC)"
      ],
      "metadata": {
        "id": "PVRnIgoeFoBj"
      }
    },
    {
      "cell_type": "markdown",
      "source": [
        "## 🧪***Types of Experimental Design***🧪"
      ],
      "metadata": {
        "id": "M7wxDVwUBn0m"
      }
    },
    {
      "cell_type": "markdown",
      "source": [
        "<colgroup>\n",
        "    <col style=\"width: 50%\">\n",
        "    <col style=\"width: 50%\">\n",
        "    <col style=\"width: 50%\">\n",
        "</colgroup>\n",
        "\n",
        "\n",
        "\n",
        "| Type of Design |||| Category |||| Examples |\n",
        "| :--- |||| :---: |||| :---: |\n",
        "| Randomized designs |||| Designs where subjects are randomly assigned to groups |||| Post-test only design, pretest-post-test only design, Solomon four group design, factorial design |\n",
        "| Quasi-experimental designs |||| Designs where subjects are not randomly assigned to groups |||| Non-equivalent control group designs, time series design |\n",
        "| Pre-experimental designs |||| Designs with no control group and no pretest |||| One shot case design, one group pretest post test design |\n"
      ],
      "metadata": {
        "id": "dvQ69twYKAPn"
      }
    },
    {
      "cell_type": "markdown",
      "source": [
        "###**Randomized designs**\n",
        "\n",
        "* In this type of experimental design, the subjects are randomly assigned to different treatment groups.\n",
        "\n",
        "* One example of a randomized design is a clinical trial for a new medication, where patients are randomly assigned to either the treatment group (receiving the new medication) or the control group (receiving a placebo)."
      ],
      "metadata": {
        "id": "EwwbKRj_KA_h"
      }
    },
    {
      "cell_type": "markdown",
      "source": [
        "![image.png](data:image/png;base64,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)"
      ],
      "metadata": {
        "id": "qzKuunMt0c8R"
      }
    },
    {
      "cell_type": "markdown",
      "source": [
        "#### **Post-test only design**"
      ],
      "metadata": {
        "id": "g5QKiKKHvl7j"
      }
    },
    {
      "cell_type": "markdown",
      "source": [
        "![image.png](data:image/png;base64,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)"
      ],
      "metadata": {
        "id": "D2P_GmOSz2QP"
      }
    },
    {
      "cell_type": "markdown",
      "source": [
        "\n",
        "* In this design, subjects are randomly assigned to either the treatment or control group and are measured on the dependent variable after the treatment is given.\n",
        "* An example of this could be a study measuring the effectiveness of a new exercise program by comparing the fitness levels of participants who completed the program with those who did not.\n",
        "\n",
        "📊${\\color{Black}{Formula:}}$\n",
        "\n",
        "The formula for the post-test only design is as follows:\n",
        "\n",
        "${𝑌 = 𝑋 + ε}$\n",
        "\n",
        "Where:\n",
        "\n",
        "* $Y$ = the dependent variable measured after the intervention\n",
        "* $X$ = the intervention or treatment\n",
        "* ${ε}$ = the error term\n",
        "\n",
        "⏩${\\color{Black}{Example:}}$\n",
        "\n",
        "Suppose we want to evaluate the effectiveness of a new pain medication. We randomly select 100 patients with chronic pain and divide them into two groups: treatment and control. The treatment group receives the new medication while the control group receives a placebo. After two weeks, we measure the level of pain using a pain scale from 1 to 10.\n",
        "\n",
        "The data we collected is as follows:\n",
        "\n",
        "Treatment Group: ${𝑌_1 = 𝑋_1 + 𝜀_1}$\n",
        "\n",
        "Control Group: ${𝑌_2 = 𝑋_2 + 𝜀_2}$\n",
        "\n",
        "Suppose we found that the average pain score for the treatment group is 4.5, and the average pain score for the control group is 6.5. Using the formula above, we can test whether there is a significant difference between the two groups:\n",
        "\n",
        "${𝑌_1 - 𝑌_2 = (𝑋_1 + 𝜀_1) - (𝑋_2 + 𝜀_2)}$\n",
        "\n",
        "${𝑌_1 - 𝑌_2 = 𝑋_1 - 𝑋_2 + (𝜀_1 - 𝜀_2)}$\n",
        "\n",
        "If the difference between the two groups is statistically significant, we can conclude that the new medication is effective in reducing chronic pain.\n"
      ],
      "metadata": {
        "id": "l6AUAdahVCFs"
      }
    },
    {
      "cell_type": "markdown",
      "source": [
        "#### **Pretest-post-test only design**"
      ],
      "metadata": {
        "id": "CKMZf1Dcvv2-"
      }
    },
    {
      "cell_type": "markdown",
      "source": [
        "* This design is similar to the post-test only design, but with the additional step of measuring the dependent variable before the treatment is given.\n",
        "* An example of this could be a study measuring the effect of a new teaching method on student test scores by comparing their scores before and after the new method is implemented.\n",
        "\n",
        "📊${\\color{Black}{Formula:}}$\n",
        "\n",
        "Treatment effect = (Posttest score of treatment group - Pretest score of treatment group) - (Posttest score of control group - Pretest score of control group)\n",
        "\n",
        "⏩${\\color{Black}{Example:}}$\n",
        "\n",
        "Suppose a researcher wants to test the effectiveness of a new teaching method on students' test scores. They randomly assign half of the students to receive the new teaching method (treatment group) and half to receive the traditional teaching method (control group). Before the teaching methods are implemented, all students take a pretest. After the teaching methods are implemented, all students take a posttest. The results are as follows:\n",
        "\n",
        "Treatment group: Pretest mean = 65, Posttest mean = 85\n",
        "Control group: Pretest mean = 62, Posttest mean = 75\n",
        "\n",
        "Using the formula, the treatment effect can be calculated as:\n",
        "\n",
        "Treatment effect = (85 - 65) - (75 - 62) = 10\n",
        "\n",
        "Therefore, the new teaching method resulted in a significant treatment effect of 10 points on the posttest scores.\n"
      ],
      "metadata": {
        "id": "2J17TQMHwKVN"
      }
    },
    {
      "cell_type": "markdown",
      "source": [
        "##### 🏃**Activity** 🏃\n",
        "\n",
        "A researcher conducts a study to evaluate the effectiveness of a new exercise program on weight loss. The study includes two groups: the exercise group and the control group. The researcher measures the participants' weights before and after the program. The results are as follows:\n",
        "\n",
        "Exercise group: Pretest mean = 75 kg, Posttest mean = 70 kg\n",
        "Control group: Pretest mean = 73 kg, Posttest mean = 72 kg\n"
      ],
      "metadata": {
        "id": "2q-Ivv6cIAmr"
      }
    },
    {
      "cell_type": "markdown",
      "source": [
        "<details>\n",
        "<summary>Using the treatment effect formula, calculate the treatment effect of the exercise program on weight loss.\n",
        "<br>A) 1 kg\n",
        "<br>B) -2 kg\n",
        "<br>C) 3 kg\n",
        "<br>D) -5 kg\n",
        "</summary>\n",
        "\n"
      ],
      "metadata": {
        "id": "or6zI8CRN5OY"
      }
    },
    {
      "cell_type": "markdown",
      "source": [
        "#### **Solomon four group design**"
      ],
      "metadata": {
        "id": "J35Acoz0xB1R"
      }
    },
    {
      "cell_type": "markdown",
      "source": [
        "Solomon four group design is a type of experimental design that combines the post-test only and pretest-post-test only designs to increase the reliability of the experiment. In this design, there are four groups:\n",
        "\n",
        "* Group 1 receives the treatment and takes the post-test\n",
        "* Group 2 receives the treatment and takes the pretest and post-test\n",
        "* Group 3 takes the pretest and post-test but does not receive the treatment\n",
        "* Group 4 does not receive the treatment and only takes the post-test\n",
        "\n",
        "📊${\\color{Black}{Formula:}}$\n",
        "\n",
        "${𝑌_1 = 𝜇 + 𝜏 + 𝜂_1 + 𝜖_1}$\n",
        "\n",
        "${𝑌_2 = 𝜇 + 𝜏 + 𝜂_2 + 𝜖_2}$\n",
        "\n",
        "${𝑌_3 = 𝜇 + 𝜂_3 + 𝜖_3}$\n",
        "\n",
        "${𝑌_4 = 𝜇 + 𝜂_4 + 𝜖_4}$\n",
        "\n",
        "Where:\n",
        "\n",
        "* $Y_1$ = the score of Group 1 (treatment and post-test)\n",
        "\n",
        "* $Y_2$ = the score of Group 2 (treatment, pretest, and post-test)\n",
        "\n",
        "* $Y_3$ = the score of Group 3 (pretest and post-test only)\n",
        "\n",
        "* $Y_4$ = the score of Group 4 (no treatment and post-test only)\n",
        "\n",
        "* $𝜇$ = the overall mean score of all the groups\n",
        "\n",
        "* $𝜏$ = the effect of the treatment\n",
        "\n",
        "* ${𝜂_1, 𝜂_2, 𝜂_3, 𝜂_4}$ = the random error for each group\n",
        "\n",
        "* ${𝜖_1, 𝜖_2, 𝜖_3, 𝜖_4}$ = the residual error for each group\n",
        "\n",
        "⏩${\\color{Black}{Example:}}$\n",
        "\n",
        "A company wants to test a new training program to see if it improves employees' productivity. They randomly assign their employees to one of the four groups. The scores of the groups are as follows:\n",
        "\n",
        "Group 1 (treatment and post-test): 80\n",
        "\n",
        "Group 2 (treatment, pretest, and post-test): 75\n",
        "\n",
        "Group 3 (pretest and post-test only): 70\n",
        "\n",
        "Group 4 (no treatment and post-test only): 72\n",
        "\n",
        "The overall mean score of all the groups is (80 + 75 + 70 + 72) / 4 = 74.25.\n",
        "\n",
        "The effect of the treatment $(𝜏)$ is calculated as follows:\n",
        "\n",
        "${𝜏 = [(Y1 - 𝜇) - (Y2 - 𝜇)] - [(Y4 - 𝜇) - (Y3 - 𝜇)]}$  \n",
        "\n",
        "= (80 - 74.25) - (75 - 74.25) - (72 - 74.25) + (70 - 74.25)\n",
        "\n",
        "= 5.75 - 2.75 - 2.25 + 4.25\n",
        "\n",
        "= 5\n",
        "\n",
        "The result indicates that the new training program has a significant positive effect on employees' productivity, with an effect size of 5."
      ],
      "metadata": {
        "id": "5V72vtQhxIRp"
      }
    },
    {
      "cell_type": "markdown",
      "source": [
        "#### **Factorial Design**"
      ],
      "metadata": {
        "id": "iW9peOGg0Hma"
      }
    },
    {
      "cell_type": "markdown",
      "source": [
        "* Factorial design is a type of experimental design that involves the manipulation of two or more independent variables to study their effects on the dependent variable. In other words, it is a design that looks at how different levels of multiple factors (variables) affect the outcome.\n",
        "\n",
        "\n",
        "📊${\\color{blue}{Formula:}}$\n",
        "\n",
        "${Y = μ + A + B + AB + e}$\n",
        "\n",
        "where\n",
        "* Y = the dependent variable\n",
        "* μ = the overall mean of the dependent variable\n",
        "* A = the first independent variable\n",
        "* B = the second independent variable\n",
        "* AB = the interaction effect between the first and second independent variables\n",
        "* e = the error term\n",
        "\n",
        "⏩${\\color{red}{Example:}}$\n",
        "\n",
        "Suppose a company wants to test the effectiveness of two advertising strategies, A and B, on the sales of their product. They also want to test whether the effectiveness of the two strategies is different in different regions of the country. They decide to use a 2 x 2 factorial design, with A and B as the two factors, and region (East vs West) as a blocking variable. They randomly assign their customers to one of the four groups as follows:\n",
        "\n",
        "* Group 1: Strategy A in East\n",
        "* Group 2: Strategy A in West\n",
        "* Group 3: Strategy B in East\n",
        "* Group 4: Strategy B in West\n",
        "\n",
        "They collect data on the sales of the product for each group and use the formula Y = μ + A + B + AB + e to analyze the data, where:\n",
        "\n",
        "* Y = Sales of the product\n",
        "* μ = The overall mean sales of the product\n",
        "* A = Effect of advertising strategy A\n",
        "* B = Effect of advertising strategy B\n",
        "* AB = Interaction effect between A and B\n",
        "* e = Error term\n",
        "\n",
        "They obtain the following results:\n",
        "\n",
        "📉 Mean sales in Group 1: 100\n",
        "\n",
        "📈 Mean sales in Group 2: 120\n",
        "\n",
        "📉Mean sales in Group 3: 110\n",
        "\n",
        "📈Mean sales in Group 4: 130\n",
        "\n",
        "Using the formula, they can calculate the effects of A, B, and AB as follows:\n",
        "\n",
        "A = (Group 1 sales + Group 2 sales) / 2 - μ = (100 + 120) / 2 - 115 = 2.5\n",
        "\n",
        "B = (Group 1 sales + Group 3 sales) / 2 - μ = (100 + 110) / 2 - 115 = -2.5\n",
        "\n",
        "AB = Group 4 sales - (A + B + μ) = 130 - (2.5 - 2.5 + 115) = 10\n",
        "From these results, they can conclude that:\n",
        "\n",
        "* Advertising strategy A has a positive effect on sales, with an estimated increase of 2.5 units.\n",
        "\n",
        "* Advertising strategy B has a negative effect on sales, with an estimated decrease of 2.5 units.\n",
        "\n",
        "* There is an interaction effect between A and B, with the combined effect of the two strategies being greater than the sum of their individual effects.\n",
        "\n",
        "* The effectiveness of the strategies is not significantly different in the East vs West regions.\n",
        "\n",
        "These conclusions can help the company make more informed decisions about their advertising strategies in different regions of the country."
      ],
      "metadata": {
        "id": "pZIV_x-t0GMU"
      }
    },
    {
      "cell_type": "markdown",
      "source": [
        "### **Quasi-experimental designs**\n",
        "\n",
        "* This type of design is used when it is not possible to randomly assign subjects to groups. Instead, groups are chosen based on some pre-existing characteristic.\n",
        "\n",
        "* An example of a quasi-experimental design is studying the effect of a new teaching method on student performance by comparing two different schools, one using the new method and the other using the traditional method.\n"
      ],
      "metadata": {
        "id": "Nka8ulMQUjpg"
      }
    },
    {
      "cell_type": "markdown",
      "source": [
        "#### **Non-equivalent control group designs**"
      ],
      "metadata": {
        "id": "DVIMZg5H5zoJ"
      }
    },
    {
      "cell_type": "markdown",
      "source": [
        "Non-equivalent control group design is a type of quasi-experimental design where subjects are not randomly assigned to groups, and the groups are not initially equivalent. In this design, a treatment group and a control group are used, but they are not equivalent at the start of the study.\n",
        "\n",
        "📊${\\color{blue}{Formula:}}$\n",
        "\n",
        "<br>\n",
        "\n",
        "${𝑌𝑇 = 𝑎 + 𝑏_1 𝑋_1 + 𝑏_2 𝑋_2 + 𝑏_3 𝑋_3 + 𝑏_4 𝑋_4 + 𝑒}$\n",
        "\n",
        "Where:\n",
        "- $YT$ is the post-test score of the treatment group\n",
        "- $a$ is the constant or intercept\n",
        "- $b_1-b_4$ are the regression coefficients for the independent variables X1-X4\n",
        "- $X_1-X_4$ are the independent variables or predictors\n",
        "- $e$ is the error term\n",
        "\n",
        "⏩${\\color{red}{Example:}}$\n",
        "\n",
        "Suppose a school district implements a new reading program in half of its schools, while the other half do not use the new program. To evaluate the effectiveness of the new program, a test is given to students in both groups before and after the program is implemented.\n",
        "\n",
        "The post-test scores for the treatment group and the control group are recorded as follows:\n",
        "\n",
        "- Treatment group: 75, 80, 85, 90\n",
        "- Control group: 70, 75, 80, 85\n",
        "\n",
        "Using the non-equivalent control group design formula, we can calculate the effectiveness of the reading program as follows:\n",
        "\n",
        "${YT = a + b_1X_1 + e}$\n",
        "\n",
        "Where:\n",
        "- $YT$ is the post-test score of the treatment group\n",
        "- $X_1$ is the independent variable, which represents whether the school used the new reading program or not (0 = no, 1 = yes)\n",
        "- $a$ is the intercept, which represents the mean post-test score of the control group\n",
        "- $b_1$ is the difference in mean post-test scores between the treatment group and the control group\n",
        "\n",
        "Plugging in the numbers, we get:\n",
        "\n",
        "${YT = 75 + (80-72.5)X_1 + e}$\n",
        "\n",
        "${YT = 72.5 + 7.5X_1 + e}$\n",
        "\n",
        "The coefficient 7.5 indicates that the treatment group scored, on average, 7.5 points higher than the control group on the post-test."
      ],
      "metadata": {
        "id": "xXWHHv_B5-EM"
      }
    },
    {
      "cell_type": "markdown",
      "source": [
        "#### **Time series design**"
      ],
      "metadata": {
        "id": "xvT0Y6827fum"
      }
    },
    {
      "cell_type": "markdown",
      "source": [
        "Time series design is a type of experimental design in which the same group is measured multiple times over a period of time. It is commonly used in economics, finance, and other fields to track changes over time.\n",
        "\n",
        "<br>\n",
        "\n",
        "📊${\\color{Pink}{Formula:}}$\n",
        "\n",
        "<br>\n",
        "\n",
        "${Y_1, Y_2, Y_3, ... Y_n = μ + T + e}$\n",
        "\n",
        "Where:\n",
        "\n",
        "- $Y_1, Y_2, Y_3, ... Y_n$ are the dependent variables measured at different time points\n",
        "- $μ$ is the mean of the dependent variable\n",
        "- $T$ is the trend or effect of time on the dependent variable\n",
        "- $e$ is the random error\n",
        "\n",
        "\n",
        "\n",
        "---\n",
        "\n",
        "\n",
        "\n",
        "⏩${\\color{#90EE90}{Example:}}$\n",
        "\n",
        " A company wants to study the effectiveness of their marketing campaign over the last 12 months. They measure the sales of their product every month for a year. The dependent variable is the sales of the product, and the independent variable is time. They can use the time series design to analyze the data and see if there is a trend in the sales over the 12-month period.\n",
        "\n",
        "In the given problem, we have:\n",
        "\n",
        "- Dependent variable: Sales of the product\n",
        "- Independent variable: Time (measured in months)\n",
        "\n",
        "\n",
        "Using this formula, we can analyze the data collected by the company to see if there is a trend in the sales over the 12-month period.\n",
        "\n",
        "Let's assume that the company collected data on sales every month for a year and recorded the following values:\n",
        "\n",
        "<br>\n",
        "\n",
        "${Y_1 = 100, Y_2 = 120, Y_3 = 140, Y_4 = 130, Y_5 = 150, Y_6 = 170, Y_7 = 180, Y_8 = 190, Y_9 = 200, Y_{10} = 210, Y_{11} = 230, Y_{12} = 240}$\n",
        "\n",
        "<br>\n",
        "\n",
        "- To apply the formula, we first need to find the overall mean of the dependent variable $(μ)$:\n",
        "\n",
        "<br>\n",
        "\n",
        "${μ = \\frac{(Y_1 + Y_2 + Y_3 + ... + Y_12)}{12}}$\n",
        "\n",
        "${μ = \\frac{(100 + 120 + 140 + ... + 240)}{12}}$\n",
        "\n",
        "${μ = 175}$\n",
        "\n",
        "Next, we need to calculate the trend over time (T). One way to do this is by fitting a linear regression line to the data. We can use statistical software to do this, and the output will give us the slope of the line (which is the trend) and the error term.\n",
        "\n",
        "Assuming that the linear regression model is a good fit for the data, let's say we obtain the following equation:\n",
        "\n",
        "Sales = 95 + 8.5*time + error\n",
        "\n",
        "where Sales is the dependent variable (Y), time is the independent variable (T), 95 is the intercept (the expected value of sales when time is zero), and 8.5 is the slope (the increase in sales per month).\n",
        "\n",
        "Using this equation, we can estimate the sales for each month:\n",
        "\n",
        "$Y_1$ = 95 + 8.5*1 + error1\n",
        "\n",
        "$Y_2$ = 95 + 8.5*2 + error2\n",
        "\n",
        "$Y_3$ = 95 + 8.5*3 + error3\n",
        "\n",
        ":    \n",
        ":    \n",
        "$Y_12$ = 95 + 8.5*12 + error12\n",
        "\n",
        "We can then compare the observed values ($Y_1$ to $Y_12$) with the estimated values to see if there is a trend in the sales over time. If the estimated values follow a similar pattern to the observed values, we can conclude that there is a trend in the sales. If there is no pattern or the pattern is different, we cannot conclude that there is a trend.\n",
        "\n",
        "This is an example of how the time series design formula can be used to analyze data and identify trends over time."
      ],
      "metadata": {
        "id": "vW3T8Yn07sLU"
      }
    },
    {
      "cell_type": "markdown",
      "source": [
        "### **Pre-experimental designs**\n",
        "\n",
        "* This type of design is the most basic and involves only one group.\n",
        "\n",
        "* An example of a pre-experimental design is when a company introduces a new training program for their employees and compares their performance before and after the training."
      ],
      "metadata": {
        "id": "6nePRQmnUllZ"
      }
    },
    {
      "cell_type": "markdown",
      "source": [
        "#### **One-shot case design**"
      ],
      "metadata": {
        "id": "GESyBxoJOFLk"
      }
    },
    {
      "cell_type": "markdown",
      "source": [
        "One-shot case design is a pre-experimental design that involves measuring the effect of an independent variable on a dependent variable, where a single group of subjects is tested after the introduction of an independent variable. This design lacks a control group, and there is no pre-test to determine if the groups are equivalent. Therefore, it can be difficult to establish causality.\n",
        "\n",
        "📊${\\color{Pink}{Formula:}}$\n",
        "\n",
        "${Y = X + e}$\n",
        "\n",
        "where:\n",
        "- Y is the dependent variable,\n",
        "- X is the independent variable,\n",
        "- $e$ is the error term."
      ],
      "metadata": {
        "id": "b3dTTQw3OG_9"
      }
    },
    {
      "cell_type": "markdown",
      "source": [
        "#### **One group pretest posttest design**"
      ],
      "metadata": {
        "id": "QD0SJTEnTMnn"
      }
    },
    {
      "cell_type": "markdown",
      "source": [
        "One group pretest posttest design is a type of experimental design in which only one group of subjects is used, and they are tested twice - once before a treatment or intervention (pretest) and once after (posttest). This design is used to measure the change in the dependent variable that is a result of the treatment or intervention.\n",
        "\n",
        "📊${\\color{Pink}{Formula:}}$\n",
        "\n",
        "\n",
        "${∆Y = Y_2 - Y_1}$\n",
        "\n",
        "\n",
        "where:\n",
        "- ∆Y represents the change in the dependent variable,\n",
        "- $Y_2$ is the posttest score,\n",
        "- $Y_1$ is the pretest score."
      ],
      "metadata": {
        "id": "ekW22kOqTe3S"
      }
    },
    {
      "cell_type": "markdown",
      "source": [
        "### **Formula summary**"
      ],
      "metadata": {
        "id": "KmdCVIUi5YF-"
      }
    },
    {
      "cell_type": "markdown",
      "source": [
        "<colgroup>\n",
        "    <col style=\"width: 50%\">\n",
        "</colgroup>\n",
        "\n",
        "\n",
        "\n",
        "| Experimental Design | Formula |\n",
        "| --- | --- |\n",
        "| Post-test only design | Treatment effect = ${Y_1 - Y_2}$ |\n",
        "| Pretest-post-test only design | Treatment effect = ${(Y_3 - Y_4) - (Y_1 - Y_2)}$ |\n",
        "| Solomon four group design | Treatment effect = ${(Y_3 - Y_4) - (Y_1 - Y_2)}$ |\n",
        "| Factorial design | Treatment effect = main effect A + main effect B + interaction AB |\n",
        "| Randomized block design | Treatment effect = ${(Y_1 - Y_2) - (Y_3 - Y_4)}$ |\n",
        "| Repeat measure design | Treatment effect = ${Y_1 - Y_2}$ |\n",
        "| Non-equivalent control group designs | Treatment effect = ${(Y_1 - Y_3) - (Y_2 - Y_4)}$ |\n",
        "| Time series design | Treatment effect = ${Y_1 - Y_2}$ |\n",
        "| Counter balanced designs | Treatment effect = ${(Y_1 - Y_2) - (Y_3 - Y_4)}$ |\n",
        "| One shot case design | Treatment effect = ${Y_1 - Y_2}$ |\n",
        "| One group pretest post test design | Treatment effect = ${Y_2 - Y_1}$ |"
      ],
      "metadata": {
        "id": "Yd5LZTnyKBIU"
      }
    },
    {
      "cell_type": "markdown",
      "source": [
        "## ***Hypothesis Testing***"
      ],
      "metadata": {
        "id": "9DfJ4oc7UARj"
      }
    },
    {
      "cell_type": "markdown",
      "source": [
        "🧪🧐Hypothesis testing is commonly applied in experimental design to determine whether there is a significant difference between two groups📊 or conditions. The process involves setting up a null hypothesis $(H_0)$ and an alternative hypothesis $(H_a)$. The null hypothesis assumes that there is no significant difference between the groups, while the alternative hypothesis assumes that there is a significant difference."
      ],
      "metadata": {
        "id": "EwNAD3K9UG_i"
      }
    },
    {
      "cell_type": "markdown",
      "source": [
        "### **Steps to apply Hypothesis testing in Experimental design**"
      ],
      "metadata": {
        "id": "48m8K4KlW2wq"
      }
    },
    {
      "cell_type": "markdown",
      "source": [
        "- <u>**Step - 1:**</u> Formulate the null and alternative hypotheses\n",
        "- <u>**Step - 2:**</u> Select a level of significance (alpha level)\n",
        "- <u>**Step - 3:**</u> Choose an appropriate statistical test\n",
        "- <u>**Step - 4:**</u> Collect and analyze the data\n",
        "- <u>**Step - 5:**</u> Calculate the test statistic and p-value\n",
        "- <u>**Step - 6:**</u> Make a decision to reject or fail to reject the null hypothesis"
      ],
      "metadata": {
        "id": "0qYNyaK_Yv1Z"
      }
    },
    {
      "cell_type": "markdown",
      "source": [
        "### 📺 **Example**📺"
      ],
      "metadata": {
        "id": "FYqQsfeGaM_J"
      }
    },
    {
      "cell_type": "markdown",
      "source": [
        "A new fertilizer 🥫 has been developed for a specific type of plant 🌱, and a group of researchers 👨‍💼 wants to test whether this fertilizer has a significant effect on plant growth 🌴 compared to the standard fertilizer. They plan to conduct a randomized controlled trial, where they randomly assign 50 plants🌼 to either the new fertilizer group or the standard fertilizer group."
      ],
      "metadata": {
        "id": "iQz7AZspac0m"
      }
    },
    {
      "cell_type": "markdown",
      "source": [
        "####🔬**Formulate the null and alternative hypotheses:**🔬\n",
        "\n",
        "Null hypothesis: The mean growth of plants treated with the new fertilizer is not significantly different from the mean growth of plants treated with the standard fertilizer.\n",
        "\n",
        "Alternative hypothesis:\n",
        "\n",
        "The mean growth of plants treated with the new fertilizer is significantly different from the mean growth of plants treated with the standard fertilizer.\n",
        "\n",
        "----\n",
        "\n",
        "#### 📈 **Select a level of significance (alpha level):** 📈\n",
        "\n",
        "Let's assume the researchers choose a significance level of 0.05.\n",
        "\n",
        "----\n",
        "\n",
        "#### 📑 **Choose an appropriate statistical test:** 📑\n",
        "\n",
        "Since there are two independent groups (new fertilizer group and standard fertilizer group) and we are comparing their means, we can use a two-sample t-test.\n",
        "\n",
        "----\n",
        "\n",
        "#### 📚**Collect and analyze the data:** 📚\n",
        "\n",
        "After 4 weeks of treatment, the researchers measure the height of each plant in both groups. They then calculate the mean and standard deviation of each group.\n",
        "\n",
        "New fertilizer group: mean = 35 cm, standard deviation = 4 cm\n",
        "Standard fertilizer group: mean = 30 cm, standard deviation = 3 cm\n",
        "\n",
        "----\n",
        "\n",
        "#### ✍**Calculate the test statistic and p-value:**✍\n",
        "\n",
        "Using a two-sample t-test with a significance level of 0.05, we get the following results:\n",
        "t-statistic = 2.33\n",
        "p-value = 0.023\n",
        "\n",
        "----\n",
        "\n",
        "#### 🤔 **Make a decision to reject or fail to reject the null hypothesis:** 🤔\n",
        "\n",
        "Since the p-value (0.023) is less than the significance level (0.05), we reject the null hypothesis and conclude that the mean growth of plants treated with the new fertilizer is significantly different from the mean growth of plants treated with the standard fertilizer."
      ],
      "metadata": {
        "id": "eY-bImZVbBx7"
      }
    },
    {
      "cell_type": "markdown",
      "source": [
        "### **Pros and Cons**"
      ],
      "metadata": {
        "id": "Bt5XGhENW6bw"
      }
    },
    {
      "cell_type": "markdown",
      "source": [
        "#### **Pros**"
      ],
      "metadata": {
        "id": "P158YpwJW6fQ"
      }
    },
    {
      "cell_type": "markdown",
      "source": [
        "👍 Provides a standardized approach to analyzing data\n",
        "\n",
        "👍 Allows for objective decision-making based on statistical evidence\n",
        "\n",
        "👍 Provides a measure of confidence in the results"
      ],
      "metadata": {
        "id": "GFl2oyEUW6ka"
      }
    },
    {
      "cell_type": "markdown",
      "source": [
        "#### **Cons**"
      ],
      "metadata": {
        "id": "DrAjXiTdXF7O"
      }
    },
    {
      "cell_type": "markdown",
      "source": [
        "👎 Can be affected by sample size, outliers, and other factors that may not be relevant to the research question\n",
        "\n",
        "👎 May not provide a complete picture of the data and may oversimplify complex relationships between variables\n",
        "\n",
        "👎 May be influenced by researcher bias or other factors that are difficult to control for."
      ],
      "metadata": {
        "id": "4G7ENGIvXGEk"
      }
    },
    {
      "cell_type": "markdown",
      "source": [
        "## ***Sampling Methods***"
      ],
      "metadata": {
        "id": "6zy7CHRZjdbO"
      }
    },
    {
      "cell_type": "markdown",
      "source": [
        "> Sampling is the process of selecting a representative subset of the population for study 📚 in order to make inferences about the entire population. In experimental design 🔬, sampling refers to the process of selecting 📝 individuals or units 📰 from the population to be included in the study.\n",
        "\n"
      ],
      "metadata": {
        "id": "SUyLt6TDjdiA"
      }
    },
    {
      "cell_type": "markdown",
      "source": [
        "### **Types of sampling Methods**"
      ],
      "metadata": {
        "id": "b2GO0x2-jdl5"
      }
    },
    {
      "cell_type": "markdown",
      "source": [
        "There are two main types of sampling methods:\n",
        "- Probability sampling\n",
        "- Non-probability sampling."
      ],
      "metadata": {
        "id": "-p5LeUFBtYDo"
      }
    },
    {
      "cell_type": "markdown",
      "source": [
        "#### **Probability Sampling**"
      ],
      "metadata": {
        "id": "IZC_o6RU5rBO"
      }
    },
    {
      "cell_type": "markdown",
      "source": [
        ">> Probability sampling involves selecting individuals or units from the population at random.\n",
        "\n",
        "⏩${\\color{red}{Example:}}$\n",
        "\n",
        "- simple random sampling -> Involves selecting individuals or units at random from the population.\n",
        "- stratified random sampling -> Involves dividing the population into strata based on some characteristic and then randomly selecting individuals or units from each stratum.\n",
        "- cluster sampling -> Involves dividing the population into clusters and then randomly selecting entire clusters for inclusion in the study.\n",
        "- Systematic Sampling -> involves selecting every nth item from a population. The value of n is determined by dividing the population size by the desired sample size.\n",
        "\n"
      ],
      "metadata": {
        "id": "azDYAayKwFoW"
      }
    },
    {
      "cell_type": "markdown",
      "source": [
        "### **Non-Probability Sampling**"
      ],
      "metadata": {
        "id": "Pcm-dDJTtSPu"
      }
    },
    {
      "cell_type": "markdown",
      "source": [
        ">> Non-probability sampling involves selecting individuals or units based on some non-random criterion.\n",
        "\n",
        "\n",
        "⏩${\\color{red}{Example:}}$\n",
        "\n",
        "- convenience sampling -> Involves selecting individuals or units based on their availability and accessibility.\n",
        "- purposive sampling -> Involves selecting individuals or units based on some specific criterion, such as age, gender, or occupation.\n",
        "- snowball sampling -> Involves selecting individuals or units based on referrals from other individuals or units already included in the study.\n"
      ],
      "metadata": {
        "id": "VmK-sr5654LW"
      }
    },
    {
      "cell_type": "markdown",
      "source": [
        "#### **Recipe for Types of Probability Sampling**"
      ],
      "metadata": {
        "id": "l2jW2N0K54jE"
      }
    },
    {
      "cell_type": "markdown",
      "source": [
        "<colgroup>\n",
        "    <col style=\"width: 50%\">\n",
        "</colgroup>\n",
        "\n",
        "\n",
        "| Sampling Method |||| Formula |||||| Example |\n",
        "| --- |||| :---: |||||| :--- |\n",
        "| Simple Random Sampling |||| $\\frac{n}{N}$ |||||| Suppose there are 100 students in a school and you want to select a sample of 20 students to survey.<br> You can assign each student a number from 1 to 100, and use a random number generator to select 20 students. |\n",
        "| Stratified Sampling |||| ${\\frac{n_k}{N_k}}$ $.$ ${\\frac{N-n}{n-N_k}}$ |||||| Suppose you want to survey the student body of a school, but you know that the school has 60% female students and 40% male students.<br> You can use stratified sampling to ensure that your sample reflects the gender distribution of the school.<br> First, divide the population into two strata: female and male. <br>Then, randomly select a proportionate number of students from each stratum. |\n",
        "| Systematic Sampling |||| $k = \\frac{N}{n}$ |||||| Suppose you want to survey every 10th person in a line.<br> You can use systematic sampling by selecting a random starting point between 1 and 10,<br> and then selecting every 10th person from there on. |\n",
        "| Cluster Sampling |||| ${\\frac{1}{M}}$ ${\\sum_{i=1}^{M} \\frac{n_i}{N_i}}$ |||||| Suppose you want to survey the employees of a large company, but it is difficult to reach every employee. <br>You can use cluster sampling by dividing the company into clusters (e.g. departments), and randomly selecting a proportionate number of clusters to survey.<br> Then, you can survey all the employees in the selected clusters. |\n"
      ],
      "metadata": {
        "id": "8M9m1DT7jdre"
      }
    },
    {
      "cell_type": "markdown",
      "source": [
        "Note:\n",
        "- $n$ represents the sample size\n",
        "- $N$ represents the population size\n",
        "- $n_k$ represents the sample size for the $k$th stratum\n",
        "- $N_k$ represents the population size for the $k$th stratum\n",
        "- $M$ represents the number of clusters"
      ],
      "metadata": {
        "id": "Dh3KTU-0pXST"
      }
    },
    {
      "cell_type": "markdown",
      "source": [
        "### Recipe for Types of Non-Probability Sampling"
      ],
      "metadata": {
        "id": "OQDxtfW0C-ng"
      }
    },
    {
      "cell_type": "markdown",
      "source": [
        "<colgroup>\n",
        "    <col style=\"width: 50%\">\n",
        "</colgroup>\n",
        "\n",
        "| Sampling Method |||| Formula |||| Example |\n",
        "| --- |||| --- |||| :---: |\n",
        "| Convenience Sampling |||| N/A |||| Conducting a survey on the street by asking passersby to participate |\n",
        "| Quota Sampling |||| $n = (\\frac{N_{stratum}}{N} \\times n_{total})$ |||| Conducting a survey in a university by quota sampling 100 students, with 30 from the School of Business, 40 from the School of Arts, and 30 from the School of Sciences |\n",
        "| Purposive Sampling |||| N/A |||| Conducting a study on the experiences of cancer patients by selecting participants who have been diagnosed with cancer |\n",
        "| Snowball Sampling |||| N/A |||| Conducting a study on homeless youth by recruiting participants through referrals from other homeless youth |\n",
        "| Judgmental Sampling |||| N/A |||| Conducting a study on the effectiveness of a new teaching method by selecting a group of teachers who have been recognized for their exceptional teaching skills |\n",
        "\n"
      ],
      "metadata": {
        "id": "HINueYs4alNM"
      }
    },
    {
      "cell_type": "markdown",
      "source": [
        "## ***Power Analysis***"
      ],
      "metadata": {
        "id": "N54fuaL-alXi"
      }
    },
    {
      "cell_type": "markdown",
      "source": [
        "- Power analysis is a statistical technique used in experimental design to determine the sample size needed to detect an effect of a certain magnitude with a given level of confidence.\n",
        "- It helps researchers determine the statistical power of their study, which is the probability of correctly rejecting the null hypothesis when the alternative hypothesis is true.\n",
        "\n",
        "<br>\n",
        "\n",
        "📊${\\color{Black}{Formula:}}$\n",
        "\n",
        "<br>\n",
        "\n",
        "${𝑃𝑜𝑤𝑒𝑟 = 1 − 𝛽}$\n",
        "\n",
        "where:\n",
        "- 𝑃𝑜𝑤𝑒𝑟 is the statistical power\n",
        "- $𝛽$ is the probability of committing a Type II error (false negative), which is failing to reject the null hypothesis when the alternative hypothesis is true.\n"
      ],
      "metadata": {
        "id": "bZHdqIzxFhLe"
      }
    },
    {
      "cell_type": "markdown",
      "source": [
        "⏩${\\color{red}{Example:}}$\n",
        "\n",
        "Let's say a researcher wants to investigate the effect of a new teaching method on student performance. They hypothesize that the new method will lead to a 10% improvement in test scores compared to the traditional method. To determine the sample size needed for adequate power, the researcher conducts a power analysis.\n",
        "\n",
        "<br>\n",
        "\n",
        "- Based on previous studies and preliminary data, the researcher estimates the standard deviation of test scores to be 12.\n",
        "- Using a desired power of 0.80 and a significance level of 0.05, the researcher performs a power analysis and determines that a sample size of 100 participants is needed to detect a 10% difference in test scores with sufficient power."
      ],
      "metadata": {
        "id": "IYonsOlFBiXp"
      }
    },
    {
      "cell_type": "markdown",
      "source": [
        "### **Pros and Cons**"
      ],
      "metadata": {
        "id": "_s9JxoGH7sgt"
      }
    },
    {
      "cell_type": "markdown",
      "source": [
        "#### **Pros**"
      ],
      "metadata": {
        "id": "y3-lvOuI7snK"
      }
    },
    {
      "cell_type": "markdown",
      "source": [
        "👍 Helps researchers determine an appropriate sample size, ensuring adequate statistical power.\n",
        "\n",
        "👍 Enhances the reliability and validity of research findings by minimizing the risk of Type II errors.\n",
        "\n",
        "👍 Allows researchers to optimize the allocation of resources, such as time and funding, by focusing on studies that have a high likelihood of detecting an effect."
      ],
      "metadata": {
        "id": "DpxUbMvZ7stf"
      }
    },
    {
      "cell_type": "markdown",
      "source": [
        "#### **Cons**"
      ],
      "metadata": {
        "id": "Tm1l6NfdDFpo"
      }
    },
    {
      "cell_type": "markdown",
      "source": [
        "👎 Power analysis requires assumptions about effect size, variability, and significance level, which may not always accurately reflect the true population parameters.\n",
        "\n",
        "👎 Power analysis is based on statistical assumptions and can be sensitive to deviations from those assumptions.\n",
        "\n",
        "👎 Power analysis does not guarantee that a study will detect an effect if it truly exists, as other factors (e.g., study design, measurement error) can also influence the results."
      ],
      "metadata": {
        "id": "CiZu4VG8DFtC"
      }
    },
    {
      "cell_type": "markdown",
      "source": [
        "###**Activity:Fill in the Blanks**\n",
        "* **Q1:** ____________ is the process of randomly assigning participants to control and experimental groups to minimize bias.\n",
        "\n",
        "\n",
        "* **Q2:**____________ is the systematic investigation of relationships between variables, often through experimentation or observation.\n",
        "\n",
        "\n",
        "* **Q3:**The process of ____________ involves formulating a hypothesis, selecting participants, collecting data, and analyzing the results.\n",
        "\n",
        "* **Q4:**In experimental design, the group that does not receive the treatment is called the ____________.\n",
        "\n"
      ],
      "metadata": {
        "id": "ScGb45H_3-iI"
      }
    },
    {
      "cell_type": "markdown",
      "source": [
        "###**Answers**"
      ],
      "metadata": {
        "id": "CHzMLyEv4Rq0"
      }
    },
    {
      "cell_type": "markdown",
      "source": [
        "* **A1:** Random assignment\n",
        "* **A2:** Statistical analysis\n",
        "* **A3:**  conducting an experiment\n",
        "* **A4:** control group\n"
      ],
      "metadata": {
        "id": "4bjRbpfO4Xe2"
      }
    },
    {
      "cell_type": "markdown",
      "source": [
        "## ***Ethical considerations***"
      ],
      "metadata": {
        "id": "hUCh5STJDFw1"
      }
    },
    {
      "cell_type": "markdown",
      "source": [
        "\n",
        " 📚Ethical considerations play a crucial role in experimental design🔬 as they ensure that the rights and well-being of participants are protected throughout the study.\n",
        "\n",
        "🧐Let's explore ethical considerations in experimental design, along with an example and their pros and cons."
      ],
      "metadata": {
        "id": "uN0X0Mj9DypL"
      }
    },
    {
      "cell_type": "markdown",
      "source": [
        "### **Informed Consent**"
      ],
      "metadata": {
        "id": "UoWb09y_Dzmh"
      }
    },
    {
      "cell_type": "markdown",
      "source": [
        ">> Researchers must obtain informed consent from participants, ensuring they have a clear understanding of the study's purpose, procedures, risks, and benefits before voluntarily agreeing to participate. This can be obtained through written consent forms or verbal agreements. 👥✍️\n",
        "\n",
        "\n",
        "⏩${\\color{red}{Example:}}$\n",
        "\n",
        "Before conducting a study on the effects of a new medication, researchers should inform participants about the potential side effects, benefits, and any alternative treatments available. Participants can then provide informed consent to participate in the study.\n",
        "\n",
        "\n",
        "👍**Pros:**👍\n",
        "- Protects participants' autonomy and right to make decisions about their involvement in research.\n",
        "- Ensures transparency and fosters trust between researchers and participants.\n",
        "\n",
        "👎 **Cons:**👎  \n",
        "- Obtaining informed consent may introduce selection bias if certain individuals choose not to participate based on the study's nature or requirements."
      ],
      "metadata": {
        "id": "8hyI-O3KDz9u"
      }
    },
    {
      "cell_type": "markdown",
      "source": [
        "### **Privacy and Confidentiality**"
      ],
      "metadata": {
        "id": "xgzoTxVjES7M"
      }
    },
    {
      "cell_type": "markdown",
      "source": [
        ">> Researchers must ensure the privacy🔒 and confidentiality of participant data. Personal identifying information should be kept confidential 🤫 and stored securely to prevent unauthorized access or disclosure.🔐\n",
        "\n",
        "<br>\n",
        "\n",
        "⏩${\\color{red}{Example:}}$\n",
        "\n",
        "In a study examining sensitive topics such as mental health, researchers should implement strict confidentiality measures to safeguard participants' personal information and ensure their privacy.\n",
        "\n",
        "👍**Pros:**👍\n",
        "- Protects participants' privacy and fosters trust in the research process.\n",
        "- Encourages participants to provide honest and accurate information.\n",
        "\n",
        "👎**Cons:**👎\n",
        "- Maintaining confidentiality can be challenging, especially when dealing with electronic data storage and potential breaches of security."
      ],
      "metadata": {
        "id": "eGHJCtqUES_h"
      }
    },
    {
      "cell_type": "markdown",
      "source": [
        "### **Minimization of Harm**"
      ],
      "metadata": {
        "id": "ONNZGILEETEe"
      }
    },
    {
      "cell_type": "markdown",
      "source": [
        ">> Researchers should minimize any potential physical or psychological harm ⚠️ to participants. They should carefully assess the risks 🚫 and benefits of the study and take appropriate measures to protect 🛡️ participants' well-being.\n",
        "\n",
        "<br>\n",
        "\n",
        "⏩${\\color{red}{Example:}}$\n",
        "\n",
        "In an experimental study involving medical interventions, researchers must ensure that potential risks to participants' health are minimized, and proper medical supervision is provided throughout the study.\n",
        "\n",
        "👍**Pros:**👍\n",
        "- Prioritizes participant safety and well-being. Demonstrates ethical responsibility towards the participants.\n",
        "\n",
        "👎**Cons:**👎\n",
        "- It can be challenging to anticipate and mitigate all potential risks, especially in complex research designs or when studying vulnerable populations."
      ],
      "metadata": {
        "id": "Ljv4o6dcETJs"
      }
    },
    {
      "cell_type": "markdown",
      "source": [
        "### **Debriefing and Participant Welfare**"
      ],
      "metadata": {
        "id": "WdAatbqPGcRL"
      }
    },
    {
      "cell_type": "markdown",
      "source": [
        ">> Researchers should provide debriefing sessions to participants after the study📝, explaining the purpose, procedures, and results. They should address 🗣️ any questions or concerns raised by participants and ensure their emotional well-being during and after the study.\n",
        "\n",
        "<br>\n",
        "\n",
        "⏩${\\color{red}{Example:}}$\n",
        "\n",
        "After a psychological study involving exposure to stressful stimuli, researchers should conduct a debriefing session to explain the study's purpose, reassure participants, and offer appropriate resources or referrals if necessary.\n",
        "\n",
        "👍**Pros:**👍\n",
        "- Allows participants to gain a better understanding of the study and its implications.\n",
        "- Provides an opportunity for researchers to address any potential negative emotions or concerns.\n",
        "\n",
        "👎**Cons:**👎\n",
        "- Some participants may experience emotional distress as a result of their involvement in the study, even with appropriate debriefing."
      ],
      "metadata": {
        "id": "9Xt-roRaGcWr"
      }
    },
    {
      "cell_type": "markdown",
      "source": [
        "##**Activity:True or False**\n",
        "\n",
        "* **Q1:** Experimental design is not important in statistical analysis.\n",
        "* **Q2:** Random assignment is a key element of experimental design.\n",
        "* **Q3:** Quasi-experimental designs are not suitable for research studies.\n",
        "* **Q4:** Power analysis helps in determining the adequacy of sample size.\n"
      ],
      "metadata": {
        "id": "PHMmKJ2hyexB"
      }
    },
    {
      "cell_type": "markdown",
      "source": [
        "###Answers"
      ],
      "metadata": {
        "id": "60V5b0Oa3lWN"
      }
    },
    {
      "cell_type": "markdown",
      "source": [
        "* **A1:** False\n",
        "\n",
        " **Explanation:** Experimental design is crucial in statistical analysis as it involves planning how to collect data to answer research questions effectively, ensuring validity and reliability of results.\n",
        "\n",
        "* **A2:** True\n",
        "\n",
        "  **Explanation:**Random assignment involves randomly assigning participants to different experimental conditions, reducing bias and increasing the likelihood that groups are comparable at the start of an experiment.\n",
        "* **A3:** False\n",
        "\n",
        "  **Explanation:**Quasi-experimental designs can be valuable when true experimental designs are not feasible or ethical. They allow researchers to explore causal relationships, although they might have limitations in controlling for confounding variables.\n",
        "* **A4:** True\n",
        "\n",
        "  **Explanation:**Power analysis assesses the likelihood of detecting an effect if it exists. It helps researchers determine the appropriate sample size for their study to ensure that they have a good chance of identifying meaningful effects.\n"
      ],
      "metadata": {
        "id": "3rwT413S3pGn"
      }
    },
    {
      "cell_type": "markdown",
      "source": [
        "\n",
        "##**📚 Summary:**\n",
        "\n",
        "In this session on Experiment Design, we learned about the importance of experimental design in statistical analysis and its role in ensuring reliable and valid results. We explored the elements of experimental design, such as control groups, random assignment, and dependent and independent variables. The steps to conduct an experiment, including hypothesis formulation, sample selection, data collection, and analysis, were also discussed. Different types of experimental designs, such as randomized designs, quasi-experimental designs, and pre-experimental designs, were explored, along with their applications.\n",
        "\n",
        "##**🤔📝 What Did You Learn?**\n",
        "\n",
        "Through this session, we gained a comprehensive understanding of experimental design and its various components. We learned how to formulate hypotheses, select appropriate statistical tests for hypothesis testing, and consider ethical considerations in research. Additionally, we learned about power analysis and its significance in determining the adequacy of sample size for a study.\n",
        "\n",
        "##**🤓📈 Best Practices and Tips**\n",
        "\n",
        "* Clearly define the research question and objectives before formulating hypotheses.\n",
        "* Randomly assign participants to control and experimental groups to minimize bias.\n",
        "* Use appropriate statistical tests based on the nature of data and research question.\n",
        "* Conduct power analysis to determine the required sample size for accurate results.\n",
        "* Ensure ethical considerations, such as informed consent and privacy protection, are addressed throughout the study.\n",
        "\n",
        "##**🙅‍♂️📉 Shortcomings**\n",
        "\n",
        "* Sampling bias: Ensure that the sample is representative of the target population to avoid biased results.\n",
        "* Selection bias: Randomly assign participants to groups to avoid biased conclusions.\n",
        "* Measurement bias: Use reliable and valid measurement tools to minimize errors in data collection.\n",
        "* Non-response bias: Address non-response rates to avoid potential biases in results.\n",
        "\n",
        "##**➕ Additional Reading➕**\n",
        "\n",
        "* \"Designing Experiments: How to Create a Reliable Statistical Study\" by Richard K. Campbell.\n",
        "* \"Experimental and Quasi-Experimental Designs for Generalized Causal Inference\" by William R. Shadish, Thomas D. Cook, and Donald T. Campbell.\n",
        "* \"Research Design: Qualitative, Quantitative, and Mixed Methods Approaches\" by John W. Creswell.\n",
        "\n",
        "####**Mnemonic:**\n",
        "🔬📝🧪 The Science Fair Adventure\n",
        "\n",
        "🔬 Once upon a time, in a land of learning, two students, Emma and Alex, were excited about their science fair project.\n",
        "\n",
        "📝 They knew their project needed a strong foundation, just like the experimental design they'd been learning about. They understood the elements: Control Group, Random Assignment, and Variables.\n",
        "\n",
        "🧪 Their project had a clear purpose. They followed the steps: Formulating a Hypothesis, Selecting a Sample, Collecting Data, and then Analyzing the results.\n",
        "\n",
        "🔍 Emma and Alex delved into different types of designs. They explored Randomized, Quasi-experimental, and Pre-experimental setups, like scientists exploring uncharted territory.\n",
        "\n",
        "📊 They decided on the best approach and conducted their experiment. The results were crystal clear, just like a well-designed chart.\n",
        "\n",
        "🔑 Their experiment gave them insights, much like discovering hidden treasures. They understood the importance of ethical considerations, protecting privacy, and participant well-being.\n",
        "\n",
        "📝 With their knowledge, they crafted a comprehensive report. Their hard work paid off, and they shared their findings with peers and mentors.\n",
        "\n",
        "🔗 As they continued their academic journey, they realized that experiment design was the compass guiding them through scientific adventures.\n",
        "\n",
        "🔍🌟🧪 And so, armed with knowledge and curiosity, Emma and Alex embarked on countless scientific journeys, unlocking mysteries and shaping their own happily ever after.\n",
        "\n",
        "###**Additional References**\n",
        "* https://www.sciencedirect.com/topics/earth-and-planetary-sciences/experimental-design#:~:text=Experimental%20design%20is%20the%20process,has%20on%20a%20dependent%20variable.\n",
        "* https://passel2.unl.edu/view/lesson/2e09f0055f13/4\n",
        "* https://online.stat.psu.edu/stat503/lesson/1\n",
        "\n"
      ],
      "metadata": {
        "id": "tgN6gqYCwLlF"
      }
    },
    {
      "cell_type": "markdown",
      "source": [
        "## **🏃 Task: 1 🏃**"
      ],
      "metadata": {
        "id": "F6I0yX_Qa_JL"
      }
    },
    {
      "cell_type": "markdown",
      "source": [
        "###**Activity 1**\n",
        "\n",
        "A group of researchers is studying the effect of a new exercise routine on weight loss compared to the standard routine. They randomly assign 60 participants to either the new exercise group or the standard exercise group. After 8 weeks of treatment, they record the weight of each participant and calculate the mean and standard deviation for both groups.\n",
        "\n",
        "New exercise group: mean = 10 kg, standard deviation = 2 kg\n",
        "Standard exercise group: mean = 8 kg, standard deviation = 3 kg\n",
        "\n",
        "Answer the following questions based on the given information:"
      ],
      "metadata": {
        "id": "ceqbntFnIQ4v"
      }
    },
    {
      "cell_type": "markdown",
      "source": [
        "####Question 1"
      ],
      "metadata": {
        "id": "yGeeTSrYb8Xc"
      }
    },
    {
      "cell_type": "markdown",
      "source": [
        "What is the alternative hypothesis in the study comparing weight loss between two exercise groups?\n"
      ],
      "metadata": {
        "id": "EOY2CJR9IS8b"
      }
    },
    {
      "cell_type": "markdown",
      "source": [
        "####Question 2"
      ],
      "metadata": {
        "id": "V_gur9HccIx0"
      }
    },
    {
      "cell_type": "markdown",
      "source": [
        "Based on the calculated p-value of 0.012, what should be done with the null hypothesis?\n"
      ],
      "metadata": {
        "id": "AJKUV9NlLDn5"
      }
    },
    {
      "cell_type": "markdown",
      "source": [
        "####Question 3"
      ],
      "metadata": {
        "id": "YUqI8t2DcS6M"
      }
    },
    {
      "cell_type": "markdown",
      "source": [
        "If the researchers had chosen a significance level of 0.01 instead of 0.05, what decision would they make regarding the null hypothesis?\n"
      ],
      "metadata": {
        "id": "vI2m1XeMNMDI"
      }
    },
    {
      "cell_type": "markdown",
      "source": [
        "####Question 4"
      ],
      "metadata": {
        "id": "Xb_4YnUVcbk5"
      }
    },
    {
      "cell_type": "markdown",
      "source": [
        "If the researchers had chosen a significance level of 0.01, the decision regarding the null hypothesis would be to fail to reject the null hypothesis since the calculated p-value (0.023) is greater than the significance level (0.01)."
      ],
      "metadata": {
        "id": "oiulf_j5kYXr"
      }
    },
    {
      "cell_type": "markdown",
      "source": [
        "### **Activity  2**"
      ],
      "metadata": {
        "id": "5wusvRzN-Bfq"
      }
    },
    {
      "cell_type": "markdown",
      "source": [
        "A researcher wants to determine whether the average height of a sample of  N  individuals is greater than the average height of the general population, which is  μ . The heights are assumed to be normally distributed, and it is known from previous studies that the standard deviation of heights among individuals is approximately  σ . Write a Python function that performs a statistical test to determine whether the average height of the sample is greater than  μ , given the sample size  (N) , the sample mean  (x¯) , the population mean  (μ) , the population standard deviation  (σ) , and the significance level. The function should return True if the null hypothesis can be rejected (indicating that the average height of the sample is indeed greater than  μ ), and False otherwise. Use only the functions imported above to perform the tests.\n",
        "To check the function, you can use the following input combinations:\n",
        "\n",
        "N = 100, x¯ = 175, μ = 170, σ = 5, significance level = 0.05\n",
        "\n",
        "N = 50, x¯ = 163, μ = 160, σ = 4, significance level = 0.01\n",
        "\n",
        "N = 200, x¯ = 180, μ = 175, σ = 6, significance level = 0.05\n",
        "\n"
      ],
      "metadata": {
        "id": "hf3I1_O--Djo"
      }
    },
    {
      "cell_type": "markdown",
      "source": [
        "### **Activity 3**"
      ],
      "metadata": {
        "id": "b1TImMAD-DmF"
      }
    },
    {
      "cell_type": "markdown",
      "source": [
        "Problem:\n",
        "\n",
        "A researcher wants to evaluate the effectiveness of a new exercise program on improving cardiovascular fitness. They conduct a pretest-post-test only design study where they measure the cardiovascular fitness of two groups: the treatment group, which participates in the exercise program, and the control group, which does not participate in any specific exercise program. The researcher measures the cardiovascular fitness level of each participant before and after the study.\n",
        "\n",
        "The following table shows the pretest and post-test scores for both the treatment and control groups:\n",
        "\n",
        "Group\t- Pretest Score,\tPost-test Score\n",
        "* Treatment -\t60,\t75\n",
        "* Control- 62,\t65\n",
        "\n",
        "Using the formula:\n",
        "Treatment effect = (Posttest score of treatment group - Pretest score of treatment group) - (Posttest score of control group - Pretest score of control group)\n",
        "\n",
        "Design a Python function to calculate the treatment effect based on the pretest-post-test only design. The function should take the pretest and post-test scores of both the treatment and control groups as input and output the treatment effect.\n",
        "\n",
        "Use the provided data to check the function output.\n"
      ],
      "metadata": {
        "id": "ewzs7n3b-Dq5"
      }
    },
    {
      "cell_type": "markdown",
      "source": [
        "### **Activity 4**\n",
        "\n"
      ],
      "metadata": {
        "id": "10nJWw2f-DuR"
      }
    },
    {
      "cell_type": "markdown",
      "source": [
        "A study was conducted to investigate the effect of a new drug on the cure rates of a disease. The study enrolled 200 patients, out of which 100 were randomly assigned to receive the drug and 100 were assigned to the control group. After the treatment, it was found that 60 patients in the drug group were cured, while only 40 patients in the control group were cured.\n",
        "\n",
        "Write a Python function to test whether the cure rates of the two groups are significantly different. Assume that the cure rates follow binomial distributions and the null hypothesis is that the cure rates in both groups are equal.\n",
        "\n",
        "Formally:\n",
        "\n",
        "Ho: P(drug) = P(control)\n",
        "\n",
        "Ha: P(drug) ≠ P(control)\n",
        "\n",
        "The function should take in the sample sizes and cure rates of the two groups as arguments and output the p-value for the test. Use a significance level of 0.05."
      ],
      "metadata": {
        "id": "7AQeeYBx-Dwi"
      }
    }
  ]
}