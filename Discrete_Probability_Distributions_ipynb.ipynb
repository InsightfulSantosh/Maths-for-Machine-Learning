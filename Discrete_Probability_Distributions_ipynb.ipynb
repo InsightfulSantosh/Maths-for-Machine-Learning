{
  "nbformat": 4,
  "nbformat_minor": 0,
  "metadata": {
    "colab": {
      "provenance": [],
      "include_colab_link": true
    },
    "kernelspec": {
      "name": "python3",
      "display_name": "Python 3"
    },
    "language_info": {
      "name": "python"
    }
  },
  "cells": [
    {
      "cell_type": "markdown",
      "metadata": {
        "id": "view-in-github",
        "colab_type": "text"
      },
      "source": [
        "<a href=\"https://colab.research.google.com/github/InsightfulSantosh/Maths-for-Machine-Learning/blob/main/Discrete_Probability_Distributions_ipynb.ipynb\" target=\"_parent\"><img src=\"https://colab.research.google.com/assets/colab-badge.svg\" alt=\"Open In Colab\"/></a>"
      ]
    },
    {
      "cell_type": "markdown",
      "source": [
        "##**Session flow:**\n",
        "\n",
        "👨🏻‍🎓 Learning Objective:\n",
        "\n",
        "* Introduction\n",
        "* Theme\n",
        "* Primary Goals\n",
        "\n",
        "📚 Probability mass function\n",
        "\n",
        "✏ Cumulative distribution function\n",
        "\n",
        "\n",
        "✍ Expected value and distribution\n",
        "\n",
        "📗 Distribution\n",
        "\n",
        "* Binomial distribution\n",
        "* Poisson distribution\n",
        "* Geometric distribution\n",
        "* Hypergeometric distribution\n",
        "\n",
        "\n",
        "📝 Summary\n",
        "\n",
        "* What did we learn?\n",
        "* Shortcomings & Challenges\n",
        "* Best Practices & Tips\n",
        "\n",
        "🔗 Enhance your Knowledge\n",
        "\n",
        "* Mnemonic\n",
        "* Additional Resources\n",
        "\n",
        "🔍 Try it Yourself\n",
        "\n",
        "* Activities\n",
        "* Social Engagement"
      ],
      "metadata": {
        "id": "qz7JGEFKFX11"
      }
    },
    {
      "cell_type": "markdown",
      "source": [
        "# **👨🏻‍🎓 Learning Objective 👨🏻‍🎓**"
      ],
      "metadata": {
        "id": "J8Fg62PcM_qb"
      }
    },
    {
      "cell_type": "markdown",
      "source": [
        "# **Probability Distribution Function**\n",
        "\n",
        "A probability distribution function is a mathematical function that provides the probabilities of occurrence of different possible outcomes in an experiment. It characterizes the distribution of a random variable. There are two main types of probability distribution functions:\n",
        "\n",
        "1. **Probability Mass Function (PMF)**\n",
        "2. **Probability Density Function (PDF)**\n",
        "\n",
        "## **1. Probability Mass Function (PMF)**\n",
        "\n",
        "The Probability Mass Function (PMF) is used for discrete random variables. A discrete random variable is one that can take on a countable number of distinct values.\n",
        "\n",
        "**Definition:**\n",
        "The PMF, denoted by $P(X = x)$, gives the probability that a discrete random variable $X$ is exactly equal to some value $x$.\n",
        "\n",
        "**Mathematical Formulation:**\n",
        "$ P(X = x_i) = p_i $\n",
        "where\n",
        "$ \\sum_{i} P(X = x_i) = 1 $\n",
        "\n",
        "**Example:**\n",
        "Consider a fair six-sided die. The random variable $X$ represents the outcome of a die roll, and $X$ can take values $\\{1, 2, 3, 4, 5, 6\\}$.\n",
        "\n",
        "The PMF for this example is:\n",
        "$ P(X = x) = \\frac{1}{6} \\text{ for } x \\in \\{1, 2, 3, 4, 5, 6\\} $\n",
        "\n",
        "This indicates that each outcome has a probability of $\\frac{1}{6}$.\n",
        "\n",
        "## **2. Probability Density Function (PDF)**\n",
        "\n",
        "The Probability Density Function (PDF) is used for continuous random variables. A continuous random variable can take on an infinite number of possible values.\n",
        "\n",
        "**Definition:**\n",
        "The PDF, denoted by $f(x)$, gives the probability that a continuous random variable $X$ falls within a particular range of values.\n",
        "\n",
        "**Mathematical Formulation:**\n",
        "$ P(a \\leq X \\leq b) = \\int_{a}^{b} f(x) \\, dx $\n",
        "where\n",
        "$ f(x) \\geq 0 \\text{ for all } x $\n",
        "and\n",
        "$ \\int_{-\\infty}^{\\infty} f(x) \\, dx = 1 $\n",
        "\n",
        "**Example:**\n",
        "Consider a continuous random variable $X$ that is uniformly distributed between 0 and 1. This is known as the uniform distribution.\n",
        "\n",
        "The PDF for this example is:\n",
        "$$ f(x) = \\begin{cases}\n",
        "1 & \\text{if } 0 \\leq x \\leq 1 \\\\\n",
        "0 & \\text{otherwise}\n",
        "\\end{cases} $$\n",
        "\n",
        "This indicates that the probability density is constant over the interval [0, 1].\n",
        "\n",
        "## **Summary of Key Differences**\n",
        "\n",
        "- **PMF** applies to discrete random variables, where the probability is assigned to distinct values.\n",
        "- **PDF** applies to continuous random variables, where the probability is assigned over an interval and described by a density function.\n",
        "\n",
        "## **Visual Representation**\n",
        "\n",
        "**PMF Example:**\n",
        "\n",
        "For a fair six-sided die:\n",
        "\n",
        "$$\n",
        "\\begin{array}{c|c}\n",
        "X & P(X = x) \\\\\n",
        "\\hline\n",
        "1 & \\frac{1}{6} \\\\\n",
        "2 & \\frac{1}{6} \\\\\n",
        "3 & \\frac{1}{6} \\\\\n",
        "4 & \\frac{1}{6} \\\\\n",
        "5 & \\frac{1}{6} \\\\\n",
        "6 & \\frac{1}{6} \\\\\n",
        "\\end{array}\n",
        "$$\n",
        "\n",
        "**PDF Example:**\n",
        "\n",
        "For a continuous uniform distribution from 0 to 1:\n",
        "\n",
        "$$\n",
        "f(x) =\n",
        "\\begin{cases}\n",
        "1 & \\text{if } 0 \\leq x \\leq 1 \\\\\n",
        "0 & \\text{otherwise}\n",
        "\\end{cases}\n",
        "$$\n",
        "\n",
        "Graphically, the PMF would show bars at each value from 1 to 6 with equal height, while the PDF would show a flat line from 0 to 1 at height 1.\n",
        "\n",
        "\n",
        "\n"
      ],
      "metadata": {
        "id": "HNHxews40cqU"
      }
    },
    {
      "cell_type": "markdown",
      "source": [
        "## **Introduction:**\n",
        "\n",
        "📢 Attention students! Get ready to dive into the world of discrete probability distributions! 🎲\n",
        "\n",
        "In this topic, you will learn about the following primary topics:\n",
        "\n",
        "🎲 Probability mass function: A function that maps each possible outcome of a random variable to its probability.\n",
        "\n",
        "📈 Cumulative distribution function: A function that shows the probability of a random variable being less than or equal to a certain value.\n",
        "\n",
        "🔮 Expected value and variance: Measures of the central tendency and variability of a probability distribution, respectively.\n",
        "\n",
        "🎯 Binomial distribution: A probability distribution that describes the number of successes in a fixed number of independent trials.\n",
        "\n",
        "🐠 Poisson distribution: A probability distribution that describes the number of events occurring in a fixed interval of time or space.\n",
        "\n",
        "🚶 Geometric distribution: A probability distribution that describes the number of trials needed to obtain the first success.\n",
        "\n",
        "🃏 Hypergeometric distribution: A probability distribution that describes the number of successes in a sample drawn without replacement from a finite population.\n",
        "\n",
        "Get ready to sharpen your mathematical skills and have fun exploring these exciting concepts! 🤓🎉"
      ],
      "metadata": {
        "id": "vZq_F6oKNC_E"
      }
    },
    {
      "cell_type": "markdown",
      "source": [
        "##**Theme**\n",
        "\n",
        "Discrete probability distribution holds significant importance in various fields of mathematics, statistics, and real-world applications. It provides a structured framework to analyze and understand the probabilities associated with a set of discrete outcomes, which are often encountered in situations where distinct, countable events occur. This distribution is essential for modeling and predicting events that involve a finite or countably infinite set of possibilities, such as the outcome of dice rolls, coin flips, the number of customers arriving at a service point, or the success/failure of a series of trials.\n",
        "\n",
        "In addition to its foundational role in probability theory, discrete probability distribution serves as a cornerstone in statistics, enabling us to summarize, visualize, and interpret data. It forms the basis for constructing various important concepts, such as expected values, variance, and moments, which provide valuable insights into the behavior of random variables. Moreover, discrete probability distributions find practical applications in diverse fields, including finance, engineering, biology, and social sciences. By accurately characterizing the likelihood of different outcomes, discrete probability distributions empower decision-making, risk assessment, and resource allocation in scenarios where discrete events play a pivotal role."
      ],
      "metadata": {
        "id": "h4e4riNMGsI8"
      }
    },
    {
      "cell_type": "markdown",
      "source": [
        "# **📖 Learning Material 📖**"
      ],
      "metadata": {
        "id": "NqQ5s7JaNP7s"
      }
    },
    {
      "cell_type": "markdown",
      "source": [
        "## **Introduction**"
      ],
      "metadata": {
        "id": "aRr7GDwpN25d"
      }
    },
    {
      "cell_type": "markdown",
      "source": [
        "📊 A discrete probability distribution is a statistical function that describes the likelihood of obtaining a particular value or set of values from a discrete set of possible values.\n",
        "\n",
        "🎲 Examples of discrete probability distributions include the binomial distribution, the Poisson distribution, and the geometric distribution.\n",
        "\n",
        "📈 The binomial distribution models the probability of a binary outcome (success/failure) given a fixed number of trials and a known probability of success.\n",
        "\n",
        "📉 The Poisson distribution models the probability of a certain number of events occurring in a fixed interval of time or space, given a known average rate of occurrence.\n",
        "\n",
        "🔢 The geometric distribution models the probability of the number of trials required to obtain the first success in a sequence of independent trials, given a known probability of success.\n",
        "\n",
        "🔍 Discrete probability distributions can be used in a wide range of fields, including finance, engineering, and biology, to model real-world phenomena and make predictions based on probability.\n",
        "\n"
      ],
      "metadata": {
        "id": "qJ5V97d0N5C8"
      }
    },
    {
      "cell_type": "markdown",
      "source": [
        "## **Probability Mass Function**"
      ],
      "metadata": {
        "id": "x_JnXLEhNTfk"
      }
    },
    {
      "cell_type": "markdown",
      "source": [
        "🎲 Probability Mass Function (PMF) 📊\n",
        "\n",
        "The probability mass function is a function that maps each possible outcome of a discrete random variable to its probability of occurrence. It is denoted by P(X = x), where X is a discrete random variable and x is a possible outcome of X.\n",
        "\n",
        "Some important points to note about PMF are:\n",
        "\n",
        "1. The PMF gives the probability of each possible value of the random variable.\n",
        "\n",
        "2. The sum of the probabilities for all possible outcomes is equal to 1.\n",
        "\n",
        "3. The PMF is only defined for discrete random variables.\n",
        "\n",
        "\n"
      ],
      "metadata": {
        "id": "MXpxubOpNoqf"
      }
    },
    {
      "cell_type": "markdown",
      "source": [
        "## **Cumulative Distribution Function**"
      ],
      "metadata": {
        "id": "Vshs_4OfO2ee"
      }
    },
    {
      "cell_type": "markdown",
      "source": [
        "**📊 Definition:**\n",
        "\n",
        "The Cumulative Distribution Function (CDF) is a function that describes the probability that a random variable X takes on a value less than or equal to x. It is denoted by F(x).\n",
        "\n",
        "**📊 Formula:**\n",
        "\n",
        "$F(x) = P(X ≤ x)$\n",
        "\n",
        "**📊 Properties:**\n",
        "\n",
        "1. The CDF is a non-decreasing function.\n",
        "\n",
        "2. The CDF ranges from 0 to 1.\n",
        "\n",
        "3. The CDF is a continuous function for continuous random variables and a step function for discrete random variables.\n",
        "\n",
        "**📊 Uses:**\n",
        "\n",
        "The CDF can be used to find the probability of a range of values for a random variable, as well as to calculate the expected value and variance."
      ],
      "metadata": {
        "id": "8b0euZcgPBbA"
      }
    },
    {
      "cell_type": "markdown",
      "source": [
        "To calculate the Probability Mass Function (PMF) and Cumulative Distribution Function (CDF) for the sum of two dice rolled at a time, we need to understand the distribution of possible outcomes. Each die has 6 faces, and when rolling two dice, the possible sums range from 2 to 12.\n",
        "\n",
        "### **1. Probability Mass Function (PMF)**\n",
        "\n",
        "The PMF gives the probability of each possible sum when rolling two dice.\n",
        "\n",
        "#### **Possible Sums and Their Probabilities:**\n",
        "- The possible sums and the number of ways to achieve each sum are:\n",
        "\n",
        "$$\n",
        "\\begin{aligned}\n",
        "&\\text{Sum of 2:} &1 \\text{ way (1,1)}\\\\\n",
        "&\\text{Sum of 3:} &2 \\text{ ways (1,2), (2,1)}\\\\\n",
        "&\\text{Sum of 4:} &3 \\text{ ways (1,3), (2,2), (3,1)}\\\\\n",
        "&\\text{Sum of 5:} &4 \\text{ ways (1,4), (2,3), (3,2), (4,1)}\\\\\n",
        "&\\text{Sum of 6:} &5 \\text{ ways (1,5), (2,4), (3,3), (4,2), (5,1)}\\\\\n",
        "&\\text{Sum of 7:} &6 \\text{ ways (1,6), (2,5), (3,4), (4,3), (5,2), (6,1)}\\\\\n",
        "&\\text{Sum of 8:} &5 \\text{ ways (2,6), (3,5), (4,4), (5,3), (6,2)}\\\\\n",
        "&\\text{Sum of 9:} &4 \\text{ ways (3,6), (4,5), (5,4), (6,3)}\\\\\n",
        "&\\text{Sum of 10:} &3 \\text{ ways (4,6), (5,5), (6,4)}\\\\\n",
        "&\\text{Sum of 11:} &2 \\text{ ways (5,6), (6,5)}\\\\\n",
        "&\\text{Sum of 12:} &1 \\text{ way (6,6)}\\\\\n",
        "\\end{aligned}\n",
        "$$\n",
        "\n",
        "There are a total of $6 \\times 6 = 36$ possible outcomes when rolling two dice.\n",
        "\n",
        "The PMF is then calculated as the number of ways to achieve each sum divided by the total number of outcomes (36).\n",
        "\n",
        "$$\n",
        "P(X = x) = \\frac{\\text{Number of ways to achieve sum } x}{36}\n",
        "$$\n",
        "\n",
        "#### **PMF Table:**\n",
        "$$\n",
        "\\begin{array}{c|c}\n",
        "\\text{Sum (x)} & P(X = x) \\\\\n",
        "\\hline\n",
        "2 & \\frac{1}{36} \\\\\n",
        "3 & \\frac{2}{36} = \\frac{1}{18} \\\\\n",
        "4 & \\frac{3}{36} = \\frac{1}{12} \\\\\n",
        "5 & \\frac{4}{36} = \\frac{1}{9} \\\\\n",
        "6 & \\frac{5}{36} \\\\\n",
        "7 & \\frac{6}{36} = \\frac{1}{6} \\\\\n",
        "8 & \\frac{5}{36} \\\\\n",
        "9 & \\frac{4}{36} = \\frac{1}{9} \\\\\n",
        "10 & \\frac{3}{36} = \\frac{1}{12} \\\\\n",
        "11 & \\frac{2}{36} = \\frac{1}{18} \\\\\n",
        "12 & \\frac{1}{36} \\\\\n",
        "\\end{array}\n",
        "$$\n",
        "\n",
        "### **2. Cumulative Distribution Function (CDF)**\n",
        "\n",
        "The CDF gives the probability that the sum of the two dice will be less than or equal to a certain value.\n",
        "\n",
        "**\n",
        "F(X) = P(X \\leq x) = \\sum_{k=2}^{x} P(X = k)\n",
        "**\n",
        "\n",
        "#### **CDF Table:**\n",
        "$$\n",
        "\\begin{array}{c|c}\n",
        "\\text{Sum (x)} & F(X \\leq x) \\\\\n",
        "\\hline\n",
        "2 & \\frac{1}{36} \\\\\n",
        "3 & \\frac{1}{36} + \\frac{2}{36} = \\frac{3}{36} = \\frac{1}{12} \\\\\n",
        "4 & \\frac{3}{36} + \\frac{3}{36} = \\frac{6}{36} = \\frac{1}{6} \\\\\n",
        "5 & \\frac{6}{36} + \\frac{4}{36} = \\frac{10}{36} \\\\\n",
        "6 & \\frac{10}{36} + \\frac{5}{36} = \\frac{15}{36} = \\frac{5}{12} \\\\\n",
        "7 & \\frac{15}{36} + \\frac{6}{36} = \\frac{21}{36} = \\frac{7}{12} \\\\\n",
        "8 & \\frac{21}{36} + \\frac{5}{36} = \\frac{26}{36} = \\frac{13}{18} \\\\\n",
        "9 & \\frac{26}{36} + \\frac{4}{36} = \\frac{30}{36} = \\frac{5}{6} \\\\\n",
        "10 & \\frac{30}{36} + \\frac{3}{36} = \\frac{33}{36} = \\frac{11}{12} \\\\\n",
        "11 & \\frac{33}{36} + \\frac{2}{36} = \\frac{35}{36} \\\\\n",
        "12 & \\frac{35}{36} + \\frac{1}{36} = 1 \\\\\n",
        "\\end{array}\n",
        "$$\n",
        "\n",
        "### **Summary**\n",
        "\n",
        "- **PMF** gives the probability of each possible sum of two dice.\n",
        "- **CDF** gives the cumulative probability that the sum of two dice will be less than or equal to a certain value.\n",
        "\n",
        "\n",
        "\n",
        "\n"
      ],
      "metadata": {
        "id": "3i4xk4NwBvmD"
      }
    },
    {
      "cell_type": "markdown",
      "source": [
        "**Example code in Python:**\n",
        "\n",
        "- These functions help understand the distribution and likelihood of outcomes when rolling two dice.\n",
        "\n"
      ],
      "metadata": {
        "id": "eHzj4xu5Oj_I"
      }
    },
    {
      "cell_type": "code",
      "source": [
        "import pandas as pd\n",
        "\n",
        "# Possible sums\n",
        "sums = list(range(2, 13))\n",
        "\n",
        "# PMF values\n",
        "pmf_values = [1/36, 2/36, 3/36, 4/36, 5/36, 6/36, 5/36, 4/36, 3/36, 2/36, 1/36]\n",
        "\n",
        "# CDF values (cumulative sum of PMF values)\n",
        "cdf_values = [sum(pmf_values[:i+1]) for i in range(len(pmf_values))]\n",
        "\n",
        "# Create DataFrame\n",
        "df = pd.DataFrame({\n",
        "    'Sum': sums,\n",
        "    'PMF': pmf_values,\n",
        "    'CDF': cdf_values\n",
        "})\n",
        "\n",
        "display(df)"
      ],
      "metadata": {
        "colab": {
          "base_uri": "https://localhost:8080/",
          "height": 394
        },
        "id": "o5so9JuGB0N2",
        "outputId": "5f1c8cfa-5752-434c-f92c-8395d1f1986b"
      },
      "execution_count": 13,
      "outputs": [
        {
          "output_type": "display_data",
          "data": {
            "text/plain": [
              "    Sum       PMF       CDF\n",
              "0     2  0.027778  0.027778\n",
              "1     3  0.055556  0.083333\n",
              "2     4  0.083333  0.166667\n",
              "3     5  0.111111  0.277778\n",
              "4     6  0.138889  0.416667\n",
              "5     7  0.166667  0.583333\n",
              "6     8  0.138889  0.722222\n",
              "7     9  0.111111  0.833333\n",
              "8    10  0.083333  0.916667\n",
              "9    11  0.055556  0.972222\n",
              "10   12  0.027778  1.000000"
            ],
            "text/html": [
              "\n",
              "  <div id=\"df-c1efe6d0-4770-4c92-a82c-78f8a66a2a87\" class=\"colab-df-container\">\n",
              "    <div>\n",
              "<style scoped>\n",
              "    .dataframe tbody tr th:only-of-type {\n",
              "        vertical-align: middle;\n",
              "    }\n",
              "\n",
              "    .dataframe tbody tr th {\n",
              "        vertical-align: top;\n",
              "    }\n",
              "\n",
              "    .dataframe thead th {\n",
              "        text-align: right;\n",
              "    }\n",
              "</style>\n",
              "<table border=\"1\" class=\"dataframe\">\n",
              "  <thead>\n",
              "    <tr style=\"text-align: right;\">\n",
              "      <th></th>\n",
              "      <th>Sum</th>\n",
              "      <th>PMF</th>\n",
              "      <th>CDF</th>\n",
              "    </tr>\n",
              "  </thead>\n",
              "  <tbody>\n",
              "    <tr>\n",
              "      <th>0</th>\n",
              "      <td>2</td>\n",
              "      <td>0.027778</td>\n",
              "      <td>0.027778</td>\n",
              "    </tr>\n",
              "    <tr>\n",
              "      <th>1</th>\n",
              "      <td>3</td>\n",
              "      <td>0.055556</td>\n",
              "      <td>0.083333</td>\n",
              "    </tr>\n",
              "    <tr>\n",
              "      <th>2</th>\n",
              "      <td>4</td>\n",
              "      <td>0.083333</td>\n",
              "      <td>0.166667</td>\n",
              "    </tr>\n",
              "    <tr>\n",
              "      <th>3</th>\n",
              "      <td>5</td>\n",
              "      <td>0.111111</td>\n",
              "      <td>0.277778</td>\n",
              "    </tr>\n",
              "    <tr>\n",
              "      <th>4</th>\n",
              "      <td>6</td>\n",
              "      <td>0.138889</td>\n",
              "      <td>0.416667</td>\n",
              "    </tr>\n",
              "    <tr>\n",
              "      <th>5</th>\n",
              "      <td>7</td>\n",
              "      <td>0.166667</td>\n",
              "      <td>0.583333</td>\n",
              "    </tr>\n",
              "    <tr>\n",
              "      <th>6</th>\n",
              "      <td>8</td>\n",
              "      <td>0.138889</td>\n",
              "      <td>0.722222</td>\n",
              "    </tr>\n",
              "    <tr>\n",
              "      <th>7</th>\n",
              "      <td>9</td>\n",
              "      <td>0.111111</td>\n",
              "      <td>0.833333</td>\n",
              "    </tr>\n",
              "    <tr>\n",
              "      <th>8</th>\n",
              "      <td>10</td>\n",
              "      <td>0.083333</td>\n",
              "      <td>0.916667</td>\n",
              "    </tr>\n",
              "    <tr>\n",
              "      <th>9</th>\n",
              "      <td>11</td>\n",
              "      <td>0.055556</td>\n",
              "      <td>0.972222</td>\n",
              "    </tr>\n",
              "    <tr>\n",
              "      <th>10</th>\n",
              "      <td>12</td>\n",
              "      <td>0.027778</td>\n",
              "      <td>1.000000</td>\n",
              "    </tr>\n",
              "  </tbody>\n",
              "</table>\n",
              "</div>\n",
              "    <div class=\"colab-df-buttons\">\n",
              "\n",
              "  <div class=\"colab-df-container\">\n",
              "    <button class=\"colab-df-convert\" onclick=\"convertToInteractive('df-c1efe6d0-4770-4c92-a82c-78f8a66a2a87')\"\n",
              "            title=\"Convert this dataframe to an interactive table.\"\n",
              "            style=\"display:none;\">\n",
              "\n",
              "  <svg xmlns=\"http://www.w3.org/2000/svg\" height=\"24px\" viewBox=\"0 -960 960 960\">\n",
              "    <path d=\"M120-120v-720h720v720H120Zm60-500h600v-160H180v160Zm220 220h160v-160H400v160Zm0 220h160v-160H400v160ZM180-400h160v-160H180v160Zm440 0h160v-160H620v160ZM180-180h160v-160H180v160Zm440 0h160v-160H620v160Z\"/>\n",
              "  </svg>\n",
              "    </button>\n",
              "\n",
              "  <style>\n",
              "    .colab-df-container {\n",
              "      display:flex;\n",
              "      gap: 12px;\n",
              "    }\n",
              "\n",
              "    .colab-df-convert {\n",
              "      background-color: #E8F0FE;\n",
              "      border: none;\n",
              "      border-radius: 50%;\n",
              "      cursor: pointer;\n",
              "      display: none;\n",
              "      fill: #1967D2;\n",
              "      height: 32px;\n",
              "      padding: 0 0 0 0;\n",
              "      width: 32px;\n",
              "    }\n",
              "\n",
              "    .colab-df-convert:hover {\n",
              "      background-color: #E2EBFA;\n",
              "      box-shadow: 0px 1px 2px rgba(60, 64, 67, 0.3), 0px 1px 3px 1px rgba(60, 64, 67, 0.15);\n",
              "      fill: #174EA6;\n",
              "    }\n",
              "\n",
              "    .colab-df-buttons div {\n",
              "      margin-bottom: 4px;\n",
              "    }\n",
              "\n",
              "    [theme=dark] .colab-df-convert {\n",
              "      background-color: #3B4455;\n",
              "      fill: #D2E3FC;\n",
              "    }\n",
              "\n",
              "    [theme=dark] .colab-df-convert:hover {\n",
              "      background-color: #434B5C;\n",
              "      box-shadow: 0px 1px 3px 1px rgba(0, 0, 0, 0.15);\n",
              "      filter: drop-shadow(0px 1px 2px rgba(0, 0, 0, 0.3));\n",
              "      fill: #FFFFFF;\n",
              "    }\n",
              "  </style>\n",
              "\n",
              "    <script>\n",
              "      const buttonEl =\n",
              "        document.querySelector('#df-c1efe6d0-4770-4c92-a82c-78f8a66a2a87 button.colab-df-convert');\n",
              "      buttonEl.style.display =\n",
              "        google.colab.kernel.accessAllowed ? 'block' : 'none';\n",
              "\n",
              "      async function convertToInteractive(key) {\n",
              "        const element = document.querySelector('#df-c1efe6d0-4770-4c92-a82c-78f8a66a2a87');\n",
              "        const dataTable =\n",
              "          await google.colab.kernel.invokeFunction('convertToInteractive',\n",
              "                                                    [key], {});\n",
              "        if (!dataTable) return;\n",
              "\n",
              "        const docLinkHtml = 'Like what you see? Visit the ' +\n",
              "          '<a target=\"_blank\" href=https://colab.research.google.com/notebooks/data_table.ipynb>data table notebook</a>'\n",
              "          + ' to learn more about interactive tables.';\n",
              "        element.innerHTML = '';\n",
              "        dataTable['output_type'] = 'display_data';\n",
              "        await google.colab.output.renderOutput(dataTable, element);\n",
              "        const docLink = document.createElement('div');\n",
              "        docLink.innerHTML = docLinkHtml;\n",
              "        element.appendChild(docLink);\n",
              "      }\n",
              "    </script>\n",
              "  </div>\n",
              "\n",
              "\n",
              "<div id=\"df-547a99f3-5442-4c07-be31-2279d492e9c2\">\n",
              "  <button class=\"colab-df-quickchart\" onclick=\"quickchart('df-547a99f3-5442-4c07-be31-2279d492e9c2')\"\n",
              "            title=\"Suggest charts\"\n",
              "            style=\"display:none;\">\n",
              "\n",
              "<svg xmlns=\"http://www.w3.org/2000/svg\" height=\"24px\"viewBox=\"0 0 24 24\"\n",
              "     width=\"24px\">\n",
              "    <g>\n",
              "        <path d=\"M19 3H5c-1.1 0-2 .9-2 2v14c0 1.1.9 2 2 2h14c1.1 0 2-.9 2-2V5c0-1.1-.9-2-2-2zM9 17H7v-7h2v7zm4 0h-2V7h2v10zm4 0h-2v-4h2v4z\"/>\n",
              "    </g>\n",
              "</svg>\n",
              "  </button>\n",
              "\n",
              "<style>\n",
              "  .colab-df-quickchart {\n",
              "      --bg-color: #E8F0FE;\n",
              "      --fill-color: #1967D2;\n",
              "      --hover-bg-color: #E2EBFA;\n",
              "      --hover-fill-color: #174EA6;\n",
              "      --disabled-fill-color: #AAA;\n",
              "      --disabled-bg-color: #DDD;\n",
              "  }\n",
              "\n",
              "  [theme=dark] .colab-df-quickchart {\n",
              "      --bg-color: #3B4455;\n",
              "      --fill-color: #D2E3FC;\n",
              "      --hover-bg-color: #434B5C;\n",
              "      --hover-fill-color: #FFFFFF;\n",
              "      --disabled-bg-color: #3B4455;\n",
              "      --disabled-fill-color: #666;\n",
              "  }\n",
              "\n",
              "  .colab-df-quickchart {\n",
              "    background-color: var(--bg-color);\n",
              "    border: none;\n",
              "    border-radius: 50%;\n",
              "    cursor: pointer;\n",
              "    display: none;\n",
              "    fill: var(--fill-color);\n",
              "    height: 32px;\n",
              "    padding: 0;\n",
              "    width: 32px;\n",
              "  }\n",
              "\n",
              "  .colab-df-quickchart:hover {\n",
              "    background-color: var(--hover-bg-color);\n",
              "    box-shadow: 0 1px 2px rgba(60, 64, 67, 0.3), 0 1px 3px 1px rgba(60, 64, 67, 0.15);\n",
              "    fill: var(--button-hover-fill-color);\n",
              "  }\n",
              "\n",
              "  .colab-df-quickchart-complete:disabled,\n",
              "  .colab-df-quickchart-complete:disabled:hover {\n",
              "    background-color: var(--disabled-bg-color);\n",
              "    fill: var(--disabled-fill-color);\n",
              "    box-shadow: none;\n",
              "  }\n",
              "\n",
              "  .colab-df-spinner {\n",
              "    border: 2px solid var(--fill-color);\n",
              "    border-color: transparent;\n",
              "    border-bottom-color: var(--fill-color);\n",
              "    animation:\n",
              "      spin 1s steps(1) infinite;\n",
              "  }\n",
              "\n",
              "  @keyframes spin {\n",
              "    0% {\n",
              "      border-color: transparent;\n",
              "      border-bottom-color: var(--fill-color);\n",
              "      border-left-color: var(--fill-color);\n",
              "    }\n",
              "    20% {\n",
              "      border-color: transparent;\n",
              "      border-left-color: var(--fill-color);\n",
              "      border-top-color: var(--fill-color);\n",
              "    }\n",
              "    30% {\n",
              "      border-color: transparent;\n",
              "      border-left-color: var(--fill-color);\n",
              "      border-top-color: var(--fill-color);\n",
              "      border-right-color: var(--fill-color);\n",
              "    }\n",
              "    40% {\n",
              "      border-color: transparent;\n",
              "      border-right-color: var(--fill-color);\n",
              "      border-top-color: var(--fill-color);\n",
              "    }\n",
              "    60% {\n",
              "      border-color: transparent;\n",
              "      border-right-color: var(--fill-color);\n",
              "    }\n",
              "    80% {\n",
              "      border-color: transparent;\n",
              "      border-right-color: var(--fill-color);\n",
              "      border-bottom-color: var(--fill-color);\n",
              "    }\n",
              "    90% {\n",
              "      border-color: transparent;\n",
              "      border-bottom-color: var(--fill-color);\n",
              "    }\n",
              "  }\n",
              "</style>\n",
              "\n",
              "  <script>\n",
              "    async function quickchart(key) {\n",
              "      const quickchartButtonEl =\n",
              "        document.querySelector('#' + key + ' button');\n",
              "      quickchartButtonEl.disabled = true;  // To prevent multiple clicks.\n",
              "      quickchartButtonEl.classList.add('colab-df-spinner');\n",
              "      try {\n",
              "        const charts = await google.colab.kernel.invokeFunction(\n",
              "            'suggestCharts', [key], {});\n",
              "      } catch (error) {\n",
              "        console.error('Error during call to suggestCharts:', error);\n",
              "      }\n",
              "      quickchartButtonEl.classList.remove('colab-df-spinner');\n",
              "      quickchartButtonEl.classList.add('colab-df-quickchart-complete');\n",
              "    }\n",
              "    (() => {\n",
              "      let quickchartButtonEl =\n",
              "        document.querySelector('#df-547a99f3-5442-4c07-be31-2279d492e9c2 button');\n",
              "      quickchartButtonEl.style.display =\n",
              "        google.colab.kernel.accessAllowed ? 'block' : 'none';\n",
              "    })();\n",
              "  </script>\n",
              "</div>\n",
              "\n",
              "  <div id=\"id_e97a97ef-7987-4ab7-aa00-b6562fd4c5f2\">\n",
              "    <style>\n",
              "      .colab-df-generate {\n",
              "        background-color: #E8F0FE;\n",
              "        border: none;\n",
              "        border-radius: 50%;\n",
              "        cursor: pointer;\n",
              "        display: none;\n",
              "        fill: #1967D2;\n",
              "        height: 32px;\n",
              "        padding: 0 0 0 0;\n",
              "        width: 32px;\n",
              "      }\n",
              "\n",
              "      .colab-df-generate:hover {\n",
              "        background-color: #E2EBFA;\n",
              "        box-shadow: 0px 1px 2px rgba(60, 64, 67, 0.3), 0px 1px 3px 1px rgba(60, 64, 67, 0.15);\n",
              "        fill: #174EA6;\n",
              "      }\n",
              "\n",
              "      [theme=dark] .colab-df-generate {\n",
              "        background-color: #3B4455;\n",
              "        fill: #D2E3FC;\n",
              "      }\n",
              "\n",
              "      [theme=dark] .colab-df-generate:hover {\n",
              "        background-color: #434B5C;\n",
              "        box-shadow: 0px 1px 3px 1px rgba(0, 0, 0, 0.15);\n",
              "        filter: drop-shadow(0px 1px 2px rgba(0, 0, 0, 0.3));\n",
              "        fill: #FFFFFF;\n",
              "      }\n",
              "    </style>\n",
              "    <button class=\"colab-df-generate\" onclick=\"generateWithVariable('df')\"\n",
              "            title=\"Generate code using this dataframe.\"\n",
              "            style=\"display:none;\">\n",
              "\n",
              "  <svg xmlns=\"http://www.w3.org/2000/svg\" height=\"24px\"viewBox=\"0 0 24 24\"\n",
              "       width=\"24px\">\n",
              "    <path d=\"M7,19H8.4L18.45,9,17,7.55,7,17.6ZM5,21V16.75L18.45,3.32a2,2,0,0,1,2.83,0l1.4,1.43a1.91,1.91,0,0,1,.58,1.4,1.91,1.91,0,0,1-.58,1.4L9.25,21ZM18.45,9,17,7.55Zm-12,3A5.31,5.31,0,0,0,4.9,8.1,5.31,5.31,0,0,0,1,6.5,5.31,5.31,0,0,0,4.9,4.9,5.31,5.31,0,0,0,6.5,1,5.31,5.31,0,0,0,8.1,4.9,5.31,5.31,0,0,0,12,6.5,5.46,5.46,0,0,0,6.5,12Z\"/>\n",
              "  </svg>\n",
              "    </button>\n",
              "    <script>\n",
              "      (() => {\n",
              "      const buttonEl =\n",
              "        document.querySelector('#id_e97a97ef-7987-4ab7-aa00-b6562fd4c5f2 button.colab-df-generate');\n",
              "      buttonEl.style.display =\n",
              "        google.colab.kernel.accessAllowed ? 'block' : 'none';\n",
              "\n",
              "      buttonEl.onclick = () => {\n",
              "        google.colab.notebook.generateWithVariable('df');\n",
              "      }\n",
              "      })();\n",
              "    </script>\n",
              "  </div>\n",
              "\n",
              "    </div>\n",
              "  </div>\n"
            ],
            "application/vnd.google.colaboratory.intrinsic+json": {
              "type": "dataframe",
              "variable_name": "df",
              "summary": "{\n  \"name\": \"df\",\n  \"rows\": 11,\n  \"fields\": [\n    {\n      \"column\": \"Sum\",\n      \"properties\": {\n        \"dtype\": \"number\",\n        \"std\": 3,\n        \"min\": 2,\n        \"max\": 12,\n        \"num_unique_values\": 11,\n        \"samples\": [\n          7,\n          2,\n          11\n        ],\n        \"semantic_type\": \"\",\n        \"description\": \"\"\n      }\n    },\n    {\n      \"column\": \"PMF\",\n      \"properties\": {\n        \"dtype\": \"number\",\n        \"std\": 0.0466317810924732,\n        \"min\": 0.027777777777777776,\n        \"max\": 0.16666666666666666,\n        \"num_unique_values\": 6,\n        \"samples\": [\n          0.027777777777777776,\n          0.05555555555555555,\n          0.16666666666666666\n        ],\n        \"semantic_type\": \"\",\n        \"description\": \"\"\n      }\n    },\n    {\n      \"column\": \"CDF\",\n      \"properties\": {\n        \"dtype\": \"number\",\n        \"std\": 0.36815202661751223,\n        \"min\": 0.027777777777777776,\n        \"max\": 1.0000000000000002,\n        \"num_unique_values\": 11,\n        \"samples\": [\n          0.5833333333333334,\n          0.027777777777777776,\n          0.9722222222222224\n        ],\n        \"semantic_type\": \"\",\n        \"description\": \"\"\n      }\n    }\n  ]\n}"
            }
          },
          "metadata": {}
        }
      ]
    },
    {
      "cell_type": "code",
      "source": [
        "import seaborn as sns\n",
        "import matplotlib.pyplot as plt\n",
        "# Create a bar plot for the PMF\n",
        "\n",
        "plt.figure(figsize=(10, 6))\n",
        "sns.barplot(x='Sum', y='PMF', data=df)\n",
        "plt.title('PMF of the Sum of Two Dice Rolls')\n",
        "plt.xlabel('Sum')\n",
        "plt.ylabel('Probability')\n",
        "plt.show()"
      ],
      "metadata": {
        "colab": {
          "base_uri": "https://localhost:8080/",
          "height": 564
        },
        "id": "lS7x7tMGDA3c",
        "outputId": "e53de14e-9cfa-4d57-968c-c9c1f6a408b5"
      },
      "execution_count": 20,
      "outputs": [
        {
          "output_type": "display_data",
          "data": {
            "text/plain": [
              "<Figure size 1000x600 with 1 Axes>"
            ],
            "image/png": "[encoded data removed]"
          },
          "metadata": {}
        }
      ]
    },
    {
      "cell_type": "code",
      "source": [
        "# Create a line plot for the CDF\n",
        "plt.figure(figsize=(10, 6))\n",
        "sns.lineplot(x='Sum', y='CDF', data=df, marker='o')\n",
        "plt.title('CDF of the Sum of Two Dice Rolls')\n",
        "plt.xlabel('Sum')\n",
        "plt.ylabel('Cumulative Probability')\n",
        "plt.xticks(sums)  # Ensure all sums are shown on the x-axis\n",
        "plt.grid(True)\n",
        "plt.show()"
      ],
      "metadata": {
        "colab": {
          "base_uri": "https://localhost:8080/",
          "height": 564
        },
        "id": "BYn8rDetD7Qj",
        "outputId": "8fa9ca38-8f36-4dc5-d7cc-05eb103c04cf"
      },
      "execution_count": 21,
      "outputs": [
        {
          "output_type": "display_data",
          "data": {
            "text/plain": [
              "<Figure size 1000x600 with 1 Axes>"
            ],
            "image/png": "[encoded data removed]"
          },
          "metadata": {}
        }
      ]
    },
    {
      "cell_type": "markdown",
      "source": [
        "\n",
        "-----------\n",
        "\n",
        "## **Expected Value and Variance**"
      ],
      "metadata": {
        "id": "2ScFLrVJP7jb"
      }
    },
    {
      "cell_type": "markdown",
      "source": [
        "**🎓 Introduction:**\n",
        "\n",
        "Expected value and variance are important concepts in probability theory and statistics. They are used to measure the central tendency and variability of random variables. The expected value is the average value of a random variable, while variance measures how spread out the data is around the expected value.\n",
        "\n",
        "**🎲 Expected Value:**\n",
        "\n",
        "The expected value of a discrete random variable is the sum of the product of each possible value of the variable and its probability. Mathematically, it can be represented as $E(X) = Σ xi * P(X=xi)$, where xi is the possible value of X and P(X=xi) is the probability of X taking the value xi.\n",
        "\n",
        "\n",
        "**📈 Variance:**\n",
        "\n",
        "The variance of a random variable measures how much the values of the variable deviate from its expected value. It is calculated by taking the sum of the squared differences of each value from the expected value, multiplied by the probability of that value. Mathematically, it can be represented as $Var(X) = Σ (xi - E(X))^2 * P(X=xi)$, where xi is the possible value of X, E(X) is the expected value of X, and P(X=xi) is the probability of X taking the value xi."
      ],
      "metadata": {
        "id": "QLRWOuyLQAXf"
      }
    },
    {
      "cell_type": "markdown",
      "source": [
        "**🔢 Example Code Samples:**\n",
        "\n",
        "***Let's say we have a dice that we roll and get a random number between 1 and 6. We can calculate the expected value and variance of this random variable as follows:***"
      ],
      "metadata": {
        "id": "_eLireXVQaZq"
      }
    },
    {
      "cell_type": "code",
      "source": [
        "import numpy as np\n",
        "\n",
        "# Define the possible values and their probabilities\n",
        "values = [1, 2, 3, 4, 5, 6]\n",
        "probs = [1/6, 1/6, 1/6, 1/6, 1/6, 1/6]\n",
        "\n",
        "# Calculate the expected value\n",
        "expected_value = np.sum(np.multiply(values, probs))\n",
        "print(\"Expected Value:\", expected_value)\n",
        "\n",
        "# Calculate the variance\n",
        "variance = np.sum(np.multiply(np.square(np.subtract(values, expected_value)), probs))\n",
        "print(\"Variance:\", variance)\n"
      ],
      "metadata": {
        "id": "-5myRfSVQf6Q",
        "colab": {
          "base_uri": "https://localhost:8080/"
        },
        "outputId": "eeaf4e9d-846a-4266-fb3d-cd872aa2de2a"
      },
      "execution_count": 22,
      "outputs": [
        {
          "output_type": "stream",
          "name": "stdout",
          "text": [
            "Expected Value: 3.5\n",
            "Variance: 2.9166666666666665\n"
          ]
        }
      ]
    },
    {
      "cell_type": "markdown",
      "source": [
        "This code calculates the expected value to be 3.5 and the variance to be 2.92.\n",
        "\n",
        "--------------\n"
      ],
      "metadata": {
        "id": "4shE2Y0cQilG"
      }
    },
    {
      "cell_type": "markdown",
      "source": [
        "## **Binomial Distribution**"
      ],
      "metadata": {
        "id": "UfzIQb_IQlHl"
      }
    },
    {
      "cell_type": "markdown",
      "source": [
        "**🎲 Introduction:**\n",
        "\n",
        "Binomial distribution is a type of discrete probability distribution that deals with the probability of a certain number of successes in a fixed number of independent trials, each with the same probability of success.\n",
        "\n",
        "**🎲 Properties:**\n",
        "\n",
        "1. The trials must be independent.\n",
        "\n",
        "2. The probability of success, denoted by p, must be constant for each trial.\n",
        "\n",
        "3. The number of trials, denoted by n, must be fixed.\n",
        "\n",
        "4. The random variable X, which represents the number of successes, can take on integer values from 0 to n.\n",
        "\n",
        "**🎲 Probability Mass Function (PMF):**\n",
        "\n",
        "*The PMF of a binomial distribution is given by:*\n",
        "\n",
        "\n",
        "**Using the factorial function:** $P(X=k) = \\frac{n!}{k!(n-k)!} p^k (1-p)^{n-k}$.\n",
        "\n",
        "**🎲 Mean and Variance:**\n",
        "\n",
        "*The mean of a binomial distribution is given by:*\n",
        "\n",
        "$μ = np$\n",
        "\n",
        "*The variance of a binomial distribution is given by:*\n",
        "\n",
        "$σ^2 = np(1-p)$"
      ],
      "metadata": {
        "id": "usSzcUuLQrat"
      }
    },
    {
      "cell_type": "markdown",
      "source": [
        "**🎲 Example:**\n",
        "\n",
        "Suppose we have a coin that has a probability of landing heads (success) of 0.6. We flip the coin 10 times. What is the probability of getting exactly 5 heads?\n",
        "\n",
        "***Solution:***\n",
        "\n",
        "\\begin{align*}\n",
        "P(X = 5) &= \\binom{10}{5}(0.6)^5(0.4)^5 \\\n",
        "&= \\frac{10!}{5!5!}(0.6)^5(0.4)^5 \\\n",
        "&= \\frac{10\\times9\\times8\\times7\\times6}{5\\times4\\times3\\times2\\times1}(0.6)^5(0.4)^5 \\\n",
        "&= \\frac{30240}{120}(0.6)^5(0.4)^5 \\\n",
        "&= 0.246\\ldots \\\n",
        "&\\approx 0.247\n",
        "\\end{align*}"
      ],
      "metadata": {
        "id": "XoYNiL1kRSwL"
      }
    },
    {
      "cell_type": "code",
      "source": [
        "from scipy.stats import binom\n",
        "\n",
        "n = 10\n",
        "p = 0.6\n",
        "\n",
        "prob = binom.pmf(5, n, p)\n",
        "print(prob)  # Output: 0.246\n"
      ],
      "metadata": {
        "colab": {
          "base_uri": "https://localhost:8080/"
        },
        "id": "uDoDC6JqRZwG",
        "outputId": "776f27ae-86b5-4a20-b9b5-04106762aff2"
      },
      "execution_count": null,
      "outputs": [
        {
          "output_type": "stream",
          "name": "stdout",
          "text": [
            "0.20065812479999992\n"
          ]
        }
      ]
    },
    {
      "cell_type": "code",
      "source": [
        "\n",
        "from scipy.stats import binom\n",
        "\n",
        "# Parameters for the binomial distribution\n",
        "n = 10  # number of trials\n",
        "p = 0.5  # probability of success\n",
        "\n",
        "# Create an array of possible outcomes (0 to n)\n",
        "x = np.arange(0, n+1)\n",
        "\n",
        "# Calculate the PMF for each outcome\n",
        "pmf_values = binom.pmf(x, n, p)\n",
        "\n",
        "# Calculate the CDF for each outcome\n",
        "cdf_values = binom.cdf(x, n, p)\n",
        "\n",
        "# Create a DataFrame for easier plotting\n",
        "df = pd.DataFrame({\n",
        "    'Outcome': x,\n",
        "    'PMF': pmf_values,\n",
        "    'CDF': cdf_values\n",
        "})\n",
        "\n",
        "# Plot the PMF\n",
        "plt.figure(figsize=(10, 6))\n",
        "sns.barplot(x='Outcome', y='PMF', data=df)\n",
        "plt.title('PMF of Binomial Distribution (n=10, p=0.5)')\n",
        "plt.xlabel('Number of Successes')\n",
        "plt.ylabel('Probability')\n",
        "plt.show()\n",
        "\n",
        "# Plot the CDF\n",
        "plt.figure(figsize=(10, 6))\n",
        "sns.lineplot(x='Outcome', y='CDF', data=df, marker='o')\n",
        "plt.title('CDF of Binomial Distribution (n=10, p=0.5)')\n",
        "plt.xlabel('Number of Successes')\n",
        "plt.ylabel('Cumulative Probability')\n",
        "plt.xticks(x)  # Ensure all outcomes are shown on the x-axis\n",
        "plt.grid(True)\n",
        "plt.show()\n"
      ],
      "metadata": {
        "colab": {
          "base_uri": "https://localhost:8080/",
          "height": 1000
        },
        "id": "sQtg53LHPXQL",
        "outputId": "439c6913-cf18-45dd-a3df-6ce00ba183ed"
      },
      "execution_count": 31,
      "outputs": [
        {
          "output_type": "display_data",
          "data": {
            "text/plain": [
              "<Figure size 1000x600 with 1 Axes>"
            ],
            "image/png": "[encoded data removed]"
          },
          "metadata": {}
        },
        {
          "output_type": "display_data",
          "data": {
            "text/plain": [
              "<Figure size 1000x600 with 1 Axes>"
            ],
            "image/png": "[encoded data removed]"
          },
          "metadata": {}
        }
      ]
    },
    {
      "cell_type": "markdown",
      "source": [
        "----------------"
      ],
      "metadata": {
        "id": "N70l8npbNbax"
      }
    },
    {
      "cell_type": "markdown",
      "source": [
        "## **Poisson Distribution**"
      ],
      "metadata": {
        "id": "5l9yOB1TReE8"
      }
    },
    {
      "cell_type": "markdown",
      "source": [
        "**📊 Poisson Distribution:**\n",
        "\n",
        "- Poisson distribution is a discrete probability distribution that describes the number of events occurring in a fixed interval of time or space, given the average rate of occurrence of the events.\n",
        "\n",
        "- The Poisson distribution is a discrete probability distribution that expresses the probability of a given number of events occurring in a fixed interval of time or space, given the average number of events.\n",
        "\n",
        "**📈 Parameters:**\n",
        "\n",
        "The Poisson distribution is determined by a single parameter, λ, which represents the average rate of occurrence of the event in the given interval.\n",
        "\n",
        "\n",
        "\n",
        "\n",
        "\n",
        "**📝 Probability Mass Function:**\n",
        "**Formula for PMF:**\n",
        "$$ P(X = k) = \\frac{\\lambda^k e^{-\\lambda}}{k!} $$\n",
        "\n",
        "**Where:**\n",
        "- $( X )$: The random variable representing the number of events.\n",
        "- $( k )$: The actual number of events.\n",
        "- $( \\lambda )$: The average rate (mean) of occurrences in the interval.\n",
        "- $( e )$: Euler's number (approximately equal to 2.71828).\n",
        "\n",
        "### **Explanation**\n",
        "\n",
        "- **$ \\lambda $** $(Lambda)$: This is the average rate or mean number of events in the interval.\n",
        "- **$ e^{-\\lambda} $**: This term accounts for the exponential decay based on the average rate.\n",
        "- **$\\frac{\\lambda^k}{k!} $**: This term adjusts the probability based on the number of events $( k )$ and the factorial of $( k )$.\n",
        "\n",
        "### **Example Calculation**\n",
        "\n",
        "Suppose you want to find the probability of observing exactly 3 events in a time period where the average rate of occurrence is 2 events per time period $(\\lambda = 2)$.\n",
        "\n",
        "$$ P(X = 3) = \\frac{2^3 e^{-2}}{3!} $$\n",
        "\n",
        "1. **Calculate $( \\lambda^k )$:**\n",
        "   $$ 2^3 = 8 $$\n",
        "\n",
        "2. **Calculate $( e^{-\\lambda} )$:**\n",
        "   $$ e^{-2} \\approx 0.1353 $$\n",
        "\n",
        "3. **Calculate $( k! )$:**\n",
        "   $$ 3! = 6 $$\n",
        "\n",
        "4. **Combine these to find $( P(X = 3) )$:**\n",
        "  $$ P(X = 3) = \\frac{8 \\times 0.1353}{6} \\approx 0.180 $$\n",
        "\n",
        "\n",
        "\n",
        "**🔍 Uses:**\n",
        "\n",
        "The Poisson distribution is commonly used in many fields such as biology, physics, finance, and economics to model the occurrence of rare events.\n",
        "\n",
        "*Some examples of the Poisson distribution in real-life applications include:*\n",
        "\n",
        "1. The number of customers arriving at a service desk in a given time interval.\n",
        "\n",
        "2. The number of defects in a manufacturing process.\n",
        "\n",
        "3. The number of earthquakes in a region over a given time period.\n"
      ],
      "metadata": {
        "id": "b445F62NRjfz"
      }
    },
    {
      "cell_type": "code",
      "source": [
        "import math\n",
        "\n",
        "def poisson_pmf(mean, k):\n",
        "    return math.exp(-mean) * (mean ** k) / math.factorial(k)\n",
        "\n",
        "mean = 2\n",
        "k = 3\n",
        "\n",
        "pmf = poisson_pmf(mean, k)\n",
        "print(pmf)\n"
      ],
      "metadata": {
        "colab": {
          "base_uri": "https://localhost:8080/"
        },
        "id": "X_cVDlvnUrIQ",
        "outputId": "fa85d8e3-b733-493c-f3cf-85cc66a5e003"
      },
      "execution_count": 36,
      "outputs": [
        {
          "output_type": "stream",
          "name": "stdout",
          "text": [
            "0.1804470443154836\n"
          ]
        }
      ]
    },
    {
      "cell_type": "markdown",
      "source": [
        "This code calculates the probability of 3 arrivals in a time interval, given a Poisson distribution with a mean of 2.\n",
        "\n"
      ],
      "metadata": {
        "id": "ArS4sk17OzzW"
      }
    },
    {
      "cell_type": "markdown",
      "source": [
        "***💻 Here is an example code snippet in Python that calculates the probability mass function of a Poisson distribution with a given mean:***"
      ],
      "metadata": {
        "id": "YRH-E7hpOrr3"
      }
    },
    {
      "cell_type": "code",
      "source": [
        "\n",
        "from scipy.stats import poisson\n",
        "\n",
        "# Define the parameter for the Poisson distribution\n",
        "lambda_value = 3  # average rate (λ)\n",
        "\n",
        "# Define the range of values (k) for which we want to calculate PMF and CDF\n",
        "k_values = np.arange(0, 15)\n",
        "\n",
        "# Calculate PMF for each k value\n",
        "pmf_values = poisson.pmf(k_values, lambda_value)\n",
        "\n",
        "# Calculate CDF for each k value\n",
        "cdf_values = poisson.cdf(k_values, lambda_value)\n",
        "\n",
        "# Create a DataFrame for easy plotting\n",
        "df = pd.DataFrame({\n",
        "    'k': k_values,\n",
        "    'PMF': pmf_values,\n",
        "    'CDF': cdf_values\n",
        "})\n",
        "\n",
        "# Plot PMF using seaborn\n",
        "plt.figure(figsize=(12, 6))\n",
        "\n",
        "plt.subplot(1, 2, 1)  # Create a subplot for PMF\n",
        "sns.barplot(x='k', y='PMF', data=df, color='blue')\n",
        "plt.title('PMF of Poisson Distribution (λ = {})'.format(lambda_value))\n",
        "plt.xlabel('Number of Occurrences (k)')\n",
        "plt.ylabel('Probability')\n",
        "\n",
        "# Plot CDF using seaborn\n",
        "plt.subplot(1, 2, 2)  # Create a subplot for CDF\n",
        "sns.lineplot(x='k', y='CDF', data=df, marker='o', color='green')\n",
        "plt.title('CDF of Poisson Distribution (λ = {})'.format(lambda_value))\n",
        "plt.xlabel('Number of Occurrences (k)')\n",
        "plt.ylabel('Cumulative Probability')\n",
        "plt.grid(True)\n",
        "\n",
        "plt.tight_layout()\n",
        "plt.show()\n"
      ],
      "metadata": {
        "colab": {
          "base_uri": "https://localhost:8080/",
          "height": 572
        },
        "id": "zJVSeMIQPsp8",
        "outputId": "c31f3f6a-28ce-4b59-c45d-8446c21e83b1"
      },
      "execution_count": 32,
      "outputs": [
        {
          "output_type": "display_data",
          "data": {
            "text/plain": [
              "<Figure size 1200x600 with 2 Axes>"
            ],
            "image/png": "[encoded data removed]"
          },
          "metadata": {}
        }
      ]
    },
    {
      "cell_type": "markdown",
      "source": [
        "----------\n",
        "## **Geometric Distribution**"
      ],
      "metadata": {
        "id": "5QDkmGTwScfv"
      }
    },
    {
      "cell_type": "markdown",
      "source": [
        "**📊 Definition:**\n",
        "\n",
        "Geometric Distribution is a probability distribution that represents the number of Bernoulli trials needed to obtain the first success in a sequence of independent trials.\n",
        "\n",
        "**📈 Formula:**\n",
        "\n",
        "The probability mass function (PMF) of the Geometric Distribution is given by $P(X=k) = q^(k-1)p$, where X is the number of trials needed to obtain the first success, p is the probability of success in each trial, and q=1-p is the probability of failure.\n",
        "\n",
        "**📊 Mean and Variance:**\n",
        "\n",
        "The mean of the Geometric Distribution is $μ=1/p$ and the variance is $σ^2=q/p^2$\n",
        "\n",
        "**📈 Example:**\n",
        "\n",
        "Suppose we have a coin with probability of heads p=0.3. We want to find the probability of getting heads for the first time on the third flip. Using the Geometric Distribution, we can calculate $P(X=3) = (1-0.3)^2 * 0.3 = 0.147$\n",
        "\n",
        "**📊 Uses:**\n",
        "\n",
        "The Geometric Distribution is commonly used in situations where we are interested in the number of trials needed to obtain the first success, such as in models for the time to failure of a product or the number of calls before a customer reaches a call center."
      ],
      "metadata": {
        "id": "XwiYDzLbSjiS"
      }
    },
    {
      "cell_type": "markdown",
      "source": [
        "**📈 Code sample:**\n",
        "\n",
        "To generate a random sample of size n from a Geometric Distribution with probability of success p in Python, we can use the numpy.random.geometric function:"
      ],
      "metadata": {
        "id": "i3ZSZEsLTWsj"
      }
    },
    {
      "cell_type": "code",
      "source": [
        "\n",
        "from scipy.stats import geom\n",
        "\n",
        "# Parameters\n",
        "p = 0.3  # Probability of success\n",
        "\n",
        "# Generate a range of trial counts\n",
        "k_values = np.arange(1, 21)\n",
        "\n",
        "# Compute PMF\n",
        "pmf_values = geom.pmf(k_values, p)\n",
        "\n",
        "# Compute CDF\n",
        "cdf_values = geom.cdf(k_values, p)\n",
        "\n",
        "# Create DataFrame for plotting\n",
        "import pandas as pd\n",
        "df = pd.DataFrame({\n",
        "    'k': k_values,\n",
        "    'PMF': pmf_values,\n",
        "    'CDF': cdf_values\n",
        "})\n",
        "\n",
        "# Plot PMF\n",
        "plt.figure(figsize=(14, 6))\n",
        "\n",
        "plt.subplot(1, 2, 1)\n",
        "plt.bar(df['k'], df['PMF'], color='skyblue', edgecolor='black')\n",
        "plt.title('PMF of Geometric Distribution')\n",
        "plt.xlabel('Number of Trials (k)')\n",
        "plt.ylabel('Probability')\n",
        "plt.xticks(df['k'])\n",
        "\n",
        "# Plot CDF\n",
        "plt.subplot(1, 2, 2)\n",
        "plt.step(df['k'], df['CDF'], where='post', color='salmon')\n",
        "plt.title('CDF of Geometric Distribution')\n",
        "plt.xlabel('Number of Trials (k)')\n",
        "plt.ylabel('Cumulative Probability')\n",
        "plt.xticks(df['k'])\n",
        "\n",
        "plt.tight_layout()\n",
        "plt.show()\n"
      ],
      "metadata": {
        "colab": {
          "base_uri": "https://localhost:8080/",
          "height": 492
        },
        "id": "e5Dliag7QLja",
        "outputId": "929f0690-fdac-47bb-ab19-e64e969d9bec"
      },
      "execution_count": 33,
      "outputs": [
        {
          "output_type": "display_data",
          "data": {
            "text/plain": [
              "<Figure size 1400x600 with 2 Axes>"
            ],
            "image/png": "[encoded data removed]"
          },
          "metadata": {}
        }
      ]
    },
    {
      "cell_type": "markdown",
      "source": [
        "-----------------"
      ],
      "metadata": {
        "id": "3xiUcS-TO6E2"
      }
    },
    {
      "cell_type": "markdown",
      "source": [
        "## **Hypergeometric Distribution**"
      ],
      "metadata": {
        "id": "LCO591mOTcya"
      }
    },
    {
      "cell_type": "markdown",
      "source": [
        "**🎓 Introduction:**\n",
        "\n",
        "Hypergeometric Distribution is a probability distribution used to model the probability of drawing a specified number of objects from a finite population without replacement. It is a discrete probability distribution and is widely used in statistical inference, sampling theory, and quality control.\n",
        "\n",
        "**🎲 Definition:**\n",
        "\n",
        "The hypergeometric distribution describes the probability of k successes in n draws from a finite population size N with M total successes and N - M total failures, where the draws are made without replacement.\n",
        "\n",
        "**📊 Formula:**\n",
        "\n",
        "*The probability mass function (PMF) for Hypergeometric Distribution is given by:*\n",
        "\n",
        "\n",
        "\n",
        "$\\binom{n}{k}=\\frac{n!}{k!(n-k)!}$\n",
        "\n",
        "\n",
        "Where,\n",
        "k = number of successes\n",
        "\n",
        "n = number of draws\n",
        "\n",
        "M = total number of successes in the population\n",
        "\n",
        "N = population size\n",
        "\n",
        "\n",
        "**📈 Properties:**\n",
        "\n",
        "The mean of the hypergeometric distribution is given by E(X) = n * M / N.\n",
        "\n",
        "The variance of the hypergeometric distribution is given by\n",
        "\n",
        "$Var(X) = n * M * (N - M) * (N - n) / (N^2 * (N - 1))$"
      ],
      "metadata": {
        "id": "oCnxq-mMThAM"
      }
    },
    {
      "cell_type": "markdown",
      "source": [
        "**🖥️ Code:**\n",
        "\n",
        "In Python, you can use the scipy.stats module to calculate the PMF, mean, and variance of the hypergeometric distribution.\n",
        "\n",
        "***Here's an example:***"
      ],
      "metadata": {
        "id": "0V6eyUs4UD8b"
      }
    },
    {
      "cell_type": "code",
      "source": [
        "import scipy.stats as stats\n",
        "# Parameters for the Hypergeometric distribution\n",
        "N = 50  # Total number of items in the population\n",
        "K = 10  # Total number of success states in the population\n",
        "n = 15  # Number of draws\n",
        "\n",
        "# Define the range of possible k values (number of successes in draws)\n",
        "k_values = np.arange(0, n + 1)\n",
        "\n",
        "# Calculate PMF values\n",
        "pmf_values = stats.hypergeom.pmf(k_values, N, K, n)\n",
        "\n",
        "# Calculate CDF values\n",
        "cdf_values = stats.hypergeom.cdf(k_values, N, K, n)\n",
        "\n",
        "# Create DataFrame\n",
        "df = pd.DataFrame({\n",
        "    'k': k_values,\n",
        "    'PMF': pmf_values,\n",
        "    'CDF': cdf_values\n",
        "})\n",
        "\n",
        "display(df)\n",
        "\n",
        "# Plot PMF\n",
        "plt.figure(figsize=(14, 6))\n",
        "\n",
        "# PMF Plot\n",
        "plt.subplot(1, 2, 1)\n",
        "plt.bar(df['k'], df['PMF'], color='skyblue', edgecolor='black')\n",
        "plt.title('PMF of Hypergeometric Distribution')\n",
        "plt.xlabel('Number of Successes (k)')\n",
        "plt.ylabel('Probability')\n",
        "\n",
        "# CDF Plot\n",
        "plt.subplot(1, 2, 2)\n",
        "plt.step(df['k'], df['CDF'], where='post', color='orange', marker='o')\n",
        "plt.title('CDF of Hypergeometric Distribution')\n",
        "plt.xlabel('Number of Successes (k)')\n",
        "plt.ylabel('Cumulative Probability')\n",
        "\n",
        "plt.tight_layout()\n",
        "plt.show()\n"
      ],
      "metadata": {
        "colab": {
          "base_uri": "https://localhost:8080/",
          "height": 1000
        },
        "id": "FF4GUIeLQZJ5",
        "outputId": "c7afc06b-e8f8-4eea-f8ce-2059d26ae696"
      },
      "execution_count": 35,
      "outputs": [
        {
          "output_type": "display_data",
          "data": {
            "text/plain": [
              "     k           PMF       CDF\n",
              "0    0  1.787134e-02  0.017871\n",
              "1    1  1.031039e-01  0.120975\n",
              "2    2  2.405758e-01  0.361551\n",
              "3    3  2.978557e-01  0.659407\n",
              "4    4  2.156886e-01  0.875095\n",
              "5    5  9.490299e-02  0.969998\n",
              "6    6  2.551156e-02  0.995510\n",
              "7    7  4.100072e-03  0.999610\n",
              "8    8  3.727338e-04  0.999983\n",
              "9    9  1.705318e-05  1.000000\n",
              "10  10  2.923402e-07  1.000000\n",
              "11  11  0.000000e+00  1.000000\n",
              "12  12  0.000000e+00  1.000000\n",
              "13  13  0.000000e+00  1.000000\n",
              "14  14  0.000000e+00  1.000000\n",
              "15  15  0.000000e+00  1.000000"
            ],
            "text/html": [
              "\n",
              "  <div id=\"df-7c7f127c-a3fc-4003-aced-9f8e00e62099\" class=\"colab-df-container\">\n",
              "    <div>\n",
              "<style scoped>\n",
              "    .dataframe tbody tr th:only-of-type {\n",
              "        vertical-align: middle;\n",
              "    }\n",
              "\n",
              "    .dataframe tbody tr th {\n",
              "        vertical-align: top;\n",
              "    }\n",
              "\n",
              "    .dataframe thead th {\n",
              "        text-align: right;\n",
              "    }\n",
              "</style>\n",
              "<table border=\"1\" class=\"dataframe\">\n",
              "  <thead>\n",
              "    <tr style=\"text-align: right;\">\n",
              "      <th></th>\n",
              "      <th>k</th>\n",
              "      <th>PMF</th>\n",
              "      <th>CDF</th>\n",
              "    </tr>\n",
              "  </thead>\n",
              "  <tbody>\n",
              "    <tr>\n",
              "      <th>0</th>\n",
              "      <td>0</td>\n",
              "      <td>1.787134e-02</td>\n",
              "      <td>0.017871</td>\n",
              "    </tr>\n",
              "    <tr>\n",
              "      <th>1</th>\n",
              "      <td>1</td>\n",
              "      <td>1.031039e-01</td>\n",
              "      <td>0.120975</td>\n",
              "    </tr>\n",
              "    <tr>\n",
              "      <th>2</th>\n",
              "      <td>2</td>\n",
              "      <td>2.405758e-01</td>\n",
              "      <td>0.361551</td>\n",
              "    </tr>\n",
              "    <tr>\n",
              "      <th>3</th>\n",
              "      <td>3</td>\n",
              "      <td>2.978557e-01</td>\n",
              "      <td>0.659407</td>\n",
              "    </tr>\n",
              "    <tr>\n",
              "      <th>4</th>\n",
              "      <td>4</td>\n",
              "      <td>2.156886e-01</td>\n",
              "      <td>0.875095</td>\n",
              "    </tr>\n",
              "    <tr>\n",
              "      <th>5</th>\n",
              "      <td>5</td>\n",
              "      <td>9.490299e-02</td>\n",
              "      <td>0.969998</td>\n",
              "    </tr>\n",
              "    <tr>\n",
              "      <th>6</th>\n",
              "      <td>6</td>\n",
              "      <td>2.551156e-02</td>\n",
              "      <td>0.995510</td>\n",
              "    </tr>\n",
              "    <tr>\n",
              "      <th>7</th>\n",
              "      <td>7</td>\n",
              "      <td>4.100072e-03</td>\n",
              "      <td>0.999610</td>\n",
              "    </tr>\n",
              "    <tr>\n",
              "      <th>8</th>\n",
              "      <td>8</td>\n",
              "      <td>3.727338e-04</td>\n",
              "      <td>0.999983</td>\n",
              "    </tr>\n",
              "    <tr>\n",
              "      <th>9</th>\n",
              "      <td>9</td>\n",
              "      <td>1.705318e-05</td>\n",
              "      <td>1.000000</td>\n",
              "    </tr>\n",
              "    <tr>\n",
              "      <th>10</th>\n",
              "      <td>10</td>\n",
              "      <td>2.923402e-07</td>\n",
              "      <td>1.000000</td>\n",
              "    </tr>\n",
              "    <tr>\n",
              "      <th>11</th>\n",
              "      <td>11</td>\n",
              "      <td>0.000000e+00</td>\n",
              "      <td>1.000000</td>\n",
              "    </tr>\n",
              "    <tr>\n",
              "      <th>12</th>\n",
              "      <td>12</td>\n",
              "      <td>0.000000e+00</td>\n",
              "      <td>1.000000</td>\n",
              "    </tr>\n",
              "    <tr>\n",
              "      <th>13</th>\n",
              "      <td>13</td>\n",
              "      <td>0.000000e+00</td>\n",
              "      <td>1.000000</td>\n",
              "    </tr>\n",
              "    <tr>\n",
              "      <th>14</th>\n",
              "      <td>14</td>\n",
              "      <td>0.000000e+00</td>\n",
              "      <td>1.000000</td>\n",
              "    </tr>\n",
              "    <tr>\n",
              "      <th>15</th>\n",
              "      <td>15</td>\n",
              "      <td>0.000000e+00</td>\n",
              "      <td>1.000000</td>\n",
              "    </tr>\n",
              "  </tbody>\n",
              "</table>\n",
              "</div>\n",
              "    <div class=\"colab-df-buttons\">\n",
              "\n",
              "  <div class=\"colab-df-container\">\n",
              "    <button class=\"colab-df-convert\" onclick=\"convertToInteractive('df-7c7f127c-a3fc-4003-aced-9f8e00e62099')\"\n",
              "            title=\"Convert this dataframe to an interactive table.\"\n",
              "            style=\"display:none;\">\n",
              "\n",
              "  <svg xmlns=\"http://www.w3.org/2000/svg\" height=\"24px\" viewBox=\"0 -960 960 960\">\n",
              "    <path d=\"M120-120v-720h720v720H120Zm60-500h600v-160H180v160Zm220 220h160v-160H400v160Zm0 220h160v-160H400v160ZM180-400h160v-160H180v160Zm440 0h160v-160H620v160ZM180-180h160v-160H180v160Zm440 0h160v-160H620v160Z\"/>\n",
              "  </svg>\n",
              "    </button>\n",
              "\n",
              "  <style>\n",
              "    .colab-df-container {\n",
              "      display:flex;\n",
              "      gap: 12px;\n",
              "    }\n",
              "\n",
              "    .colab-df-convert {\n",
              "      background-color: #E8F0FE;\n",
              "      border: none;\n",
              "      border-radius: 50%;\n",
              "      cursor: pointer;\n",
              "      display: none;\n",
              "      fill: #1967D2;\n",
              "      height: 32px;\n",
              "      padding: 0 0 0 0;\n",
              "      width: 32px;\n",
              "    }\n",
              "\n",
              "    .colab-df-convert:hover {\n",
              "      background-color: #E2EBFA;\n",
              "      box-shadow: 0px 1px 2px rgba(60, 64, 67, 0.3), 0px 1px 3px 1px rgba(60, 64, 67, 0.15);\n",
              "      fill: #174EA6;\n",
              "    }\n",
              "\n",
              "    .colab-df-buttons div {\n",
              "      margin-bottom: 4px;\n",
              "    }\n",
              "\n",
              "    [theme=dark] .colab-df-convert {\n",
              "      background-color: #3B4455;\n",
              "      fill: #D2E3FC;\n",
              "    }\n",
              "\n",
              "    [theme=dark] .colab-df-convert:hover {\n",
              "      background-color: #434B5C;\n",
              "      box-shadow: 0px 1px 3px 1px rgba(0, 0, 0, 0.15);\n",
              "      filter: drop-shadow(0px 1px 2px rgba(0, 0, 0, 0.3));\n",
              "      fill: #FFFFFF;\n",
              "    }\n",
              "  </style>\n",
              "\n",
              "    <script>\n",
              "      const buttonEl =\n",
              "        document.querySelector('#df-7c7f127c-a3fc-4003-aced-9f8e00e62099 button.colab-df-convert');\n",
              "      buttonEl.style.display =\n",
              "        google.colab.kernel.accessAllowed ? 'block' : 'none';\n",
              "\n",
              "      async function convertToInteractive(key) {\n",
              "        const element = document.querySelector('#df-7c7f127c-a3fc-4003-aced-9f8e00e62099');\n",
              "        const dataTable =\n",
              "          await google.colab.kernel.invokeFunction('convertToInteractive',\n",
              "                                                    [key], {});\n",
              "        if (!dataTable) return;\n",
              "\n",
              "        const docLinkHtml = 'Like what you see? Visit the ' +\n",
              "          '<a target=\"_blank\" href=https://colab.research.google.com/notebooks/data_table.ipynb>data table notebook</a>'\n",
              "          + ' to learn more about interactive tables.';\n",
              "        element.innerHTML = '';\n",
              "        dataTable['output_type'] = 'display_data';\n",
              "        await google.colab.output.renderOutput(dataTable, element);\n",
              "        const docLink = document.createElement('div');\n",
              "        docLink.innerHTML = docLinkHtml;\n",
              "        element.appendChild(docLink);\n",
              "      }\n",
              "    </script>\n",
              "  </div>\n",
              "\n",
              "\n",
              "<div id=\"df-1fd5f4df-8517-4ec5-87cb-6cf7f04ee0c3\">\n",
              "  <button class=\"colab-df-quickchart\" onclick=\"quickchart('df-1fd5f4df-8517-4ec5-87cb-6cf7f04ee0c3')\"\n",
              "            title=\"Suggest charts\"\n",
              "            style=\"display:none;\">\n",
              "\n",
              "<svg xmlns=\"http://www.w3.org/2000/svg\" height=\"24px\"viewBox=\"0 0 24 24\"\n",
              "     width=\"24px\">\n",
              "    <g>\n",
              "        <path d=\"M19 3H5c-1.1 0-2 .9-2 2v14c0 1.1.9 2 2 2h14c1.1 0 2-.9 2-2V5c0-1.1-.9-2-2-2zM9 17H7v-7h2v7zm4 0h-2V7h2v10zm4 0h-2v-4h2v4z\"/>\n",
              "    </g>\n",
              "</svg>\n",
              "  </button>\n",
              "\n",
              "<style>\n",
              "  .colab-df-quickchart {\n",
              "      --bg-color: #E8F0FE;\n",
              "      --fill-color: #1967D2;\n",
              "      --hover-bg-color: #E2EBFA;\n",
              "      --hover-fill-color: #174EA6;\n",
              "      --disabled-fill-color: #AAA;\n",
              "      --disabled-bg-color: #DDD;\n",
              "  }\n",
              "\n",
              "  [theme=dark] .colab-df-quickchart {\n",
              "      --bg-color: #3B4455;\n",
              "      --fill-color: #D2E3FC;\n",
              "      --hover-bg-color: #434B5C;\n",
              "      --hover-fill-color: #FFFFFF;\n",
              "      --disabled-bg-color: #3B4455;\n",
              "      --disabled-fill-color: #666;\n",
              "  }\n",
              "\n",
              "  .colab-df-quickchart {\n",
              "    background-color: var(--bg-color);\n",
              "    border: none;\n",
              "    border-radius: 50%;\n",
              "    cursor: pointer;\n",
              "    display: none;\n",
              "    fill: var(--fill-color);\n",
              "    height: 32px;\n",
              "    padding: 0;\n",
              "    width: 32px;\n",
              "  }\n",
              "\n",
              "  .colab-df-quickchart:hover {\n",
              "    background-color: var(--hover-bg-color);\n",
              "    box-shadow: 0 1px 2px rgba(60, 64, 67, 0.3), 0 1px 3px 1px rgba(60, 64, 67, 0.15);\n",
              "    fill: var(--button-hover-fill-color);\n",
              "  }\n",
              "\n",
              "  .colab-df-quickchart-complete:disabled,\n",
              "  .colab-df-quickchart-complete:disabled:hover {\n",
              "    background-color: var(--disabled-bg-color);\n",
              "    fill: var(--disabled-fill-color);\n",
              "    box-shadow: none;\n",
              "  }\n",
              "\n",
              "  .colab-df-spinner {\n",
              "    border: 2px solid var(--fill-color);\n",
              "    border-color: transparent;\n",
              "    border-bottom-color: var(--fill-color);\n",
              "    animation:\n",
              "      spin 1s steps(1) infinite;\n",
              "  }\n",
              "\n",
              "  @keyframes spin {\n",
              "    0% {\n",
              "      border-color: transparent;\n",
              "      border-bottom-color: var(--fill-color);\n",
              "      border-left-color: var(--fill-color);\n",
              "    }\n",
              "    20% {\n",
              "      border-color: transparent;\n",
              "      border-left-color: var(--fill-color);\n",
              "      border-top-color: var(--fill-color);\n",
              "    }\n",
              "    30% {\n",
              "      border-color: transparent;\n",
              "      border-left-color: var(--fill-color);\n",
              "      border-top-color: var(--fill-color);\n",
              "      border-right-color: var(--fill-color);\n",
              "    }\n",
              "    40% {\n",
              "      border-color: transparent;\n",
              "      border-right-color: var(--fill-color);\n",
              "      border-top-color: var(--fill-color);\n",
              "    }\n",
              "    60% {\n",
              "      border-color: transparent;\n",
              "      border-right-color: var(--fill-color);\n",
              "    }\n",
              "    80% {\n",
              "      border-color: transparent;\n",
              "      border-right-color: var(--fill-color);\n",
              "      border-bottom-color: var(--fill-color);\n",
              "    }\n",
              "    90% {\n",
              "      border-color: transparent;\n",
              "      border-bottom-color: var(--fill-color);\n",
              "    }\n",
              "  }\n",
              "</style>\n",
              "\n",
              "  <script>\n",
              "    async function quickchart(key) {\n",
              "      const quickchartButtonEl =\n",
              "        document.querySelector('#' + key + ' button');\n",
              "      quickchartButtonEl.disabled = true;  // To prevent multiple clicks.\n",
              "      quickchartButtonEl.classList.add('colab-df-spinner');\n",
              "      try {\n",
              "        const charts = await google.colab.kernel.invokeFunction(\n",
              "            'suggestCharts', [key], {});\n",
              "      } catch (error) {\n",
              "        console.error('Error during call to suggestCharts:', error);\n",
              "      }\n",
              "      quickchartButtonEl.classList.remove('colab-df-spinner');\n",
              "      quickchartButtonEl.classList.add('colab-df-quickchart-complete');\n",
              "    }\n",
              "    (() => {\n",
              "      let quickchartButtonEl =\n",
              "        document.querySelector('#df-1fd5f4df-8517-4ec5-87cb-6cf7f04ee0c3 button');\n",
              "      quickchartButtonEl.style.display =\n",
              "        google.colab.kernel.accessAllowed ? 'block' : 'none';\n",
              "    })();\n",
              "  </script>\n",
              "</div>\n",
              "\n",
              "  <div id=\"id_0319c3b5-540e-487e-b1c2-1b8b45ba8bae\">\n",
              "    <style>\n",
              "      .colab-df-generate {\n",
              "        background-color: #E8F0FE;\n",
              "        border: none;\n",
              "        border-radius: 50%;\n",
              "        cursor: pointer;\n",
              "        display: none;\n",
              "        fill: #1967D2;\n",
              "        height: 32px;\n",
              "        padding: 0 0 0 0;\n",
              "        width: 32px;\n",
              "      }\n",
              "\n",
              "      .colab-df-generate:hover {\n",
              "        background-color: #E2EBFA;\n",
              "        box-shadow: 0px 1px 2px rgba(60, 64, 67, 0.3), 0px 1px 3px 1px rgba(60, 64, 67, 0.15);\n",
              "        fill: #174EA6;\n",
              "      }\n",
              "\n",
              "      [theme=dark] .colab-df-generate {\n",
              "        background-color: #3B4455;\n",
              "        fill: #D2E3FC;\n",
              "      }\n",
              "\n",
              "      [theme=dark] .colab-df-generate:hover {\n",
              "        background-color: #434B5C;\n",
              "        box-shadow: 0px 1px 3px 1px rgba(0, 0, 0, 0.15);\n",
              "        filter: drop-shadow(0px 1px 2px rgba(0, 0, 0, 0.3));\n",
              "        fill: #FFFFFF;\n",
              "      }\n",
              "    </style>\n",
              "    <button class=\"colab-df-generate\" onclick=\"generateWithVariable('df')\"\n",
              "            title=\"Generate code using this dataframe.\"\n",
              "            style=\"display:none;\">\n",
              "\n",
              "  <svg xmlns=\"http://www.w3.org/2000/svg\" height=\"24px\"viewBox=\"0 0 24 24\"\n",
              "       width=\"24px\">\n",
              "    <path d=\"M7,19H8.4L18.45,9,17,7.55,7,17.6ZM5,21V16.75L18.45,3.32a2,2,0,0,1,2.83,0l1.4,1.43a1.91,1.91,0,0,1,.58,1.4,1.91,1.91,0,0,1-.58,1.4L9.25,21ZM18.45,9,17,7.55Zm-12,3A5.31,5.31,0,0,0,4.9,8.1,5.31,5.31,0,0,0,1,6.5,5.31,5.31,0,0,0,4.9,4.9,5.31,5.31,0,0,0,6.5,1,5.31,5.31,0,0,0,8.1,4.9,5.31,5.31,0,0,0,12,6.5,5.46,5.46,0,0,0,6.5,12Z\"/>\n",
              "  </svg>\n",
              "    </button>\n",
              "    <script>\n",
              "      (() => {\n",
              "      const buttonEl =\n",
              "        document.querySelector('#id_0319c3b5-540e-487e-b1c2-1b8b45ba8bae button.colab-df-generate');\n",
              "      buttonEl.style.display =\n",
              "        google.colab.kernel.accessAllowed ? 'block' : 'none';\n",
              "\n",
              "      buttonEl.onclick = () => {\n",
              "        google.colab.notebook.generateWithVariable('df');\n",
              "      }\n",
              "      })();\n",
              "    </script>\n",
              "  </div>\n",
              "\n",
              "    </div>\n",
              "  </div>\n"
            ],
            "application/vnd.google.colaboratory.intrinsic+json": {
              "type": "dataframe",
              "variable_name": "df",
              "summary": "{\n  \"name\": \"df\",\n  \"rows\": 16,\n  \"fields\": [\n    {\n      \"column\": \"k\",\n      \"properties\": {\n        \"dtype\": \"number\",\n        \"std\": 4,\n        \"min\": 0,\n        \"max\": 15,\n        \"num_unique_values\": 16,\n        \"samples\": [\n          0,\n          1,\n          5\n        ],\n        \"semantic_type\": \"\",\n        \"description\": \"\"\n      }\n    },\n    {\n      \"column\": \"PMF\",\n      \"properties\": {\n        \"dtype\": \"number\",\n        \"std\": 0.10041263332213851,\n        \"min\": 0.0,\n        \"max\": 0.2978556995210343,\n        \"num_unique_values\": 12,\n        \"samples\": [\n          2.923402141474524e-07,\n          1.7053179158601387e-05,\n          0.01787134197126206\n        ],\n        \"semantic_type\": \"\",\n        \"description\": \"\"\n      }\n    },\n    {\n      \"column\": \"CDF\",\n      \"properties\": {\n        \"dtype\": \"number\",\n        \"std\": 0.33812263688609956,\n        \"min\": 0.01787134197126206,\n        \"max\": 1.0,\n        \"num_unique_values\": 11,\n        \"samples\": [\n          0.9699982931829035,\n          0.01787134197126206,\n          0.9999997076597859\n        ],\n        \"semantic_type\": \"\",\n        \"description\": \"\"\n      }\n    }\n  ]\n}"
            }
          },
          "metadata": {}
        },
        {
          "output_type": "display_data",
          "data": {
            "text/plain": [
              "<Figure size 1400x600 with 2 Axes>"
            ],
            "image/png": "[encoded data removed]"
          },
          "metadata": {}
        }
      ]
    },
    {
      "cell_type": "markdown",
      "source": [
        "## **Conclusion**"
      ],
      "metadata": {
        "id": "BTS4EPlaUO49"
      }
    },
    {
      "cell_type": "markdown",
      "source": [
        "📊 Discrete Probability Distributions provide a way to model and analyze random phenomena that can take on only a finite or countable number of possible outcomes.\n",
        "\n",
        "📈 Examples of discrete probability distributions include the Binomial distribution, Poisson distribution, Geometric distribution, and Hypergeometric distribution.\n",
        "\n",
        "📉 These distributions can be used to calculate probabilities of certain events occurring, such as the probability of a certain number of successes in a fixed number of trials (Binomial) or the probability of a certain number of arrivals in a given time interval (Poisson).\n",
        "\n",
        "🤔 It is important to choose the appropriate distribution for the situation, as using the wrong distribution can lead to incorrect results.\n",
        "\n",
        "🧮 In order to use these distributions in practice, we often need to calculate expected values, variances, and standard deviations. This can be done using formulas specific to each distribution.\n",
        "\n"
      ],
      "metadata": {
        "id": "hIpqmFM-URIs"
      }
    },
    {
      "cell_type": "markdown",
      "source": [
        "------------------"
      ],
      "metadata": {
        "id": "YOfewSQCOa5S"
      }
    },
    {
      "cell_type": "markdown",
      "source": [
        "# **✅ Summary ✅**"
      ],
      "metadata": {
        "id": "qOSvrKCXNUQw"
      }
    },
    {
      "cell_type": "markdown",
      "source": [
        "###🧠 **What Did You Learn?** 📚\n",
        "\n",
        "Congratulations on completing our lesson on discrete probability distributions! Here's a quick summary of what you learned:\n",
        "\n",
        "🎲 Probability mass function (PMF) is a function that maps each possible outcome of a random variable to its probability.\n",
        "\n",
        "📈 Cumulative distribution function (CDF) is a function that shows the probability of a random variable being less than or equal to a certain value.\n",
        "\n",
        "🔮 Expected value and variance are measures of the central tendency and variability of a probability distribution, respectively.\n",
        "\n",
        "🎯 The binomial distribution is used to describe the number of successes in a fixed number of independent trials.\n",
        "\n",
        "🐠 The Poisson distribution is used to describe the number of events occurring in a fixed interval of time or space.\n",
        "\n",
        "🚶 The geometric distribution is used to describe the number of trials needed to obtain the first success.\n",
        "\n",
        "🃏 The hypergeometric distribution is used to describe the number of successes in a sample drawn without replacement from a finite population.\n",
        "\n",
        "🧮 By mastering these concepts and their applications, you can analyze real-world scenarios and make informed predictions. Plus, you'll enhance your mathematical and statistical skills, and develop your critical thinking and problem-solving abilities.\n",
        "\n",
        "🤖 So keep practicing and exploring the fascinating world of probability distributions, and remember to have fun along the way! 🎉"
      ],
      "metadata": {
        "id": "FjrjIZxQNXVZ"
      }
    },
    {
      "cell_type": "markdown",
      "source": [
        "###📚 **Here are some additional reading materials and activities that can help you deepen your understanding of discrete probability distributions!** 🎓\n",
        "\n",
        "📖 Read \"Introduction to Probability\" by Blitzstein and Hwang, which provides a comprehensive introduction to probability theory and its applications.\n",
        "\n",
        "📊 Practice using statistical software such as R or Python to solve problems and generate visualizations of probability distributions.\n",
        "\n",
        "🧩 Solve puzzles and brain teasers that involve probability distributions, such as the Monty Hall problem or the birthday problem.\n",
        "\n",
        "👥 Join online forums or discussion groups to connect with other students and instructors and exchange tips and strategies for solving problems.\n",
        "\n",
        "📺 Watch videos and lectures on probability distributions, such as those available on YouTube or Coursera.\n",
        "\n",
        "🎲 Play games that involve probability distributions, such as card games or board games like Risk or Settlers of Catan.\n",
        "\n",
        "👨‍🏫 Attend workshops or seminars on probability distributions, either in person or online, to learn from experts in the field.\n",
        "\n",
        "🔎 Explore case studies and real-world examples of probability distributions in action, such as how they are used in risk management or in analyzing data from social media platforms.\n",
        "\n",
        "👩‍💻 Experiment with simulation tools that allow you to simulate and visualize different probability distributions, such as the Wolfram Demonstrations Project or GeoGebra.\n",
        "\n",
        "Additional reading:\n",
        "\n",
        "1. https://www.researchgate.net/publication/260859286_The_Poisson_Distribution\n",
        "\n",
        "2. https://www.researchgate.net/publication/237825718_Identities_Based_on_Probability_Mass_Functions"
      ],
      "metadata": {
        "id": "3B6ce-QUw5LL"
      }
    },
    {
      "cell_type": "markdown",
      "source": [
        "## **Task 1**"
      ],
      "metadata": {
        "id": "vMfY0za5RHXv"
      }
    },
    {
      "cell_type": "markdown",
      "source": [
        "### **🎓 Activity 1:**"
      ],
      "metadata": {
        "id": "jlMupEtSgzUi"
      }
    },
    {
      "cell_type": "markdown",
      "source": [
        "A fair six-sided die is rolled two times. What is the probability of getting a sum of 7?"
      ],
      "metadata": {
        "id": "XbBcKBBcHNiT"
      }
    },
    {
      "cell_type": "markdown",
      "source": [
        "### **🎓 Activity 2:**"
      ],
      "metadata": {
        "id": "UvCYGsk8HWXp"
      }
    },
    {
      "cell_type": "markdown",
      "source": [
        "Suppose the heights of a group of people are normally distributed with a mean of 68 inches and a standard deviation of 3 inches. What is the probability that a randomly selected person from this group is shorter than 70 inches tall?\n",
        "\n"
      ],
      "metadata": {
        "id": "Nx00r-IwHWXv"
      }
    },
    {
      "cell_type": "markdown",
      "source": [
        "### **🎓 Activity 3:**"
      ],
      "metadata": {
        "id": "P_TvWJFfHdsa"
      }
    },
    {
      "cell_type": "markdown",
      "source": [
        "A call center receives an average of 30 calls per hour. What is the probability that the call center will receive exactly 40 calls in a given hour, assuming that the number of calls follows a Poisson distribution?\n",
        "\n"
      ],
      "metadata": {
        "id": "FOd38GMJHdsh"
      }
    },
    {
      "cell_type": "markdown",
      "source": [
        "### **🎓 Activity 4:**"
      ],
      "metadata": {
        "id": "DJIFFN3THnM1"
      }
    },
    {
      "cell_type": "markdown",
      "source": [
        "A coin is tossed 12 times. What is the probability of getting exactly 7 heads?"
      ],
      "metadata": {
        "id": "dTMcHIL5HnM8"
      }
    }
  ]
}